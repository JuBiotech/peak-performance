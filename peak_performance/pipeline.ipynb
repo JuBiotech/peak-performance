{
 "cells": [
  {
   "cell_type": "code",
   "execution_count": null,
   "metadata": {},
   "outputs": [],
   "source": [
    "from peak_performance import pipeline as pl"
   ]
  },
  {
   "attachments": {},
   "cell_type": "markdown",
   "metadata": {},
   "source": [
    "User information"
   ]
  },
  {
   "cell_type": "code",
   "execution_count": null,
   "metadata": {},
   "outputs": [],
   "source": [
    "# 1: Specify the absolute path to the raw data files.\n",
    "path = r\"\"\n",
    "\n",
    "# obtain a list of raw data file names\n",
    "raw_data_files = pl.detect_npy(path)\n",
    "print(raw_data_files)\n",
    "\n",
    "# necessary information from the user\n",
    "peak_width_estimate = 1     # 2: Give a rough estimate of the average peak width in minutes you would expect for your LC-MS method.\n",
    "pre_filtering = True        # 3: Set this variable to True if you want to check for peaks before fitting/sampling to potentially save a lot of computation time. If you choose True, then you have to provide an expected retention time for each signal.\n",
    "double_peak = []            # 4: List with Booleans in the same order as raw_data_files. Set to True for a given signal, if the signal contains a double peak, and set to False, if it contains a single peak. Visually check this beforehand.\n",
    "retention_time_estimate = []    # 5: in case you set pre_filtering to True, give a retention time estimate (float) for each signal in raw_data_files. In case of a double peak, give two retention times (in chronological order) as a tuple containing two floats.\n",
    "\n",
    "# instantiate the UserInput class with the given information\n",
    "ui = pl.UserInput(path, raw_data_files, double_peak, retention_time_estimate, peak_width_estimate, pre_filtering)"
   ]
  },
  {
   "attachments": {},
   "cell_type": "markdown",
   "metadata": {},
   "source": [
    "Pipeline"
   ]
  },
  {
   "cell_type": "code",
   "execution_count": null,
   "metadata": {},
   "outputs": [],
   "source": [
    "# create data structure and DataFrame(s) for results \n",
    "pl.initialize(path)\n",
    "for file in raw_data_files:\n",
    "    # parse the data and extract information from the (standardized) file name\n",
    "    pl.parse_data(file)\n",
    "    # "
   ]
  }
 ],
 "metadata": {
  "language_info": {
   "name": "python"
  },
  "orig_nbformat": 4
 },
 "nbformat": 4,
 "nbformat_minor": 2
}
