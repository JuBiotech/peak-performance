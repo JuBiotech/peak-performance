{
 "cells": [
  {
   "cell_type": "code",
   "execution_count": 1,
   "metadata": {},
   "outputs": [],
   "source": [
    "import arviz as az\n",
    "import numpy as np\n",
    "import pymc as pm\n",
    "import pytensor.tensor as pt\n",
    "from matplotlib import pyplot\n",
    "import scipy.stats as st\n",
    "import scipy.signal\n",
    "import scipy.integrate\n",
    "import pandas\n",
    "import openpyxl\n",
    "import json\n",
    "import math\n",
    "import timeit"
   ]
  },
  {
   "cell_type": "code",
   "execution_count": 74,
   "metadata": {},
   "outputs": [],
   "source": [
    "# Amino acid Payzia 35 min, Part 2\n",
    "#asdf\n",
    "# name of the measurement batch\n",
    "batch = \"2023_01_19_Testdatensatz\"\n",
    "# name of the acquisitions\n",
    "acquisitions = [\n",
    "    'A1_t1_1_Part2',\n",
    "    'A2_t2_1_Part2',\n",
    "    'A3_t3_1_Part2',\n",
    "    'A4_t4_1_Part2',\n",
    "    'A5_t5_1_Part2',\n",
    "    'A6_t6_1_Part2',\n",
    "    'A7_t7_1_Part2',\n",
    "    'A8_t8_1_Part2',\n",
    "    'B1_t1_2_Part2',\n",
    "    'B7_t7_2_Part2',\n",
    "    'B8_t8_2_Part2',\n",
    "    'C1_t1_3_Part2',\n",
    "    'C8_t8_3_Part2',\n",
    "    'D5_t13_1_Part2',\n",
    "    'E5_t13_2_Part2',\n",
    "    'F5_t13_3_Part2'\n",
    "]\n",
    "# all information pertaining to XIC extraction, i.e. \"time\": [t_start, t_end, t_ret], \"MS_info\": [[precursor m/z, product m/z start, product m/z end, mass trace],...]\n",
    "user_info = {\n",
    "    # 'Val55':{\n",
    "    #     \"time\": [8, 12, 9.9],\n",
    "    #     \"MS_info\": [\n",
    "    #         [118, 54.95, 55.15, 'M0_m0', True, \"2nd\"],\n",
    "    #         [119, 54.95, 55.15, 'M1_m0', True, \"2nd\"],\n",
    "    #         [119, 55.95, 56.15, 'M1_m1', True, \"2nd\"],\n",
    "    #         [120, 55.95, 56.15, 'M2_m1', True, \"2nd\"],\n",
    "    #         [120, 56.95, 57.15, 'M2_m2', True, \"2nd\"],\n",
    "    #         [121, 56.95, 57.15, 'M3_m2', True, \"2nd\"],\n",
    "    #         [121, 57.95, 58.15, 'M3_m3', True, \"2nd\"],\n",
    "    #         [122, 57.95, 58.15, 'M4_m3', False, \"2nd\"],\n",
    "    #         [122, 58.95, 59.15, 'M4_m4', False, \"2nd\"],\n",
    "    #         [123, 58.95, 59.15, 'M5_m4', False, \"2nd\"]],\n",
    "    #     \"double_peak\": False,\n",
    "    #     \"duplicate\": True,\n",
    "    # },\n",
    "    # 'Val72':{\n",
    "    #     \"time\": [8, 12, 9.9],\n",
    "    #     \"MS_info\": [\n",
    "    #         [118, 71.98, 72.18, 'M0_m0', True, \"2nd\"],\n",
    "    #         [119, 71.98, 72.18, 'M1_m0', True, \"2nd\"],\n",
    "    #         [119, 72.98, 73.18, 'M1_m1', True, \"2nd\"],\n",
    "    #         [120, 72.98, 73.18, 'M2_m1', True, \"2nd\"],\n",
    "    #         [120, 73.98, 74.18, 'M2_m2', True, \"2nd\"],\n",
    "    #         [121, 73.98, 74.18, 'M3_m2', True, \"2nd\"],\n",
    "    #         [121, 74.98, 75.18, 'M3_m3', True, \"2nd\"],\n",
    "    #         [122, 74.98, 75.18, 'M4_m3', False, \"2nd\"],\n",
    "    #         [122, 75.98, 76.18, 'M4_m4', False, \"2nd\"],\n",
    "    #         [123, 75.98, 76.18, 'M5_m4', False, \"2nd\"]],\n",
    "    #     \"double_peak\": False,\n",
    "    #     \"duplicate\": True,\n",
    "    # },\n",
    "    # 'Orn70':{\n",
    "    #     \"time\": [24, 27.5, 25.8],\n",
    "    #     \"MS_info\": [\n",
    "    #         [133, 69.96, 70.16, 'M0_m0'],\n",
    "    #         [134, 69.96, 70.16, 'M1_m0'],\n",
    "    #         [134, 70.96, 71.16, 'M1_m1'],\n",
    "    #         [135, 70.96, 71.16, 'M2_m1'],\n",
    "    #         [135, 71.96, 72.16, 'M2_m2'],\n",
    "    #         [136, 71.96, 72.16, 'M3_m2'],\n",
    "    #         [136, 72.96, 73.16, 'M3_m3'],\n",
    "    #         [137, 72.96, 73.16, 'M4_m3'],\n",
    "    #         [137, 73.96, 74.16, 'M4_m4'],\n",
    "    #         [138, 73.96, 74.16, 'M5_m4']],\n",
    "    #     \"double_peak\": False,\n",
    "    #     \"duplicate\": False,\n",
    "    # },\n",
    "    # 'Pro70':{\n",
    "    #     \"time\": [6, 9, 7.8],\n",
    "    #     \"MS_info\": [\n",
    "    #         [116, 69.96, 70.16, 'M0_m0', False, \"1st\"],\n",
    "    #         [117, 69.96, 70.16, 'M1_m0', False, \"1st\"],\n",
    "    #         [117, 70.96, 71.16, 'M1_m1', False, \"1st\"],\n",
    "    #         [118, 70.96, 71.16, 'M2_m1', True, \"1st\"],\n",
    "    #         [118, 71.96, 72.16, 'M2_m2', True, \"1st\"],\n",
    "    #         [119, 71.96, 72.16, 'M3_m2', True, \"1st\"],\n",
    "    #         [119, 72.96, 73.16, 'M3_m3', True, \"1st\"],\n",
    "    #         [120, 72.96, 73.16, 'M4_m3', True, \"1st\"],\n",
    "    #         [120, 73.96, 74.16, 'M4_m4', True, \"1st\"],\n",
    "    #         [121, 73.96, 74.16, 'M5_m4', True, \"1st\"]],\n",
    "    #     \"double_peak\": False,\n",
    "    #     \"duplicate\": True,\n",
    "    # },\n",
    "    # 'Met104':{\n",
    "    #     \"time\": [4, 7, 5.2],\n",
    "    #     \"MS_info\": [\n",
    "    #         [150, 103.95, 104.15, 'M0_m0', True, \"1st\"],\n",
    "    #         [151, 103.95, 104.15, 'M1_m0', True, \"1st\"],\n",
    "    #         [151, 104.95, 105.15, 'M1_m1', True, \"1st\"],\n",
    "    #         [152, 104.95, 105.15, 'M2_m1', True, \"1st\"],\n",
    "    #         [152, 105.95, 106.15, 'M2_m2', True, \"1st\"],\n",
    "    #         [153, 105.95, 106.15, 'M3_m2', True, \"1st\"],\n",
    "    #         [153, 106.95, 107.15, 'M3_m3', True, \"1st\"],\n",
    "    #         [154, 106.95, 107.15, 'M4_m3', False, \"1st\"],\n",
    "    #         [154, 107.95, 108.15, 'M4_m4', False, \"1st\"],\n",
    "    #         [155, 107.95, 108.15, 'M5_m4', False, \"1st\"]],\n",
    "    #     \"double_peak\": False,\n",
    "    #     \"duplicate\": False,\n",
    "    # },\n",
    "    # 'Met133':{\n",
    "    #     \"time\": [4, 7, 5.2],\n",
    "    #     \"MS_info\": [\n",
    "    #         [150, 132.93, 133.13, 'M0_m0', True, \"1st\"],\n",
    "    #         [151, 133.93, 134.13, 'M1_m1', True, \"1st\"],\n",
    "    #         [152, 134.93, 135.13, 'M2_m2', True, \"1st\"],\n",
    "    #         [153, 135.93, 136.13, 'M3_m3', True, \"1st\"],\n",
    "    #         [154, 136.93, 137.13, 'M4_m4', False, \"1st\"],\n",
    "    #         [155, 137.93, 138.13, 'M5_m5', False, \"1st\"]],\n",
    "    #     \"double_peak\": False,\n",
    "    #     \"duplicate\": False,\n",
    "    # },\n",
    "    'His110':{\n",
    "        \"time\": [24.5, 29, 26.2],\n",
    "        \"MS_info\": [\n",
    "            [156, 109.97, 110.17, 'M0_m0'],\n",
    "            # [157, 109.97, 110.17, 'M1_m0'],\n",
    "            # [157, 110.97, 111.17, 'M1_m1'],\n",
    "            # [158, 110.97, 111.17, 'M2_m1'],\n",
    "            # [158, 111.97, 112.17, 'M2_m2'],\n",
    "            # [159, 111.97, 112.17, 'M3_m2'],\n",
    "            # [159, 112.97, 113.17, 'M3_m3'],\n",
    "            # [160, 112.97, 113.17, 'M4_m3'],\n",
    "            # [160, 113.97, 114.17, 'M4_m4'],\n",
    "            # [161, 113.97, 114.17, 'M5_m4'],\n",
    "            # [161, 114.97, 115.17, 'M5_m5'],\n",
    "            # [162, 114.97, 115.17, 'M6_m5']\n",
    "            ],\n",
    "        \"double_peak\": False,\n",
    "        \"duplicate\": False,\n",
    "    },\n",
    "    # 'Lys84':{\n",
    "    #     \"time\": [25.5, 28.5, 26.9],\n",
    "    #     \"MS_info\": [\n",
    "    #         [147, 84.0, 84.2, 'M0_m0', False, \"1st\"],\n",
    "    #         [148, 84.0, 84.2, 'M1_m0', False, \"1st\"],\n",
    "    #         [148, 85.0, 85.2, 'M1_m1', False, \"1st\"],\n",
    "    #         [149, 85.0, 85.2, 'M2_m1', False, \"1st\"],\n",
    "    #         [149, 86.0, 86.2, 'M2_m2', False, \"1st\"],\n",
    "    #         [150, 86.0, 86.2, 'M3_m2', True, \"2nd\"],\n",
    "    #         [150, 87.0, 87.2, 'M3_m3', True, \"2nd\"],\n",
    "    #         [151, 87.0, 87.2, 'M4_m3', True, \"2nd\"],\n",
    "    #         [151, 88.0, 88.2, 'M4_m4', True, \"2nd\"],\n",
    "    #         [152, 88.0, 88.2, 'M5_m4', True, \"2nd\"],\n",
    "    #         [152, 89.0, 89.2, 'M5_m5', True, \"2nd\"],\n",
    "    #         [153, 89.0, 89.2, 'M6_m5', True, \"2nd\"]],\n",
    "    #     \"double_peak\": False,\n",
    "    #     \"duplicate\": False,\n",
    "    # },\n",
    "    # 'Lys130':{\n",
    "    #     \"time\": [25.5, 28.5, 26.9],\n",
    "    #     \"MS_info\": [\n",
    "    #         [147, 130.0, 130.2, 'M0_m0', False, \"1st\"],\n",
    "    #         [148, 131.0, 131.2, 'M1_m1', False, \"1st\"],\n",
    "    #         [149, 132.0, 132.2, 'M2_m2', False, \"1st\"],\n",
    "    #         [150, 133.0, 133.2, 'M3_m3', True, \"2nd\"],\n",
    "    #         [151, 134.0, 134.2, 'M4_m4', True, \"2nd\"],\n",
    "    #         [152, 135.0, 135.2, 'M5_m5', True, \"2nd\"],\n",
    "    #         [153, 136.0, 136.2, 'M6_m6', True, \"2nd\"]],\n",
    "    #     \"double_peak\": False,\n",
    "    #     \"duplicate\": False,\n",
    "    # },\n",
    "    # 'Arg60':{\n",
    "    #     \"time\": [28, 31.5, 29.9],\n",
    "    #     \"MS_info\": [\n",
    "    #         [175, 69.96, 70.16, 'M0_m0', False, \"1st\"],\n",
    "    #         [176, 69.96, 70.16, 'M1_m0', True, \"2nd\"],\n",
    "    #         [176, 70.96, 71.16, 'M1_m1', True, \"2nd\"],\n",
    "    #         [177, 69.96, 70.16, 'M2_m0', True, \"2nd\"],\n",
    "    #         [177, 70.96, 71.16, 'M2_m1', True, \"2nd\"],\n",
    "    #         [178, 69.96, 70.16, 'M3_m0', True, \"2nd\"],\n",
    "    #         [178, 70.96, 71.16, 'M3_m1', True, \"2nd\"],\n",
    "    #         [179, 69.96, 70.16, 'M4_m0', True, \"2nd\"],\n",
    "    #         [179, 70.96, 71.16, 'M4_m1', True, \"2nd\"],\n",
    "    #         [180, 69.96, 70.16, 'M5_m0', True, \"2nd\"],\n",
    "    #         [180, 70.96, 71.16, 'M5_m1', True, \"2nd\"],\n",
    "    #         [181, 70.96, 71.16, 'M6_m1', True, \"2nd\"]],\n",
    "    #     \"double_peak\": False,\n",
    "    #     \"duplicate\": False,\n",
    "    # },\n",
    "    # 'Arg70':{\n",
    "    #     \"time\": [28, 31.5, 29.9],\n",
    "    #     \"MS_info\": [\n",
    "    #         [175, 69.96, 70.16, 'M0_m0', False, \"1st\"],\n",
    "    #         [176, 69.96, 70.16, 'M1_m0', True, \"2nd\"],\n",
    "    #         [176, 70.96, 71.16, 'M1_m1', True, \"2nd\"],\n",
    "    #         [177, 69.96, 70.16, 'M2_m0', True, \"2nd\"],\n",
    "    #         [177, 70.96, 71.16, 'M2_m1', True, \"2nd\"],\n",
    "    #         [177, 71.96, 72.16, 'M2_m2', True, \"2nd\"],\n",
    "    #         [178, 70.96, 71.16, 'M3_m1', True, \"2nd\"],\n",
    "    #         [178, 71.96, 72.16, 'M3_m2', True, \"2nd\"],\n",
    "    #         [178, 72.96, 73.16, 'M3_m3', True, \"2nd\"],\n",
    "    #         [179, 71.96, 72.16, 'M4_m2', True, \"2nd\"],\n",
    "    #         [179, 72.96, 73.16, 'M4_m3', True, \"2nd\"],\n",
    "    #         [179, 73.96, 74.16, 'M4_m4', True, \"2nd\"],\n",
    "    #         [180, 72.96, 73.16, 'M5_m3', True, \"2nd\"],\n",
    "    #         [180, 73.96, 74.16, 'M5_m4', True, \"2nd\"],\n",
    "    #         [181, 73.96, 74.16, 'M6_m4', True, \"2nd\"]],\n",
    "    #     \"double_peak\": False,\n",
    "    #     \"duplicate\": False,\n",
    "    # },\n",
    "    # 'Cit70':{\n",
    "    #     \"time\": [7, 10.5, 9.1],\n",
    "    #     \"MS_info\": [\n",
    "    #         [176, 69.96, 70.16, 'M0_m0', True, \"1st\"],\n",
    "    #         [177, 69.96, 70.16, 'M1_m0', True, \"1st\"],\n",
    "    #         [177, 70.96, 71.16, 'M1_m1', True, \"1st\"],\n",
    "    #         [178, 69.96, 70.16, 'M2_m0', True, \"1st\"],\n",
    "    #         [178, 70.96, 71.16, 'M2_m1', True, \"1st\"],\n",
    "    #         [178, 71.96, 72.16, 'M2_m2', True, \"1st\"],\n",
    "    #         [179, 70.96, 71.16, 'M3_m1', True, \"1st\"],\n",
    "    #         [179, 71.96, 72.16, 'M3_m2', True, \"1st\"],\n",
    "    #         [179, 72.96, 73.16, 'M3_m3', True, \"1st\"],\n",
    "    #         [180, 71.96, 72.16, 'M4_m2', True, \"1st\"],\n",
    "    #         [180, 72.96, 73.16, 'M4_m3', True, \"1st\"],\n",
    "    #         [180, 73.96, 74.16, 'M4_m4', True, \"1st\"],\n",
    "    #         [181, 72.96, 73.16, 'M5_m3', True, \"1st\"],\n",
    "    #         [181, 73.96, 74.16, 'M5_m4', True, \"1st\"],\n",
    "    #         [182, 73.96, 74.16, 'M6_m4', False, \"1st\"]],\n",
    "    #     \"double_peak\": False,\n",
    "    #     \"duplicate\": False,\n",
    "    # },\n",
    "    # 'Tyr182':{\n",
    "    #     \"time\": [5, 8.2, 6.6],\n",
    "    #     \"MS_info\": [\n",
    "    #         [182, 182.0, 182.2, 'M0_m0'],\n",
    "    #         [183, 183.0, 183.2, 'M1_m1'],\n",
    "    #         [184, 184.0, 184.2, 'M2_m2'],\n",
    "    #         [185, 185.0, 185.2, 'M3_m3'],\n",
    "    #         [186, 186.0, 186.2, 'M4_m4'],\n",
    "    #         [187, 187.0, 187.2, 'M5_m5'],\n",
    "    #         [188, 188.0, 188.2, 'M6_m6'],\n",
    "    #         [189, 189.0, 189.2, 'M7_m7'],\n",
    "    #         [190, 190.0, 190.2, 'M8_m8'],\n",
    "    #         [191, 191.0, 191.2, 'M9_m9']],\n",
    "    #     \"double_peak\": False,\n",
    "    #     \"duplicate\": False,\n",
    "    # },\n",
    "    # 'Tyr165':{\n",
    "    #     \"time\": [5, 8.2, 6.6],\n",
    "    #     \"MS_info\": [\n",
    "    #         [182, 164.95, 165.15, 'M0_m0'],\n",
    "    #         [183, 165.95, 166.15, 'M1_m1'],\n",
    "    #         [184, 166.95, 167.15, 'M2_m2'],\n",
    "    #         [185, 167.95, 168.15, 'M3_m3'],\n",
    "    #         [186, 168.95, 169.15, 'M4_m4'],\n",
    "    #         [187, 169.95, 170.15, 'M5_m5'],\n",
    "    #         [188, 170.95, 171.15, 'M6_m6'],\n",
    "    #         [189, 171.95, 172.15, 'M7_m7'],\n",
    "    #         [190, 172.95, 173.15, 'M8_m8'],\n",
    "    #         [191, 173.95, 174.15, 'M9_m9']],\n",
    "    #     \"double_peak\": False,\n",
    "    #     \"duplicate\": False,\n",
    "    # },\n",
    "    # 'Tyr136':{\n",
    "    #     \"time\": [5, 8.2, 6.6],\n",
    "    #     \"MS_info\": [\n",
    "    #         [182, 135.97, 136.17, 'M0_m0'],\n",
    "    #         [183, 135.97, 136.17, 'M1_m0'],\n",
    "    #         [183, 136.97, 137.17, 'M1_m1'],\n",
    "    #         [184, 136.97, 137.17, 'M2_m1'],\n",
    "    #         [184, 137.97, 138.17, 'M2_m2'],\n",
    "    #         [185, 137.97, 138.17, 'M3_m2'],\n",
    "    #         [185, 138.97, 139.17, 'M3_m3'],\n",
    "    #         [186, 138.97, 139.17, 'M4_m3'],\n",
    "    #         [186, 139.97, 140.17, 'M4_m4'],\n",
    "    #         [187, 139.97, 140.17, 'M5_m4'],\n",
    "    #         [187, 140.97, 141.17, 'M5_m5'],\n",
    "    #         [188, 140.97, 141.17, 'M6_m5'],\n",
    "    #         [188, 141.97, 142.17, 'M6_m6'],\n",
    "    #         [189, 141.97, 142.17, 'M7_m6'],\n",
    "    #         [189, 142.97, 143.17, 'M7_m7'],\n",
    "    #         [190, 142.97, 143.17, 'M8_m7'],\n",
    "    #         [190, 143.97, 144.17, 'M8_m8'],\n",
    "    #         [191, 143.97, 144.17, 'M9_m8']],\n",
    "    #     \"double_peak\": False,\n",
    "    #     \"duplicate\": False,\n",
    "    # },\n",
    "    # 'Ala44':{\n",
    "    #     \"time\": [7, 10, 8.3],\n",
    "    #     \"MS_info\": [\n",
    "    #         [90, 43.9, 44.1, 'M0_m0'],\n",
    "    #         [91, 43.9, 44.1, 'M1_m0'],\n",
    "    #         [91, 44.9, 45.1, 'M1_m1'],\n",
    "    #         [92, 44.9, 45.1, 'M2_m1'],\n",
    "    #         [92, 45.9, 46.1, 'M2_m2'],\n",
    "    #         [93, 45.9, 46.1, 'M3_m2']],\n",
    "    #     \"double_peak\": False,\n",
    "    #     \"duplicate\": False,\n",
    "    # },\n",
    "    # 'Gly30':{\n",
    "    #     \"time\": [6.5, 9.5, 7.9],\n",
    "    #     \"MS_info\": [\n",
    "    #         [76, 30.0, 30.3, 'M0_m0'],\n",
    "    #         [77, 30.0, 30.3, 'M1_m0'],\n",
    "    #         [77, 31.0, 31.3, 'M1_m1'],\n",
    "    #         [78, 31.0, 31.3, 'M2_m1']],\n",
    "    #     \"double_peak\": False,\n",
    "    #     \"duplicate\": False,\n",
    "    # },\n",
    "    # 'Gly76':{\n",
    "    #     \"time\": [6.5, 9.5, 7.9],\n",
    "    #     \"MS_info\": [\n",
    "    #         [76, 30.0, 30.3, 'M0_m0'],\n",
    "    #         [77, 31.0, 31.3, 'M1_m1'],\n",
    "    #         [78, 32.0, 32.3, 'M2_m2']],\n",
    "    #     \"double_peak\": False,\n",
    "    #     \"duplicate\": False,\n",
    "    # },\n",
    "}"
   ]
  },
  {
   "cell_type": "code",
   "execution_count": 51,
   "metadata": {},
   "outputs": [],
   "source": [
    "# Amino acid Payzia 35 min, Part 1\n",
    "# name of the measurement batch\n",
    "batch = \"2023_01_19_Testdatensatz\"\n",
    "# name of the acquisitions\n",
    "acquisitions = [\n",
    "    'A1_t1_1_Part1',\n",
    "    'A2_t2_1_Part1',\n",
    "    'A3_t3_1_Part1',\n",
    "    'A4_t4_1_Part1',\n",
    "    'A5_t5_1_Part1',\n",
    "    'A6_t6_1_Part1',\n",
    "    'A7_t7_1_Part1',\n",
    "    'A8_t8_1_Part1',\n",
    "    'B1_t1_2_Part1',\n",
    "    'B7_t7_2_Part1',\n",
    "    'B8_t8_2_Part1',\n",
    "    'C1_t1_3_Part1',\n",
    "    'C8_t8_3_Part1',\n",
    "    'D5_t13_1_Part1',\n",
    "    'E5_t13_2_Part1',\n",
    "    'F5_t13_3_Part1'\n",
    "]\n",
    "# all information pertaining to XIC extraction, i.e. \"time\": [t_start, t_end, t_ret], \"MS_info\": [[precursor m/z, product m/z start, product m/z end, mass trace],...]\n",
    "user_info = {\n",
    "    'Asp74':{\n",
    "        \"time\": [2.5, 5.5, 3.8],\n",
    "        \"MS_info\": [\n",
    "            [133, 69.9, 70.1, 'M0_m0'],\n",
    "            [134, 69.9, 70.1, 'M1_m0'],\n",
    "            [134, 70.9, 71.1, 'M1_m1'],\n",
    "            [135, 69.9, 70.1, 'M2_m0'],\n",
    "            [135, 70.9, 71.1, 'M2_m1'],\n",
    "            [135, 71.9, 72.1, 'M2_m2'],\n",
    "            [136, 70.9, 71.1, 'M3_m1'],\n",
    "            [136, 71.9, 72.1, 'M3_m2'],\n",
    "            [137, 71.9, 72.1, 'M4_m2']],\n",
    "        \"double_peak\": False,\n",
    "        \"duplicate\": False,\n",
    "    },\n",
    "    'Glu84':{\n",
    "        \"time\": [4, 6.4, 5.3],\n",
    "        \"MS_info\": [\n",
    "            [148, 83.9, 84.1, 'M0_m0'],\n",
    "            [149, 83.9, 84.1, 'M1_m0'],\n",
    "            [149, 84.9, 85.1, 'M1_m1'],\n",
    "            [150, 84.9, 85.1, 'M2_m1'],\n",
    "            [150, 85.9, 86.1, 'M2_m2'],\n",
    "            [151, 85.9, 86.1, 'M3_m2'],\n",
    "            [151, 86.9, 87.1, 'M3_m3'],\n",
    "            [152, 86.9, 87.1, 'M4_m3'],\n",
    "            [152, 87.9, 88.1, 'M4_m4'],\n",
    "            [153, 87.9, 88.1, 'M5_m4']],\n",
    "        \"double_peak\": False,\n",
    "        \"duplicate\": False,\n",
    "    },\n",
    "    'Glu130':{\n",
    "        \"time\": [4, 6.4, 5.3],\n",
    "        \"MS_info\": [\n",
    "            [148, 129.9, 130.1, 'M0_m0'],\n",
    "            [149, 130.9, 131.1, 'M1_m1'],\n",
    "            [150, 131.9, 132.1, 'M2_m2'],\n",
    "            [151, 132.9, 133.1, 'M3_m3'],\n",
    "            [152, 133.9, 134.1, 'M4_m4'],\n",
    "            [153, 134.9, 135.1, 'M5_m5']],\n",
    "        \"double_peak\": False,\n",
    "        \"duplicate\": False,\n",
    "    },\n",
    "    # 'Gln84':{\n",
    "    #     \"time\": [5.5, 8.5, 6.6],\n",
    "    #     \"MS_info\": [\n",
    "    #         [147, 83.9, 84.1, 'M0_m0'],\n",
    "    #         [148, 83.9, 84.1, 'M1_m0'],\n",
    "    #         [148, 84.9, 85.1, 'M1_m1'],\n",
    "    #         [149, 84.9, 85.1, 'M2_m1'],\n",
    "    #         [149, 85.9, 86.1, 'M2_m2'],\n",
    "    #         [150, 85.9, 86.1, 'M3_m2'],\n",
    "    #         [150, 86.9, 87.1, 'M3_m3'],\n",
    "    #         [151, 86.9, 87.1, 'M4_m3'],\n",
    "    #         [151, 87.9, 88.1, 'M4_m4'],\n",
    "    #         [152, 87.9, 88.1, 'M5_m4']],\n",
    "    #     \"double_peak\": False,\n",
    "    #     \"duplicate\": False,\n",
    "    # },\n",
    "    # 'Gln130':{\n",
    "    #     \"time\": [5.5, 8.5, 6.6],\n",
    "    #     \"MS_info\": [\n",
    "    #         [147, 129.9, 130.1, 'M0_m0'],\n",
    "    #         [148, 130.9, 131.1, 'M1_m1'],\n",
    "    #         [149, 130.9, 131.1, 'M2_m2'],\n",
    "    #         [150, 131.9, 132.1, 'M3_m3'],\n",
    "    #         [151, 132.9, 133.1, 'M4_m4'],\n",
    "    #         [152, 133.9, 134.1, 'M5_m5']],\n",
    "    #     \"double_peak\": False,\n",
    "    #     \"duplicate\": False,\n",
    "    # },\n",
    "    'Phe120':{\n",
    "        \"time\": [9, 11.5, 10.3],\n",
    "        \"MS_info\": [\n",
    "            [166, 119.9, 120.1, 'M0_m0'],\n",
    "            [167, 119.9, 120.1, 'M1_m0'],\n",
    "            [167, 120.9, 121.1, 'M1_m1'],\n",
    "            [168, 120.9, 121.1, 'M2_m1'],\n",
    "            [168, 121.9, 122.1, 'M2_m2'],\n",
    "            [169, 121.9, 122.1, 'M3_m2'],\n",
    "            [169, 122.9, 123.1, 'M3_m3'],\n",
    "            [170, 122.9, 123.1, 'M4_m3'],\n",
    "            [170, 123.9, 124.1, 'M4_m4'],\n",
    "            [171, 123.9, 124.1, 'M5_m4'],\n",
    "            [171, 124.9, 125.1, 'M5_m5'],\n",
    "            [172, 124.9, 125.1, 'M6_m5'],\n",
    "            [172, 125.9, 126.1, 'M6_m6'],\n",
    "            [173, 125.9, 126.1, 'M7_m6'],\n",
    "            [173, 126.9, 127.1, 'M7_m7'],\n",
    "            [174, 126.9, 127.1, 'M8_m7'],\n",
    "            [174, 127.9, 128.1, 'M8_m8'],\n",
    "            [175, 127.9, 128.1, 'M9_m8']],\n",
    "        \"double_peak\": False,\n",
    "        \"duplicate\": False,\n",
    "    },\n",
    "    'Ser60':{\n",
    "        \"time\": [4, 7, 5.6],\n",
    "        \"MS_info\": [\n",
    "            [106, 59.94, 60.14, 'M0_m0'], \n",
    "            [107, 59.94, 60.14, 'M1_m0'], \n",
    "            [107, 60.94, 61.14, 'M1_m1'], \n",
    "            [108, 60.94, 61.14, 'M2_m1'], \n",
    "            [108, 61.94, 62.14, 'M2_m2'], \n",
    "            [109, 61.94, 62.14, 'M3_m2']],\n",
    "        \"double_peak\": False,\n",
    "        \"duplicate\": False,\n",
    "    },\n",
    "    # 'Thr56_Hom56':{\n",
    "    #     \"time\": [5, 8.5, 5.9, 6.9],\n",
    "    #     \"MS_info\": [\n",
    "    #         [120, 55.95, 56.15, 'M0_m0'],\n",
    "    #         [121, 55.95, 56.15, 'M1_m0'],\n",
    "    #         [121, 56.95, 57.15, 'M1_m1'],\n",
    "    #         [122, 56.95, 57.15, 'M2_m1'],\n",
    "    #         [122, 57.95, 58.15, 'M2_m2'],\n",
    "    #         [123, 57.95, 58.15, 'M3_m2'],\n",
    "    #         [123, 58.95, 59.15, 'M3_m3'],\n",
    "    #         [124, 58.95, 59.15, 'M4_m3']],\n",
    "    #     \"double_peak\": True,\n",
    "    #     \"duplicate\": False,\n",
    "    # },\n",
    "    # 'Thr74_Hom74':{\n",
    "    #     \"time\": [5, 8.5, 5.9, 6.9],\n",
    "    #     \"MS_info\": [\n",
    "    #         [120, 73.96, 74.16, 'M0_m0'],\n",
    "    #         [121, 73.96, 74.16, 'M1_m0'],\n",
    "    #         [121, 74.96, 75.16, 'M1_m1'],\n",
    "    #         [122, 74.96, 75.16, 'M2_m1'],\n",
    "    #         [122, 75.96, 76.16, 'M2_m2'],\n",
    "    #         [123, 75.96, 76.16, 'M3_m2'],\n",
    "    #         [123, 76.96, 77.16, 'M3_m3'],\n",
    "    #         [124, 76.96, 77.16, 'M4_m3']],\n",
    "    #         #TODO: data saving for double peaks; also check if duplicate or not\n",
    "    #     \"double_peak\": True,\n",
    "    #     \"duplicate\": False,\n",
    "    # },\n",
    "    # 'Hom56':{\n",
    "    #     \"time\": [, , t_ret],\n",
    "    #     \"MS_info\": [\n",
    "    #         [120, 55.95, 56.15, 'M0_m0'],\n",
    "    #         [121, 55.95, 56.15, 'M1_m0'],\n",
    "    #         [121, 56.95, 57.15, 'M1_m1'],\n",
    "    #         [122, 56.95, 57.15, 'M2_m1'],\n",
    "    #         [122, 57.95, 58.15, 'M2_m2'],\n",
    "    #         [123, 57.95, 58.15, 'M3_m2'],\n",
    "    #         [123, 58.95, 59.15, 'M3_m3'],\n",
    "    #         [124, 58.95, 59.15, 'M4_m3']],\n",
    "    #     \"double_peak\": False,\n",
    "    # },\n",
    "    # 'Hom74':{\n",
    "    #     \"time\": [, , t_ret],\n",
    "    #     \"MS_info\": [\n",
    "    #         [120, 73.96, 74.16, 'M0_m0'],\n",
    "    #         [121, 73.96, 74.16, 'M1_m0'],\n",
    "    #         [121, 74.96, 75.16, 'M1_m1'],\n",
    "    #         [122, 74.96, 75.16, 'M2_m1'],\n",
    "    #         [122, 75.96, 76.16, 'M2_m2'],\n",
    "    #         [123, 75.96, 76.16, 'M3_m2'],\n",
    "    #         [123, 76.96, 77.16, 'M3_m3'],\n",
    "    #         [124, 76.96, 77.16, 'M4_m3']],\n",
    "    #     \"double_peak\": False,\n",
    "    # },\n",
    "    # 'Leu86_Ile86':{\n",
    "    #     \"time\": [10, 14, 11.7, 12.5],\n",
    "    #     \"MS_info\": [\n",
    "    #         [132, 86.0, 86.2, 'M0_m0'],\n",
    "    #         [133, 86.0, 86.2, 'M1_m0'],\n",
    "    #         [133, 87.0, 87.2, 'M1_m1'],\n",
    "    #         [134, 87.0, 87.2, 'M2_m1'],\n",
    "    #         [134, 88.0, 88.2, 'M2_m2'],\n",
    "    #         [135, 88.0, 88.2, 'M3_m2'],\n",
    "    #         [135, 89.0, 89.2, 'M3_m3'],\n",
    "    #         [136, 89.0, 89.2, 'M4_m3'],\n",
    "    #         [136, 90.0, 90.2, 'M4_m4'],\n",
    "    #         [137, 90.0, 90.2, 'M5_m4'],\n",
    "    #         [137, 91.0, 91.2, 'M5_m5'],\n",
    "    #         [138, 91.0, 91.2, 'M6_m5']],\n",
    "    #     \"double_peak\": True,\n",
    "    #     \"duplicate\": False,\n",
    "    # },\n",
    "    'Ile69':{\n",
    "        \"time\": [11, 14, 12.5],\n",
    "        \"MS_info\": [\n",
    "            [132, 68.97, 69.17, 'M0_m0'],\n",
    "            [133, 68.97, 69.17, 'M1_m0'],\n",
    "            [133, 69.97, 70.17, 'M1_m1'],\n",
    "            [134, 69.97, 70.17, 'M2_m1'],\n",
    "            [134, 70.97, 71.17, 'M2_m2'],\n",
    "            [135, 70.97, 71.17, 'M3_m2'],\n",
    "            [135, 71.97, 72.17, 'M3_m3'],\n",
    "            [136, 71.97, 72.17, 'M4_m3'],\n",
    "            [136, 72.97, 73.17, 'M4_m4'],\n",
    "            [137, 72.97, 73.17, 'M5_m4'],\n",
    "            [137, 73.97, 74.17, 'M5_m5'],\n",
    "            [138, 73.97, 74.17, 'M6_m5']],\n",
    "        \"double_peak\": False,\n",
    "        \"duplicate\": False,\n",
    "    },\n",
    "    # 'Trp146':{\n",
    "    #     \"time\": [, , t_ret],\n",
    "    #     \"MS_info\": [\n",
    "    #         [205, 145.96, 146.16, 'M0_m0'],\n",
    "    #         [206, 145.96, 146.16, 'M1_m0'],\n",
    "    #         [206, 146.96, 147.16, 'M1_m1'],\n",
    "    #         [207, 145.96, 146.16, 'M2_m0'],\n",
    "    #         [207, 146.96, 147.16, 'M2_m1'],\n",
    "    #         [207, 147.96, 148.16, 'M2_m2'],\n",
    "    #         [208, 146.96, 147.16, 'M3_m1'],\n",
    "    #         [208, 147.96, 148.16, 'M3_m2'],\n",
    "    #         [208, 148.96, 149.16, 'M3_m3'],\n",
    "    #         [209, 147.96, 148.16, 'M4_m2'],\n",
    "    #         [209, 148.96, 149.16, 'M4_m3'],\n",
    "    #         [209, 149.96, 150.16, 'M4_m4'],\n",
    "    #         [210, 148.96, 149.16, 'M5_m3'],\n",
    "    #         [210, 149.96, 150.16, 'M5_m4'],\n",
    "    #         [210, 150.96, 151.16, 'M5_m5'],\n",
    "    #         [211, 149.96, 150.16, 'M6_m4'],\n",
    "    #         [211, 150.96, 151.16, 'M6_m5'],\n",
    "    #         [211, 151.96, 152.16, 'M6_m6'],\n",
    "    #         [212, 150.96, 151.16, 'M7_m5'],\n",
    "    #         [212, 151.96, 152.16, 'M7_m6'],\n",
    "    #         [212, 152.96, 153.16, 'M7_m7'],\n",
    "    #         [213, 151.96, 152.16, 'M8_m6'],\n",
    "    #         [213, 152.96, 153.16, 'M8_m7'],\n",
    "    #         [213, 153.96, 154.16, 'M8_m8'],\n",
    "    #         [214, 152.96, 153.16, 'M9_m7'],\n",
    "    #         [214, 153.96, 154.16, 'M9_m8'],\n",
    "    #         [214, 154.96, 155.16, 'M9_m9'],\n",
    "    #         [215, 153.96, 154.16, 'M10_m8'],\n",
    "    #         [215, 154.96, 155.16, 'M10_m9'],\n",
    "    #         [216, 154.96, 155.16, 'M11_m9']],\n",
    "    #     \"double_peak\": False,\n",
    "    #     \"duplicate\": False,\n",
    "    # },\n",
    "    # 'Trp188':{\n",
    "    #     \"time\": [, , t_ret],\n",
    "    #     \"MS_info\": [\n",
    "    #         [205, 187.97, 188.17, 'M0_m0'],\n",
    "    #         [206, 188.97, 189.17, 'M1_m1'],\n",
    "    #         [207, 189.97, 190.17, 'M2_m2'],\n",
    "    #         [208, 190.97, 191.17, 'M3_m3'],\n",
    "    #         [209, 191.97, 192.17, 'M4_m4'],\n",
    "    #         [210, 192.97, 193.17, 'M5_m5'],\n",
    "    #         [211, 193.97, 194.17, 'M6_m6'],\n",
    "    #         [212, 194.97, 195.17, 'M7_m7'],\n",
    "    #         [213, 195.97, 196.17, 'M8_m8'],\n",
    "    #         [214, 196.97, 197.17, 'M9_m9'],\n",
    "    #         [215, 197.97, 198.17, 'M10_m10'],\n",
    "    #         [216, 198.97, 199.17, 'M11_m11']],\n",
    "    #     \"double_peak\": False,\n",
    "    #     \"duplicate\": False,\n",
    "    # },\n",
    "}"
   ]
  },
  {
   "cell_type": "code",
   "execution_count": 52,
   "metadata": {},
   "outputs": [],
   "source": [
    "def plot_density(*, ax, x, samples, percentiles=(5, 95), percentile_kwargs=None, **kwargs):\n",
    "    \"\"\"\n",
    "    Method to plot the original data points alongside the posterior predictive plot (percentiles marked with a black, dashed line).\n",
    "    Serves as a more accurate comparison between data and model than comparing data and posterior distribution.\n",
    "    \"\"\"\n",
    "    assert samples.ndim == 2\n",
    "\n",
    "    # Step-function mode draws horizontal density bands inbetween the x coordinates\n",
    "    step_mode = samples.shape[1] == x.shape[0] - 1\n",
    "    fill_kwargs = {}\n",
    "    if step_mode:\n",
    "        samples = np.hstack([\n",
    "            samples,\n",
    "            samples[:, -1][:, None]\n",
    "        ])\n",
    "        fill_kwargs[\"step\"] = \"post\"\n",
    "\n",
    "    # Plot the density band\n",
    "    pm.gp.util.plot_gp_dist(\n",
    "        ax=ax,\n",
    "        x=x,\n",
    "        samples=samples,\n",
    "        fill_alpha=1,\n",
    "        plot_samples=False,\n",
    "        palette=pyplot.cm.Blues,\n",
    "        fill_kwargs=fill_kwargs,\n",
    "        **kwargs\n",
    "    )\n",
    "\n",
    "    # Add percentiles for orientation\n",
    "    pkwargs = dict(\n",
    "        linestyle=\"--\",\n",
    "        color=\"black\",\n",
    "    )\n",
    "    pkwargs.update(percentile_kwargs or {})\n",
    "    for p in percentiles:\n",
    "        values = np.percentile(samples, p, axis=0)\n",
    "        if step_mode:\n",
    "            ax.stairs(values[:-1], x, baseline=None, **pkwargs)\n",
    "        else:\n",
    "            ax.plot(x, values, **pkwargs)\n",
    "        pass\n",
    "\n",
    "    return"
   ]
  },
  {
   "attachments": {},
   "cell_type": "markdown",
   "metadata": {},
   "source": [
    "#### Test pipeline prototype"
   ]
  },
  {
   "cell_type": "code",
   "execution_count": null,
   "metadata": {},
   "outputs": [],
   "source": [
    "# TODO: add exception for double peaks with regards to data storage, lest summary df will break due to mean, mean[1] etc. -> does not matter for test with His110\n",
    "# parameters for pre-filtering: is there even a peak?\n",
    "est_width = 1\n",
    "# prepare dictionary to save duration of specific sections\n",
    "time_dict = {\"model_building\": {}, \"sampling\": {}, \"posterior_predictive_sampling\": {}}\n",
    "# prepare dictionary to save initial guesses for prior parameters\n",
    "guess_dict = {\"slope_guess\": {}, \"intercept_guess\": {}, \"noise_width_guess\": {}}\n",
    "\n",
    "# prepare DataFrame for joint peak data report\n",
    "df_summary = pandas.DataFrame()\n",
    "\n",
    "for fragment in user_info.keys():\n",
    "    print(f\"Starting with {fragment}\")\n",
    "    # iterate over all mass traces of a fragment\n",
    "    for masstrace in range(len(user_info[fragment]['MS_info'])):\n",
    "        print(f\"Starting with {user_info[fragment]['MS_info'][masstrace][3]}\")\n",
    "        # iterate over all acquisitions within the batch\n",
    "        for acquisition in acquisitions:\n",
    "            # load time and intensity as numpy arrays\n",
    "            time_np = np.fromfile(fr\"C:\\Users\\niesser\\sciebo\\Alle Ergebnisse\\2023_Hadoop_Test\\Peakfitting\\230419_Test with ToLas dataset_Part1\\{acquisition}_{fragment}_{user_info[fragment]['MS_info'][masstrace][3]}_time.npy\")\n",
    "            intensity = np.fromfile(fr\"C:\\Users\\niesser\\sciebo\\Alle Ergebnisse\\2023_Hadoop_Test\\Peakfitting\\230419_Test with ToLas dataset_Part1\\{acquisition}_{fragment}_{user_info[fragment]['MS_info'][masstrace][3]}_intensity.npy\")\n",
    "\n",
    "            # select lowest third of all data points as noise -> noise_tuple\n",
    "            intensity_tuple = list(enumerate(intensity))\n",
    "            intensity_tuple.sort(key=lambda x: x[1])\n",
    "            noise_range = int(np.round(1/3 * len(intensity), decimals=0))\n",
    "            noise_tuple = intensity_tuple[:noise_range]\n",
    "            # sort noise_tuple by time, then use the first and last data points for estimating starting values for the priors of noise width and the slope and intercept of baseline\n",
    "            noise_tuple.sort(key=lambda x: x[0])\n",
    "            slope_guess = (np.mean([noise_tuple[n][1] for n in range(len(noise_tuple)-5, len(noise_tuple))])-np.mean([noise_tuple[n][1] for n in range(5)]))/(time_np[-1] - time_np[0])\n",
    "            # calculate y intercept guess from the start of the time window based on the slope_guess\n",
    "            intercept_guess = np.mean([noise_tuple[n][1] for n in range(5)]) - slope_guess * time_np[0]\n",
    "            noise_width_guess = np.max([noise_tuple[n][1] for n in range(len(noise_tuple))]) - np.min([noise_tuple[n][1] for n in range(len(noise_tuple))])\n",
    "            guess_dict[\"slope_guess\"][f\"{acquisition}_{fragment}_{user_info[fragment]['MS_info'][masstrace][3]}\"] = slope_guess\n",
    "            guess_dict[\"intercept_guess\"][f\"{acquisition}_{fragment}_{user_info[fragment]['MS_info'][masstrace][3]}\"] = intercept_guess\n",
    "            guess_dict[\"noise_width_guess\"][f\"{acquisition}_{fragment}_{user_info[fragment]['MS_info'][masstrace][3]}\"] = noise_width_guess\n",
    "\n",
    "            # pre-fit tests for peaks to save computation time (optional)\n",
    "            # find potential peaks with scipy\n",
    "            peaks,_ = scipy.signal.find_peaks(intensity)\n",
    "            peak_candidates = []\n",
    "            for peak in peaks:\n",
    "                # test \n",
    "                if user_info[fragment]['time'][2] - est_width <= time_np[peak] <= user_info[fragment]['time'][2] + est_width and intensity[peak]/noise_width_guess > 5 and intensity[peak-1]/noise_width_guess > 2 and intensity[peak+1]/noise_width_guess > 2:\n",
    "                    peak_candidates.append(peak)\n",
    "            # in case of a double peak, test second retention time, too\n",
    "            if user_info[fragment]['double_peak'] == True:\n",
    "                for peak in peaks:\n",
    "                    if user_info[fragment]['time'][3] - est_width <= time_np[peak] <= user_info[fragment]['time'][3] + est_width and intensity[peak]/noise_width_guess > 5 and intensity[peak-1]/noise_width_guess > 2 and intensity[peak+1]/noise_width_guess > 2:\n",
    "                        peak_candidates.append(peak)\n",
    "\n",
    "            if not peak_candidates:\n",
    "                print(f\"For mass trace {fragment}, no valid peak was detected.\")\n",
    "                # add NaN values to summary DataFrame\n",
    "                df = pandas.DataFrame(\n",
    "                    {\n",
    "                    \"baseline_intercept\": {\"mean\": [np.nan], \"sd\": [np.nan], \"hdi_3%\": [np.nan], \"hdi_97%\": [np.nan], \"mcse_mean\": [np.nan], \"mcse_sd\": [np.nan], \"ess_bulk\": [np.nan], \"ess_tail\": [np.nan], \"r_hat\": [np.nan]},\n",
    "                    \"baseline_slope\": {\"mean\": [np.nan], \"sd\": [np.nan], \"hdi_3%\": [np.nan], \"hdi_97%\": [np.nan], \"mcse_mean\": [np.nan], \"mcse_sd\": [np.nan], \"ess_bulk\": [np.nan], \"ess_tail\": [np.nan], \"r_hat\": [np.nan]},\n",
    "                    \"mean\": {\"mean\": [np.nan], \"sd\": [np.nan], \"hdi_3%\": [np.nan], \"hdi_97%\": [np.nan], \"mcse_mean\": [np.nan], \"mcse_sd\": [np.nan], \"ess_bulk\": [np.nan], \"ess_tail\": [np.nan], \"r_hat\": [np.nan]},\n",
    "                    \"noise\": {\"mean\": [np.nan], \"sd\": [np.nan], \"hdi_3%\": [np.nan], \"hdi_97%\": [np.nan], \"mcse_mean\": [np.nan], \"mcse_sd\": [np.nan], \"ess_bulk\": [np.nan], \"ess_tail\": [np.nan], \"r_hat\": [np.nan]},\n",
    "                    \"std\": {\"mean\": [np.nan], \"sd\": [np.nan], \"hdi_3%\": [np.nan], \"hdi_97%\": [np.nan], \"mcse_mean\": [np.nan], \"mcse_sd\": [np.nan], \"ess_bulk\": [np.nan], \"ess_tail\": [np.nan], \"r_hat\": [np.nan]}, \n",
    "                    \"area\": {\"mean\": [np.nan], \"sd\": [np.nan], \"hdi_3%\": [np.nan], \"hdi_97%\": [np.nan], \"mcse_mean\": [np.nan], \"mcse_sd\": [np.nan], \"ess_bulk\": [np.nan], \"ess_tail\": [np.nan], \"r_hat\": [np.nan]}, \n",
    "                    \"height\": {\"mean\": [np.nan], \"sd\": [np.nan], \"hdi_3%\": [np.nan], \"hdi_97%\": [np.nan], \"mcse_mean\": [np.nan], \"mcse_sd\": [np.nan], \"ess_bulk\": [np.nan], \"ess_tail\": [np.nan], \"r_hat\": [np.nan]},\n",
    "                    \"sn\": {\"mean\": [np.nan], \"sd\": [np.nan], \"hdi_3%\": [np.nan], \"hdi_97%\": [np.nan], \"mcse_mean\": [np.nan], \"mcse_sd\": [np.nan], \"ess_bulk\": [np.nan], \"ess_tail\": [np.nan], \"r_hat\": [np.nan]},\n",
    "                    }\n",
    "                ).transpose()\n",
    "                df[\"acquisition\"] = 8 * [f\"{acquisition}\"]\n",
    "                df[\"fragment\"] = 8 * [f\"{fragment}\"]\n",
    "                df[\"mass_trace\"] = 8 * [f\"{user_info[fragment]['MS_info'][masstrace][3]}\"]\n",
    "                df_summary = pandas.concat([df_summary,df])\n",
    "                # plot the data to be able to check if peak detection was correct or not\n",
    "                fig, ax = pyplot.subplots()\n",
    "                ax.scatter(time_np, intensity, marker=\"x\", color=\"black\", label=\"data\")\n",
    "                pyplot.legend()\n",
    "                ax.set_xlabel(\"time / min\", fontsize=12, fontweight=\"bold\")\n",
    "                ax.set_ylabel(\"intensity / a.u.\", fontsize=12, fontweight=\"bold\")\n",
    "                pyplot.xticks(size=11.5)\n",
    "                pyplot.yticks(size=11.5)\n",
    "                pyplot.tight_layout()\n",
    "                pyplot.savefig(fr\"./230427_Pipeline_test_Part1/{acquisition}_{fragment}_{user_info[fragment]['MS_info'][masstrace][3]}_No_Peak.png\")\n",
    "                pyplot.savefig(fr\"./230427_Pipeline_test_Part1/{acquisition}_{fragment}_{user_info[fragment]['MS_info'][masstrace][3]}_No_Peak.svg\", format=\"svg\")\n",
    "                continue\n",
    "\n",
    "            # create model with the above guesses as starting values for priors\n",
    "            # TODO: double peak und skew berücksichtigen\n",
    "            start = time.time()\n",
    "            if user_info[fragment]['double_peak'] == True:\n",
    "                with pm.Model() as pmodel:\n",
    "                    # priors\n",
    "                    if intercept_guess == 0:\n",
    "                        baseline_intercept = pm.Normal(\"baseline_intercept\", intercept_guess, 20)\n",
    "                    else:\n",
    "                        baseline_intercept = pm.Normal(\"baseline_intercept\", intercept_guess, intercept_guess / 2)\n",
    "                    baseline_slope = pm.Normal(\"baseline_slope\", slope_guess, np.abs(slope_guess*2)+1)\n",
    "                    baseline = pm.Deterministic(\"baseline\", baseline_intercept + baseline_slope * time_np)\n",
    "                    if noise_width_guess > 0:\n",
    "                        noise = pm.LogNormal(\"noise\", np.log(noise_width_guess), 1)\n",
    "                    elif noise_width_guess == 0:\n",
    "                        noise = pm.LogNormal(\"noise\", np.log(10), 1)\n",
    "                    std = pm.HalfNormal(\"std\", np.ptp(time_np) / 3)\n",
    "                    std2 = pm.HalfNormal(\"std2\", np.ptp(time_np) / 3)\n",
    "                    height = pm.HalfNormal(\"height\", 0.95 * np.max(intensity))\n",
    "                    height2 = pm.HalfNormal(\"height2\", 0.95 * np.max(intensity))\n",
    "                    area = pm.Deterministic(\"area\", height/(1 / (std * np.sqrt(2 * np.pi))))\n",
    "                    area2 = pm.Deterministic(\"area2\", height2/(1 / (std2 * np.sqrt(2 * np.pi))))\n",
    "                    sn = pm.Deterministic(\"sn\", height/noise)\n",
    "                    sn2 = pm.Deterministic(\"sn2\", height2/noise)\n",
    "                    mean = pm.Normal(\"mean\", mu=[time_np[0] + np.ptp(time_np) * 1/4, time_np[0] + np.ptp(time_np) * 3/4], sigma=1, transform=pm.distributions.transforms.univariate_ordered)\n",
    "                    # posterior\n",
    "                    y = baseline + height * pt.exp(-0.5 * ((time_np - mean[0]) / std)**2) + height2 * pt.exp(-0.5 * ((time_np - mean[1]) / std2)**2)\n",
    "                    y = pm.Deterministic(\"y\", y)\n",
    "\n",
    "                    # likelihood\n",
    "                    L = pm.Normal(\"L\", mu=y, sigma=noise, observed=intensity)\n",
    "            else:\n",
    "                with pm.Model() as pmodel:\n",
    "                    # priors plus error handling in case of mathematically impermissible values\n",
    "                    if intercept_guess == 0:\n",
    "                        baseline_intercept = pm.Normal(\"baseline_intercept\", intercept_guess, 20)\n",
    "                    else:\n",
    "                        baseline_intercept = pm.Normal(\"baseline_intercept\", intercept_guess, intercept_guess / 2)\n",
    "                    baseline_slope = pm.Normal(\"baseline_slope\", slope_guess, np.abs(slope_guess*2)+1)\n",
    "                    baseline = pm.Deterministic(\"baseline\", baseline_intercept + baseline_slope * time_np)\n",
    "                    # since log(0) leads to -inf, this case is handled by setting noise_width_guess to 10\n",
    "                    if noise_width_guess > 0:\n",
    "                        noise = pm.LogNormal(\"noise\", np.log(noise_width_guess), 1)\n",
    "                    elif noise_width_guess == 0:\n",
    "                        noise = pm.LogNormal(\"noise\", np.log(10), 1)\n",
    "                    mean = pm.Normal(\"mean\", np.mean(time_np[[0, -1]]), np.ptp(time_np) / 2)\n",
    "                    std = pm.HalfNormal(\"std\", np.ptp(time_np) / 3)\n",
    "                    height = pm.HalfNormal(\"height\", 0.95 * np.max(intensity))\n",
    "                    area = pm.Deterministic(\"area\", height/(1 / (std * np.sqrt(2 * np.pi))))\n",
    "                    sn = pm.Deterministic(\"sn\", height/noise)\n",
    "                    # posterior\n",
    "                    y = baseline + height * pt.exp(-0.5 * ((time_np - mean) / std)**2)\n",
    "                    y = pm.Deterministic(\"y\", y)\n",
    "\n",
    "                    # likelihood (auf der y-Achse liegende Normalverteilung um Datenpunkte, entspricht hier Normalverteilung um Wert mit Standardabweichung = noise)\n",
    "                    L = pm.Normal(\"L\", mu=y, sigma=noise, observed=intensity)\n",
    "            time1 = time.time() - start\n",
    "\n",
    "            # save durations of certain code sections\n",
    "            time_dict[\"model_building\"][f\"{acquisition}_{fragment}_{user_info[fragment]['MS_info'][masstrace][3]}\"] = time1\n",
    "            time_dict[\"sampling\"][f\"{acquisition}_{fragment}_{user_info[fragment]['MS_info'][masstrace][3]}\"] = np.nan\n",
    "            time_dict[\"posterior_predictive_sampling\"][f\"{acquisition}_{fragment}_{user_info[fragment]['MS_info'][masstrace][3]}\"] = np.nan\n",
    "            \n",
    "            # sample the model\n",
    "            start = time.time()\n",
    "            with pmodel:\n",
    "                idata = pm.sample_prior_predictive()\n",
    "                idata.extend(pm.sample(draws=2000, tune=2000))\n",
    "            time2 = time.time() - start\n",
    "            time_dict[\"sampling\"][f\"{acquisition}_{fragment}_{user_info[fragment]['MS_info'][masstrace][3]}\"] = time2\n",
    "\n",
    "            # post-fit checks\n",
    "            # check whether convergence, i.e. r_hat <= 1.05, was not reached OR peak criteria (explanation see next comment) were not met\n",
    "            if not user_info[fragment]['double_peak'] == True:\n",
    "                if any(list(az.summary(idata).loc[:,\"r_hat\"])) > 1.05 or az.summary(idata).loc[\"std\",:][\"mean\"] <= 0.1 or az.summary(idata).loc[\"area\",:][\"sd\"] > az.summary(idata).loc[\"area\",:][\"mean\"] * 0.2 or az.summary(idata).loc[\"height\",:][\"sd\"] > az.summary(idata).loc[\"height\",:][\"mean\"] * 0.2:\n",
    "                    # decide whether to discard signal or sample with more tune samples based on size of sigma parameter of normal distribution (std) and on the relative sizes of standard deviations of area and heigt\n",
    "                    if az.summary(idata).loc[\"std\",:][\"mean\"] <= 0.1 or az.summary(idata).loc[\"area\",:][\"sd\"] > az.summary(idata).loc[\"area\",:][\"mean\"] * 0.2 or az.summary(idata).loc[\"height\",:][\"sd\"] > az.summary(idata).loc[\"height\",:][\"mean\"] * 0.2:\n",
    "                        # post-fit check failed\n",
    "                        # add NaN values to summary DataFrame\n",
    "                        df = pandas.DataFrame(\n",
    "                            {\n",
    "                            \"baseline_intercept\": {\"mean\": [np.nan], \"sd\": [np.nan], \"hdi_3%\": [np.nan], \"hdi_97%\": [np.nan], \"mcse_mean\": [np.nan], \"mcse_sd\": [np.nan], \"ess_bulk\": [np.nan], \"ess_tail\": [np.nan], \"r_hat\": [np.nan]},\n",
    "                            \"baseline_slope\": {\"mean\": [np.nan], \"sd\": [np.nan], \"hdi_3%\": [np.nan], \"hdi_97%\": [np.nan], \"mcse_mean\": [np.nan], \"mcse_sd\": [np.nan], \"ess_bulk\": [np.nan], \"ess_tail\": [np.nan], \"r_hat\": [np.nan]},\n",
    "                            \"mean\": {\"mean\": [np.nan], \"sd\": [np.nan], \"hdi_3%\": [np.nan], \"hdi_97%\": [np.nan], \"mcse_mean\": [np.nan], \"mcse_sd\": [np.nan], \"ess_bulk\": [np.nan], \"ess_tail\": [np.nan], \"r_hat\": [np.nan]},\n",
    "                            \"noise\": {\"mean\": [np.nan], \"sd\": [np.nan], \"hdi_3%\": [np.nan], \"hdi_97%\": [np.nan], \"mcse_mean\": [np.nan], \"mcse_sd\": [np.nan], \"ess_bulk\": [np.nan], \"ess_tail\": [np.nan], \"r_hat\": [np.nan]},\n",
    "                            \"std\": {\"mean\": [np.nan], \"sd\": [np.nan], \"hdi_3%\": [np.nan], \"hdi_97%\": [np.nan], \"mcse_mean\": [np.nan], \"mcse_sd\": [np.nan], \"ess_bulk\": [np.nan], \"ess_tail\": [np.nan], \"r_hat\": [np.nan]}, \n",
    "                            \"area\": {\"mean\": [np.nan], \"sd\": [np.nan], \"hdi_3%\": [np.nan], \"hdi_97%\": [np.nan], \"mcse_mean\": [np.nan], \"mcse_sd\": [np.nan], \"ess_bulk\": [np.nan], \"ess_tail\": [np.nan], \"r_hat\": [np.nan]}, \n",
    "                            \"height\": {\"mean\": [np.nan], \"sd\": [np.nan], \"hdi_3%\": [np.nan], \"hdi_97%\": [np.nan], \"mcse_mean\": [np.nan], \"mcse_sd\": [np.nan], \"ess_bulk\": [np.nan], \"ess_tail\": [np.nan], \"r_hat\": [np.nan]},\n",
    "                            \"sn\": {\"mean\": [np.nan], \"sd\": [np.nan], \"hdi_3%\": [np.nan], \"hdi_97%\": [np.nan], \"mcse_mean\": [np.nan], \"mcse_sd\": [np.nan], \"ess_bulk\": [np.nan], \"ess_tail\": [np.nan], \"r_hat\": [np.nan]},\n",
    "                            }\n",
    "                        ).transpose()\n",
    "                        df[\"acquisition\"] = 8 * [f\"{acquisition}\"]\n",
    "                        df[\"fragment\"] = 8 * [f\"{fragment}\"]\n",
    "                        df[\"mass_trace\"] = 8 * [f\"{user_info[fragment]['MS_info'][masstrace][3]}\"]\n",
    "                        df_summary = pandas.concat([df_summary,df])\n",
    "                        continue\n",
    "                    else:\n",
    "                        # r_hat failed but rest of post-fit check passed\n",
    "                        # sample again with more tune samples to possibly reach convergence yet\n",
    "                        with pmodel:\n",
    "                            idata2 = pm.sample_prior_predictive()\n",
    "                            idata2.extend(pm.sample(draws=2000, tune=4000))\n",
    "                        # if still no convergence, kick it\n",
    "                        if any(list(az.summary(idata2).loc[:,\"r_hat\"])) > 1.05:\n",
    "                            # add NaN values to summary DataFrame\n",
    "                            df = pandas.DataFrame(\n",
    "                                {\n",
    "                                \"baseline_intercept\": {\"mean\": [np.nan], \"sd\": [np.nan], \"hdi_3%\": [np.nan], \"hdi_97%\": [np.nan], \"mcse_mean\": [np.nan], \"mcse_sd\": [np.nan], \"ess_bulk\": [np.nan], \"ess_tail\": [np.nan], \"r_hat\": [np.nan]},\n",
    "                                \"baseline_slope\": {\"mean\": [np.nan], \"sd\": [np.nan], \"hdi_3%\": [np.nan], \"hdi_97%\": [np.nan], \"mcse_mean\": [np.nan], \"mcse_sd\": [np.nan], \"ess_bulk\": [np.nan], \"ess_tail\": [np.nan], \"r_hat\": [np.nan]},\n",
    "                                \"mean\": {\"mean\": [np.nan], \"sd\": [np.nan], \"hdi_3%\": [np.nan], \"hdi_97%\": [np.nan], \"mcse_mean\": [np.nan], \"mcse_sd\": [np.nan], \"ess_bulk\": [np.nan], \"ess_tail\": [np.nan], \"r_hat\": [np.nan]},\n",
    "                                \"noise\": {\"mean\": [np.nan], \"sd\": [np.nan], \"hdi_3%\": [np.nan], \"hdi_97%\": [np.nan], \"mcse_mean\": [np.nan], \"mcse_sd\": [np.nan], \"ess_bulk\": [np.nan], \"ess_tail\": [np.nan], \"r_hat\": [np.nan]},\n",
    "                                \"std\": {\"mean\": [np.nan], \"sd\": [np.nan], \"hdi_3%\": [np.nan], \"hdi_97%\": [np.nan], \"mcse_mean\": [np.nan], \"mcse_sd\": [np.nan], \"ess_bulk\": [np.nan], \"ess_tail\": [np.nan], \"r_hat\": [np.nan]}, \n",
    "                                \"area\": {\"mean\": [np.nan], \"sd\": [np.nan], \"hdi_3%\": [np.nan], \"hdi_97%\": [np.nan], \"mcse_mean\": [np.nan], \"mcse_sd\": [np.nan], \"ess_bulk\": [np.nan], \"ess_tail\": [np.nan], \"r_hat\": [np.nan]}, \n",
    "                                \"height\": {\"mean\": [np.nan], \"sd\": [np.nan], \"hdi_3%\": [np.nan], \"hdi_97%\": [np.nan], \"mcse_mean\": [np.nan], \"mcse_sd\": [np.nan], \"ess_bulk\": [np.nan], \"ess_tail\": [np.nan], \"r_hat\": [np.nan]},\n",
    "                                \"sn\": {\"mean\": [np.nan], \"sd\": [np.nan], \"hdi_3%\": [np.nan], \"hdi_97%\": [np.nan], \"mcse_mean\": [np.nan], \"mcse_sd\": [np.nan], \"ess_bulk\": [np.nan], \"ess_tail\": [np.nan], \"r_hat\": [np.nan]},\n",
    "                                }\n",
    "                            ).transpose()\n",
    "                            df[\"acquisition\"] = 8 * [f\"{acquisition}\"]\n",
    "                            df[\"fragment\"] = 8 * [f\"{fragment}\"]\n",
    "                            df[\"mass_trace\"] = 8 * [f\"{user_info[fragment]['MS_info'][masstrace][3]}\"]\n",
    "                            df_summary = pandas.concat([df_summary,df])\n",
    "                            continue\n",
    "                        # if results still don't meet plausibility/quality criteria, kick it\n",
    "                        elif az.summary(idata2).loc[\"std\",:][\"mean\"] <= 0.1 or az.summary(idata2).loc[\"area\",:][\"sd\"] > az.summary(idata2).loc[\"area\",:][\"mean\"] * 0.2 or az.summary(idata2).loc[\"height\",:][\"sd\"] > az.summary(idata2).loc[\"height\",:][\"mean\"] * 0.2:\n",
    "                            # add NaN values to summary DataFrame\n",
    "                            df = pandas.DataFrame(\n",
    "                                {\n",
    "                                \"baseline_intercept\": {\"mean\": [np.nan], \"sd\": [np.nan], \"hdi_3%\": [np.nan], \"hdi_97%\": [np.nan], \"mcse_mean\": [np.nan], \"mcse_sd\": [np.nan], \"ess_bulk\": [np.nan], \"ess_tail\": [np.nan], \"r_hat\": [np.nan]},\n",
    "                                \"baseline_slope\": {\"mean\": [np.nan], \"sd\": [np.nan], \"hdi_3%\": [np.nan], \"hdi_97%\": [np.nan], \"mcse_mean\": [np.nan], \"mcse_sd\": [np.nan], \"ess_bulk\": [np.nan], \"ess_tail\": [np.nan], \"r_hat\": [np.nan]},\n",
    "                                \"mean\": {\"mean\": [np.nan], \"sd\": [np.nan], \"hdi_3%\": [np.nan], \"hdi_97%\": [np.nan], \"mcse_mean\": [np.nan], \"mcse_sd\": [np.nan], \"ess_bulk\": [np.nan], \"ess_tail\": [np.nan], \"r_hat\": [np.nan]},\n",
    "                                \"noise\": {\"mean\": [np.nan], \"sd\": [np.nan], \"hdi_3%\": [np.nan], \"hdi_97%\": [np.nan], \"mcse_mean\": [np.nan], \"mcse_sd\": [np.nan], \"ess_bulk\": [np.nan], \"ess_tail\": [np.nan], \"r_hat\": [np.nan]},\n",
    "                                \"std\": {\"mean\": [np.nan], \"sd\": [np.nan], \"hdi_3%\": [np.nan], \"hdi_97%\": [np.nan], \"mcse_mean\": [np.nan], \"mcse_sd\": [np.nan], \"ess_bulk\": [np.nan], \"ess_tail\": [np.nan], \"r_hat\": [np.nan]}, \n",
    "                                \"area\": {\"mean\": [np.nan], \"sd\": [np.nan], \"hdi_3%\": [np.nan], \"hdi_97%\": [np.nan], \"mcse_mean\": [np.nan], \"mcse_sd\": [np.nan], \"ess_bulk\": [np.nan], \"ess_tail\": [np.nan], \"r_hat\": [np.nan]}, \n",
    "                                \"height\": {\"mean\": [np.nan], \"sd\": [np.nan], \"hdi_3%\": [np.nan], \"hdi_97%\": [np.nan], \"mcse_mean\": [np.nan], \"mcse_sd\": [np.nan], \"ess_bulk\": [np.nan], \"ess_tail\": [np.nan], \"r_hat\": [np.nan]},\n",
    "                                \"sn\": {\"mean\": [np.nan], \"sd\": [np.nan], \"hdi_3%\": [np.nan], \"hdi_97%\": [np.nan], \"mcse_mean\": [np.nan], \"mcse_sd\": [np.nan], \"ess_bulk\": [np.nan], \"ess_tail\": [np.nan], \"r_hat\": [np.nan]},\n",
    "                                }\n",
    "                            ).transpose()\n",
    "                            df[\"acquisition\"] = 8 * [f\"{acquisition}\"]\n",
    "                            df[\"fragment\"] = 8 * [f\"{fragment}\"]\n",
    "                            df[\"mass_trace\"] = 8 * [f\"{user_info[fragment]['MS_info'][masstrace][3]}\"]\n",
    "                            df_summary = pandas.concat([df_summary,df])\n",
    "                            continue\n",
    "                        # if result is improved, accept new inference data and go on\n",
    "                        else:\n",
    "                            idata = idata2\n",
    "            else:\n",
    "                if any(list(az.summary(idata).loc[:,\"r_hat\"])) > 1.05 or az.summary(idata).loc[\"std\",:][\"mean\"] <= 0.1 or az.summary(idata).loc[\"area\",:][\"sd\"] > az.summary(idata).loc[\"area\",:][\"mean\"] * 0.2 or az.summary(idata).loc[\"height\",:][\"sd\"] > az.summary(idata).loc[\"height\",:][\"mean\"] * 0.2 or az.summary(idata).loc[\"std2\",:][\"mean\"] <= 0.1 or az.summary(idata).loc[\"area2\",:][\"sd\"] > az.summary(idata).loc[\"area2\",:][\"mean\"] * 0.2 or az.summary(idata).loc[\"height2\",:][\"sd\"] > az.summary(idata).loc[\"height2\",:][\"mean\"] * 0.2:\n",
    "                    # subdivide name of fragment into its two parts\n",
    "                    fragment1 = fragment.split(\"_\")[0]\n",
    "                    fragment2 = fragment.split(\"_\")[1]\n",
    "                    # Booleans to differentiate which peak is or is not detected\n",
    "                    double_not_found_first = False\n",
    "                    double_not_found_second = False\n",
    "                    # decide whether to discard signal or sample with more tune samples based on size of sigma parameter of normal distribution (std) and on the relative sizes of standard deviations of area and heigt\n",
    "                    if az.summary(idata).loc[\"std\",:][\"mean\"] <= 0.1 or az.summary(idata).loc[\"area\",:][\"sd\"] > az.summary(idata).loc[\"area\",:][\"mean\"] * 0.2 or az.summary(idata).loc[\"height\",:][\"sd\"] > az.summary(idata).loc[\"height\",:][\"mean\"] * 0.2:\n",
    "                        # post-fit check failed\n",
    "                        # add NaN values to summary DataFrame\n",
    "                        df = pandas.DataFrame(\n",
    "                            {\n",
    "                            \"baseline_intercept\": {\"mean\": [np.nan], \"sd\": [np.nan], \"hdi_3%\": [np.nan], \"hdi_97%\": [np.nan], \"mcse_mean\": [np.nan], \"mcse_sd\": [np.nan], \"ess_bulk\": [np.nan], \"ess_tail\": [np.nan], \"r_hat\": [np.nan]},\n",
    "                            \"baseline_slope\": {\"mean\": [np.nan], \"sd\": [np.nan], \"hdi_3%\": [np.nan], \"hdi_97%\": [np.nan], \"mcse_mean\": [np.nan], \"mcse_sd\": [np.nan], \"ess_bulk\": [np.nan], \"ess_tail\": [np.nan], \"r_hat\": [np.nan]},\n",
    "                            \"mean\": {\"mean\": [np.nan], \"sd\": [np.nan], \"hdi_3%\": [np.nan], \"hdi_97%\": [np.nan], \"mcse_mean\": [np.nan], \"mcse_sd\": [np.nan], \"ess_bulk\": [np.nan], \"ess_tail\": [np.nan], \"r_hat\": [np.nan]},\n",
    "                            \"noise\": {\"mean\": [np.nan], \"sd\": [np.nan], \"hdi_3%\": [np.nan], \"hdi_97%\": [np.nan], \"mcse_mean\": [np.nan], \"mcse_sd\": [np.nan], \"ess_bulk\": [np.nan], \"ess_tail\": [np.nan], \"r_hat\": [np.nan]},\n",
    "                            \"std\": {\"mean\": [np.nan], \"sd\": [np.nan], \"hdi_3%\": [np.nan], \"hdi_97%\": [np.nan], \"mcse_mean\": [np.nan], \"mcse_sd\": [np.nan], \"ess_bulk\": [np.nan], \"ess_tail\": [np.nan], \"r_hat\": [np.nan]}, \n",
    "                            \"area\": {\"mean\": [np.nan], \"sd\": [np.nan], \"hdi_3%\": [np.nan], \"hdi_97%\": [np.nan], \"mcse_mean\": [np.nan], \"mcse_sd\": [np.nan], \"ess_bulk\": [np.nan], \"ess_tail\": [np.nan], \"r_hat\": [np.nan]}, \n",
    "                            \"height\": {\"mean\": [np.nan], \"sd\": [np.nan], \"hdi_3%\": [np.nan], \"hdi_97%\": [np.nan], \"mcse_mean\": [np.nan], \"mcse_sd\": [np.nan], \"ess_bulk\": [np.nan], \"ess_tail\": [np.nan], \"r_hat\": [np.nan]},\n",
    "                            \"sn\": {\"mean\": [np.nan], \"sd\": [np.nan], \"hdi_3%\": [np.nan], \"hdi_97%\": [np.nan], \"mcse_mean\": [np.nan], \"mcse_sd\": [np.nan], \"ess_bulk\": [np.nan], \"ess_tail\": [np.nan], \"r_hat\": [np.nan]},\n",
    "                            }\n",
    "                        ).transpose()\n",
    "                        df[\"acquisition\"] = 8 * [f\"{acquisition}\"]\n",
    "                        df[\"fragment\"] = 8 * [f\"{fragment1}\"]\n",
    "                        df[\"mass_trace\"] = 8 * [f\"{user_info[fragment]['MS_info'][masstrace][3]}\"]\n",
    "                        df_summary = pandas.concat([df_summary,df])\n",
    "                        double_not_found_first = True\n",
    "                    if az.summary(idata).loc[\"std2\",:][\"mean\"] <= 0.1 or az.summary(idata).loc[\"area2\",:][\"sd\"] > az.summary(idata).loc[\"area2\",:][\"mean\"] * 0.2 or az.summary(idata).loc[\"height2\",:][\"sd\"] > az.summary(idata).loc[\"height2\",:][\"mean\"] * 0.2:\n",
    "                        # post-fit check failed\n",
    "                        # add NaN values to summary DataFrame\n",
    "                        df2 = pandas.DataFrame(\n",
    "                            {\n",
    "                            \"baseline_intercept\": {\"mean\": [np.nan], \"sd\": [np.nan], \"hdi_3%\": [np.nan], \"hdi_97%\": [np.nan], \"mcse_mean\": [np.nan], \"mcse_sd\": [np.nan], \"ess_bulk\": [np.nan], \"ess_tail\": [np.nan], \"r_hat\": [np.nan]},\n",
    "                            \"baseline_slope\": {\"mean\": [np.nan], \"sd\": [np.nan], \"hdi_3%\": [np.nan], \"hdi_97%\": [np.nan], \"mcse_mean\": [np.nan], \"mcse_sd\": [np.nan], \"ess_bulk\": [np.nan], \"ess_tail\": [np.nan], \"r_hat\": [np.nan]},\n",
    "                            \"mean\": {\"mean\": [np.nan], \"sd\": [np.nan], \"hdi_3%\": [np.nan], \"hdi_97%\": [np.nan], \"mcse_mean\": [np.nan], \"mcse_sd\": [np.nan], \"ess_bulk\": [np.nan], \"ess_tail\": [np.nan], \"r_hat\": [np.nan]},\n",
    "                            \"noise\": {\"mean\": [np.nan], \"sd\": [np.nan], \"hdi_3%\": [np.nan], \"hdi_97%\": [np.nan], \"mcse_mean\": [np.nan], \"mcse_sd\": [np.nan], \"ess_bulk\": [np.nan], \"ess_tail\": [np.nan], \"r_hat\": [np.nan]},\n",
    "                            \"std\": {\"mean\": [np.nan], \"sd\": [np.nan], \"hdi_3%\": [np.nan], \"hdi_97%\": [np.nan], \"mcse_mean\": [np.nan], \"mcse_sd\": [np.nan], \"ess_bulk\": [np.nan], \"ess_tail\": [np.nan], \"r_hat\": [np.nan]}, \n",
    "                            \"area\": {\"mean\": [np.nan], \"sd\": [np.nan], \"hdi_3%\": [np.nan], \"hdi_97%\": [np.nan], \"mcse_mean\": [np.nan], \"mcse_sd\": [np.nan], \"ess_bulk\": [np.nan], \"ess_tail\": [np.nan], \"r_hat\": [np.nan]}, \n",
    "                            \"height\": {\"mean\": [np.nan], \"sd\": [np.nan], \"hdi_3%\": [np.nan], \"hdi_97%\": [np.nan], \"mcse_mean\": [np.nan], \"mcse_sd\": [np.nan], \"ess_bulk\": [np.nan], \"ess_tail\": [np.nan], \"r_hat\": [np.nan]},\n",
    "                            \"sn\": {\"mean\": [np.nan], \"sd\": [np.nan], \"hdi_3%\": [np.nan], \"hdi_97%\": [np.nan], \"mcse_mean\": [np.nan], \"mcse_sd\": [np.nan], \"ess_bulk\": [np.nan], \"ess_tail\": [np.nan], \"r_hat\": [np.nan]},\n",
    "                            }\n",
    "                        ).transpose()\n",
    "                        df2[\"acquisition\"] = 8 * [f\"{acquisition}\"]\n",
    "                        df2[\"fragment\"] = 8 * [f\"{fragment2}\"]\n",
    "                        df2[\"mass_trace\"] = 8 * [f\"{user_info[fragment]['MS_info'][masstrace][3]}\"]\n",
    "                        df_summary = pandas.concat([df_summary,df2])\n",
    "                        double_not_found_second = True\n",
    "                    print(f\"end of check 1: {fragment}, {acquisition}: {double_not_found_first}, {double_not_found_second}\")\n",
    "                    # if both peaks failed the r_hat and peak criteria tests, then continue\n",
    "                    if double_not_found_first and double_not_found_second:\n",
    "                        continue\n",
    "                    # r_hat failed but rest of post-fit check passed\n",
    "                    # sample again with more tune samples to possibly reach convergence yet\n",
    "                    with pmodel:\n",
    "                        idata2 = pm.sample_prior_predictive()\n",
    "                        idata2.extend(pm.sample(draws=2000, tune=4000))\n",
    "                    # if still no convergence, kick it\n",
    "                    if any(list(az.summary(idata2).loc[:,\"r_hat\"])) > 1.05:\n",
    "                        print(f\"beginning of check 2: {fragment}, {acquisition}: {double_not_found_first}, {double_not_found_second}\")\n",
    "                        # decide whether to discard signal or sample with more tune samples based on size of sigma parameter of normal distribution (std) and on the relative sizes of standard deviations of area and heigt\n",
    "                        if not double_not_found_first and az.summary(idata).loc[\"std\",:][\"mean\"] <= 0.1 or az.summary(idata).loc[\"area\",:][\"sd\"] > az.summary(idata).loc[\"area\",:][\"mean\"] * 0.2 or az.summary(idata).loc[\"height\",:][\"sd\"] > az.summary(idata).loc[\"height\",:][\"mean\"] * 0.2:\n",
    "                            # post-fit check failed\n",
    "                            # add NaN values to summary DataFrame\n",
    "                            df = pandas.DataFrame(\n",
    "                                {\n",
    "                                \"baseline_intercept\": {\"mean\": [np.nan], \"sd\": [np.nan], \"hdi_3%\": [np.nan], \"hdi_97%\": [np.nan], \"mcse_mean\": [np.nan], \"mcse_sd\": [np.nan], \"ess_bulk\": [np.nan], \"ess_tail\": [np.nan], \"r_hat\": [np.nan]},\n",
    "                                \"baseline_slope\": {\"mean\": [np.nan], \"sd\": [np.nan], \"hdi_3%\": [np.nan], \"hdi_97%\": [np.nan], \"mcse_mean\": [np.nan], \"mcse_sd\": [np.nan], \"ess_bulk\": [np.nan], \"ess_tail\": [np.nan], \"r_hat\": [np.nan]},\n",
    "                                \"mean\": {\"mean\": [np.nan], \"sd\": [np.nan], \"hdi_3%\": [np.nan], \"hdi_97%\": [np.nan], \"mcse_mean\": [np.nan], \"mcse_sd\": [np.nan], \"ess_bulk\": [np.nan], \"ess_tail\": [np.nan], \"r_hat\": [np.nan]},\n",
    "                                \"noise\": {\"mean\": [np.nan], \"sd\": [np.nan], \"hdi_3%\": [np.nan], \"hdi_97%\": [np.nan], \"mcse_mean\": [np.nan], \"mcse_sd\": [np.nan], \"ess_bulk\": [np.nan], \"ess_tail\": [np.nan], \"r_hat\": [np.nan]},\n",
    "                                \"std\": {\"mean\": [np.nan], \"sd\": [np.nan], \"hdi_3%\": [np.nan], \"hdi_97%\": [np.nan], \"mcse_mean\": [np.nan], \"mcse_sd\": [np.nan], \"ess_bulk\": [np.nan], \"ess_tail\": [np.nan], \"r_hat\": [np.nan]}, \n",
    "                                \"area\": {\"mean\": [np.nan], \"sd\": [np.nan], \"hdi_3%\": [np.nan], \"hdi_97%\": [np.nan], \"mcse_mean\": [np.nan], \"mcse_sd\": [np.nan], \"ess_bulk\": [np.nan], \"ess_tail\": [np.nan], \"r_hat\": [np.nan]}, \n",
    "                                \"height\": {\"mean\": [np.nan], \"sd\": [np.nan], \"hdi_3%\": [np.nan], \"hdi_97%\": [np.nan], \"mcse_mean\": [np.nan], \"mcse_sd\": [np.nan], \"ess_bulk\": [np.nan], \"ess_tail\": [np.nan], \"r_hat\": [np.nan]},\n",
    "                                \"sn\": {\"mean\": [np.nan], \"sd\": [np.nan], \"hdi_3%\": [np.nan], \"hdi_97%\": [np.nan], \"mcse_mean\": [np.nan], \"mcse_sd\": [np.nan], \"ess_bulk\": [np.nan], \"ess_tail\": [np.nan], \"r_hat\": [np.nan]},\n",
    "                                }\n",
    "                            ).transpose()\n",
    "                            df[\"acquisition\"] = 8 * [f\"{acquisition}\"]\n",
    "                            df[\"fragment\"] = 8 * [f\"{fragment1}\"]\n",
    "                            df[\"mass_trace\"] = 8 * [f\"{user_info[fragment]['MS_info'][masstrace][3]}\"]\n",
    "                            df_summary = pandas.concat([df_summary,df])\n",
    "                            double_not_found_first = True\n",
    "                        if not double_not_found_second and az.summary(idata).loc[\"std2\",:][\"mean\"] <= 0.1 or az.summary(idata).loc[\"area2\",:][\"sd\"] > az.summary(idata).loc[\"area2\",:][\"mean\"] * 0.2 or az.summary(idata).loc[\"height2\",:][\"sd\"] > az.summary(idata).loc[\"height2\",:][\"mean\"] * 0.2:\n",
    "                            # post-fit check failed\n",
    "                            # add NaN values to summary DataFrame\n",
    "                            df2 = pandas.DataFrame(\n",
    "                                {\n",
    "                                \"baseline_intercept\": {\"mean\": [np.nan], \"sd\": [np.nan], \"hdi_3%\": [np.nan], \"hdi_97%\": [np.nan], \"mcse_mean\": [np.nan], \"mcse_sd\": [np.nan], \"ess_bulk\": [np.nan], \"ess_tail\": [np.nan], \"r_hat\": [np.nan]},\n",
    "                                \"baseline_slope\": {\"mean\": [np.nan], \"sd\": [np.nan], \"hdi_3%\": [np.nan], \"hdi_97%\": [np.nan], \"mcse_mean\": [np.nan], \"mcse_sd\": [np.nan], \"ess_bulk\": [np.nan], \"ess_tail\": [np.nan], \"r_hat\": [np.nan]},\n",
    "                                \"mean\": {\"mean\": [np.nan], \"sd\": [np.nan], \"hdi_3%\": [np.nan], \"hdi_97%\": [np.nan], \"mcse_mean\": [np.nan], \"mcse_sd\": [np.nan], \"ess_bulk\": [np.nan], \"ess_tail\": [np.nan], \"r_hat\": [np.nan]},\n",
    "                                \"noise\": {\"mean\": [np.nan], \"sd\": [np.nan], \"hdi_3%\": [np.nan], \"hdi_97%\": [np.nan], \"mcse_mean\": [np.nan], \"mcse_sd\": [np.nan], \"ess_bulk\": [np.nan], \"ess_tail\": [np.nan], \"r_hat\": [np.nan]},\n",
    "                                \"std\": {\"mean\": [np.nan], \"sd\": [np.nan], \"hdi_3%\": [np.nan], \"hdi_97%\": [np.nan], \"mcse_mean\": [np.nan], \"mcse_sd\": [np.nan], \"ess_bulk\": [np.nan], \"ess_tail\": [np.nan], \"r_hat\": [np.nan]}, \n",
    "                                \"area\": {\"mean\": [np.nan], \"sd\": [np.nan], \"hdi_3%\": [np.nan], \"hdi_97%\": [np.nan], \"mcse_mean\": [np.nan], \"mcse_sd\": [np.nan], \"ess_bulk\": [np.nan], \"ess_tail\": [np.nan], \"r_hat\": [np.nan]}, \n",
    "                                \"height\": {\"mean\": [np.nan], \"sd\": [np.nan], \"hdi_3%\": [np.nan], \"hdi_97%\": [np.nan], \"mcse_mean\": [np.nan], \"mcse_sd\": [np.nan], \"ess_bulk\": [np.nan], \"ess_tail\": [np.nan], \"r_hat\": [np.nan]},\n",
    "                                \"sn\": {\"mean\": [np.nan], \"sd\": [np.nan], \"hdi_3%\": [np.nan], \"hdi_97%\": [np.nan], \"mcse_mean\": [np.nan], \"mcse_sd\": [np.nan], \"ess_bulk\": [np.nan], \"ess_tail\": [np.nan], \"r_hat\": [np.nan]},\n",
    "                                }\n",
    "                            ).transpose()\n",
    "                            df2[\"acquisition\"] = 8 * [f\"{acquisition}\"]\n",
    "                            df2[\"fragment\"] = 8 * [f\"{fragment2}\"]\n",
    "                            df2[\"mass_trace\"] = 8 * [f\"{user_info[fragment]['MS_info'][masstrace][3]}\"]\n",
    "                            df_summary = pandas.concat([df_summary,df2])\n",
    "                            double_not_found_second = True\n",
    "                        # if both peaks failed the r_hat and peak criteria tests, then continue\n",
    "                        if double_not_found_first and double_not_found_second:\n",
    "                            continue\n",
    "                        else:\n",
    "                            idata = idata2                \n",
    "                \n",
    "            # posterior predictive sampling\n",
    "            start = time.time()\n",
    "            with pmodel:\n",
    "                idata.extend(pm.sample_posterior_predictive(idata, return_inferencedata=True))\n",
    "            time3 = time.time() - start\n",
    "            time_dict[\"posterior_predictive_sampling\"][f\"{acquisition}_{fragment}_{user_info[fragment]['MS_info'][masstrace][3]}\"] = time3\n",
    "\n",
    "            # save selected parameters for summary DataFrame\n",
    "            if not user_info[fragment]['double_peak'] == True:\n",
    "                df = az.summary(idata).loc[[\"baseline_intercept\",\"baseline_slope\", \"mean\", \"noise\", \"std\", \"area\", \"height\", \"sn\"],:]\n",
    "                df[\"acquisition\"] = 8 * [f\"{acquisition}\"]\n",
    "                df[\"fragment\"] = 8 * [f\"{fragment}\"]\n",
    "                df[\"mass_trace\"] = 8 * [f\"{user_info[fragment]['MS_info'][masstrace][3]}\"]\n",
    "                df_summary = pandas.concat([df_summary,df])\n",
    "            else:\n",
    "                print(f\"after post-check: {fragment}, {acquisition}: {double_not_found_first}, {double_not_found_second}\")\n",
    "                if not double_not_found_first:\n",
    "                    df = az.summary(idata).loc[[\"baseline_intercept\", \"baseline_slope\", \"mean[0]\", \"noise\", \"std\", \"area\", \"height\", \"sn\"],:]\n",
    "                    df[\"acquisition\"] = 8 * [f\"{acquisition}\"]\n",
    "                    df[\"fragment\"] = 8 * [f\"{fragment1}\"]\n",
    "                    df[\"mass_trace\"] = 8 * [f\"{user_info[fragment]['MS_info'][masstrace][3]}\"]\n",
    "                    df_summary = pandas.concat([df_summary,df])\n",
    "                if not double_not_found_second:\n",
    "                    df2 = az.summary(idata).loc[[\"baseline_intercept\", \"baseline_slope\", \"mean[1]\", \"noise\", \"std2\", \"area2\", \"height2\", \"sn2\"],:]\n",
    "                    df[\"acquisition\"] = 8 * [f\"{acquisition}\"]\n",
    "                    df[\"fragment\"] = 8 * [f\"{fragment2}\"]\n",
    "                    df[\"mass_trace\"] = 8 * [f\"{user_info[fragment]['MS_info'][masstrace][3]}\"]\n",
    "                    df_summary = pandas.concat([df_summary,df2])\n",
    "\n",
    "            # save inference data as netcdf\n",
    "            idata.to_netcdf(fr\"./230427_Pipeline_test_Part1/idata_{acquisition}_{fragment}_{user_info[fragment]['MS_info'][masstrace][3]}\")\n",
    "            # save every single complete summary (to be on the save side -> TODO: possibly remove this later)\n",
    "            df2 = az.summary(idata)\n",
    "            df2.to_excel(fr\"./230427_Pipeline_test_Part1/idata_summary_{acquisition}_{fragment}_{user_info[fragment]['MS_info'][masstrace][3]}.xlsx\") \n",
    "\n",
    "            # save plot of posterior_predictive with 95 % HDI and original data\n",
    "            fig, ax = pyplot.subplots()\n",
    "            plot_density(ax=ax, x=time_np, samples=idata.posterior_predictive.L.stack(sample=(\"chain\", \"draw\")).T.values, percentiles=(2.5,97.5))\n",
    "            ax.scatter(time_np, intensity, marker=\"x\", color=\"black\", label=\"data\")\n",
    "            ax.set_xlabel(\"time / min\", fontsize=11.5, fontweight=\"bold\")\n",
    "            ax.set_ylabel(\"intensity / a.u.\", fontsize=11.5, fontweight=\"bold\")\n",
    "            pyplot.legend()\n",
    "            pyplot.tight_layout()\n",
    "            pyplot.savefig(fr\"./230427_Pipeline_test_Part1/{acquisition}_{fragment}_{user_info[fragment]['MS_info'][masstrace][3]}_predictive_posterior.png\")\n",
    "            pyplot.savefig(fr\"./230427_Pipeline_test_Part1/{acquisition}_{fragment}_{user_info[fragment]['MS_info'][masstrace][3]}_predictive_posterior.svg\", format=\"svg\")\n",
    "            pyplot.close()\n",
    "\n",
    "            # save plot of posterior, baseline, and original data\n",
    "            fig, ax = pyplot.subplots()\n",
    "            pm.gp.util.plot_gp_dist(\n",
    "                ax=ax,\n",
    "                x=time_np,\n",
    "                samples=idata.posterior.y.stack(sample=(\"chain\", \"draw\")).T.values,\n",
    "            )\n",
    "            ax.scatter(time_np, intensity, marker=\"x\", color=\"black\", label=\"data\")\n",
    "            # also plot the baseline\n",
    "            x = np.array(ax.get_xlim())\n",
    "            y = df.loc[\"baseline_intercept\",\"mean\"] + df.loc[\"baseline_slope\",\"mean\"] * x\n",
    "            pyplot.plot(x, y)\n",
    "            pyplot.legend()\n",
    "            ax.set_xlabel(\"time / min\", fontsize=12, fontweight=\"bold\")\n",
    "            ax.set_ylabel(\"intensity / a.u.\", fontsize=12, fontweight=\"bold\")\n",
    "            pyplot.xticks(size=11.5)\n",
    "            pyplot.yticks(size=11.5)\n",
    "            pyplot.tight_layout()\n",
    "            pyplot.savefig(fr\"./230427_Pipeline_test_Part1/{acquisition}_{fragment}_{user_info[fragment]['MS_info'][masstrace][3]}_posterior.png\")\n",
    "            pyplot.savefig(fr\"./230427_Pipeline_test_Part1/{acquisition}_{fragment}_{user_info[fragment]['MS_info'][masstrace][3]}_posterior.svg\", format=\"svg\")\n",
    "            pyplot.close()          \n",
    "            \n",
    "time_df = pandas.DataFrame(time_dict)\n",
    "time_df.to_excel(fr\"./230427_Pipeline_test_Part1/summary_time.xlsx\")\n",
    "guess_df = pandas.DataFrame(guess_dict)\n",
    "guess_df.to_excel(fr\"./230427_Pipeline_test_Part1/summary_guesses.xlsx\")\n",
    "# summary file for peak characteristics of all fragments\n",
    "# df_summary = df_summary.rename({\"Unnamed: 0\": \"parameter\"}, axis=1)\n",
    "df_summary.to_excel(fr\"./230427_Pipeline_test_Part1/summary_peak_data.xlsx\")\n",
    "# also save a version of df_summary only for areas with correct order and only necessary data\n",
    "df_area_summary = df_summary[df_summary.index == \"area\"]\n",
    "df4_area_summary = df_area_summary.sort_values([\"acquisition\", \"mass_trace\"])\n",
    "df4_area_summary = df4_area_summary.drop(labels=[\"mcse_mean\", \"mcse_sd\", \"ess_bulk\", \"ess_tail\"], axis=1)\n",
    "# df4_area_summary = df4_area_summary.rename({\"Unnamed: 0\": \"parameter\"}, axis=1)\n",
    "df4_area_summary.to_excel(fr\"./230427_Pipeline_test_Part1/summary_peak_area.xlsx\")"
   ]
  },
  {
   "cell_type": "code",
   "execution_count": 50,
   "metadata": {},
   "outputs": [
    {
     "data": {
      "text/html": [
       "<div>\n",
       "<style scoped>\n",
       "    .dataframe tbody tr th:only-of-type {\n",
       "        vertical-align: middle;\n",
       "    }\n",
       "\n",
       "    .dataframe tbody tr th {\n",
       "        vertical-align: top;\n",
       "    }\n",
       "\n",
       "    .dataframe thead th {\n",
       "        text-align: right;\n",
       "    }\n",
       "</style>\n",
       "<table border=\"1\" class=\"dataframe\">\n",
       "  <thead>\n",
       "    <tr style=\"text-align: right;\">\n",
       "      <th></th>\n",
       "      <th>mean</th>\n",
       "      <th>sd</th>\n",
       "      <th>hdi_3%</th>\n",
       "      <th>hdi_97%</th>\n",
       "      <th>mcse_mean</th>\n",
       "      <th>mcse_sd</th>\n",
       "      <th>ess_bulk</th>\n",
       "      <th>ess_tail</th>\n",
       "      <th>r_hat</th>\n",
       "      <th>acquisition</th>\n",
       "      <th>fragment</th>\n",
       "      <th>mass_trace</th>\n",
       "    </tr>\n",
       "  </thead>\n",
       "  <tbody>\n",
       "    <tr>\n",
       "      <th>area</th>\n",
       "      <td>[nan]</td>\n",
       "      <td>[nan]</td>\n",
       "      <td>[nan]</td>\n",
       "      <td>[nan]</td>\n",
       "      <td>[nan]</td>\n",
       "      <td>[nan]</td>\n",
       "      <td>[nan]</td>\n",
       "      <td>[nan]</td>\n",
       "      <td>[nan]</td>\n",
       "      <td>A2_t2_1_Part1</td>\n",
       "      <td>Leu86</td>\n",
       "      <td>M0_m0</td>\n",
       "    </tr>\n",
       "    <tr>\n",
       "      <th>area</th>\n",
       "      <td>[nan]</td>\n",
       "      <td>[nan]</td>\n",
       "      <td>[nan]</td>\n",
       "      <td>[nan]</td>\n",
       "      <td>[nan]</td>\n",
       "      <td>[nan]</td>\n",
       "      <td>[nan]</td>\n",
       "      <td>[nan]</td>\n",
       "      <td>[nan]</td>\n",
       "      <td>A2_t2_1_Part1</td>\n",
       "      <td>Ile86</td>\n",
       "      <td>M0_m0</td>\n",
       "    </tr>\n",
       "    <tr>\n",
       "      <th>area</th>\n",
       "      <td>[nan]</td>\n",
       "      <td>[nan]</td>\n",
       "      <td>[nan]</td>\n",
       "      <td>[nan]</td>\n",
       "      <td>[nan]</td>\n",
       "      <td>[nan]</td>\n",
       "      <td>[nan]</td>\n",
       "      <td>[nan]</td>\n",
       "      <td>[nan]</td>\n",
       "      <td>A2_t2_1_Part1</td>\n",
       "      <td>Leu86</td>\n",
       "      <td>M0_m0</td>\n",
       "    </tr>\n",
       "    <tr>\n",
       "      <th>area</th>\n",
       "      <td>[nan]</td>\n",
       "      <td>[nan]</td>\n",
       "      <td>[nan]</td>\n",
       "      <td>[nan]</td>\n",
       "      <td>[nan]</td>\n",
       "      <td>[nan]</td>\n",
       "      <td>[nan]</td>\n",
       "      <td>[nan]</td>\n",
       "      <td>[nan]</td>\n",
       "      <td>A2_t2_1_Part1</td>\n",
       "      <td>Ile86</td>\n",
       "      <td>M0_m0</td>\n",
       "    </tr>\n",
       "  </tbody>\n",
       "</table>\n",
       "</div>"
      ],
      "text/plain": [
       "       mean     sd hdi_3% hdi_97% mcse_mean mcse_sd ess_bulk ess_tail  r_hat  \\\n",
       "area  [nan]  [nan]  [nan]   [nan]     [nan]   [nan]    [nan]    [nan]  [nan]   \n",
       "area  [nan]  [nan]  [nan]   [nan]     [nan]   [nan]    [nan]    [nan]  [nan]   \n",
       "area  [nan]  [nan]  [nan]   [nan]     [nan]   [nan]    [nan]    [nan]  [nan]   \n",
       "area  [nan]  [nan]  [nan]   [nan]     [nan]   [nan]    [nan]    [nan]  [nan]   \n",
       "\n",
       "        acquisition fragment mass_trace  \n",
       "area  A2_t2_1_Part1    Leu86      M0_m0  \n",
       "area  A2_t2_1_Part1    Ile86      M0_m0  \n",
       "area  A2_t2_1_Part1    Leu86      M0_m0  \n",
       "area  A2_t2_1_Part1    Ile86      M0_m0  "
      ]
     },
     "execution_count": 50,
     "metadata": {},
     "output_type": "execute_result"
    }
   ],
   "source": [
    "# df_area_summary = df_summary[df_summary.iloc[:,1] == \"area\"]\n",
    "df = df_summary[df_summary.index == \"area\"]\n",
    "df2 = df\n",
    "df2 = pandas.concat([df2,df])\n",
    "df2"
   ]
  },
  {
   "attachments": {},
   "cell_type": "markdown",
   "metadata": {},
   "source": [
    "#### Test model with skew normal distribution (exmaple: His110)"
   ]
  },
  {
   "cell_type": "code",
   "execution_count": 78,
   "metadata": {},
   "outputs": [],
   "source": [
    "# Read example data\n",
    "time_np = np.fromfile(fr\"./His110 test data/A1_t1_1_Part2_His110_M0_m0_time.npy\")\n",
    "intensity_np = np.fromfile(fr\"./His110 test data/A1_t1_1_Part2_His110_M0_m0_intensity.npy\")"
   ]
  },
  {
   "cell_type": "code",
   "execution_count": 79,
   "metadata": {},
   "outputs": [
    {
     "data": {
      "image/png": "[encoded data removed]",
      "text/plain": [
       "<Figure size 640x480 with 1 Axes>"
      ]
     },
     "metadata": {},
     "output_type": "display_data"
    }
   ],
   "source": [
    "fig, ax = pyplot.subplots()\n",
    "ax.scatter(time_np, intensity_np, marker=\"x\", color=\"black\", label=\"data\")\n",
    "pyplot.legend()\n",
    "ax.set_xlabel(\"time / min\", fontsize=12, fontweight=\"bold\")\n",
    "ax.set_ylabel(\"intensity / a.u.\", fontsize=12, fontweight=\"bold\")\n",
    "pyplot.xticks(size=11.5)\n",
    "pyplot.yticks(size=11.5)\n",
    "pyplot.tight_layout()\n",
    "pyplot.show()"
   ]
  },
  {
   "attachments": {},
   "cell_type": "markdown",
   "metadata": {},
   "source": [
    "neues Modell -> erzeugt guten Fit, aber Höhe ist definitiv falsch"
   ]
  },
  {
   "cell_type": "code",
   "execution_count": 94,
   "metadata": {},
   "outputs": [],
   "source": [
    "with pm.Model() as pmodel:\n",
    "    # priors\n",
    "    baseline = pm.Normal(\"baseline\", 200, 100)\n",
    "    noise = pm.LogNormal(\"noise\", np.log(100), 1)\n",
    "    mean = pm.Normal(\"mean\", np.mean(time_np[[0, -1]]), np.ptp(time_np) / 2)\n",
    "    std = pm.HalfNormal(\"std\", np.ptp(time_np) / 3)\n",
    "    alpha = 0\n",
    "    # when x-axis (time) is in minutes\n",
    "    area = pm.HalfNormal(\"area\", np.max(intensity_np) * 0.9)\n",
    "    # when x-axis (time) is in seconds (i.e. for comparison with MultiQuant)\n",
    "    # area = pm.HalfNormal(\"area\", 50000)\n",
    "\n",
    "    # posterior with x = time = 0\n",
    "    pm.Deterministic(\"height\", area * (1 / (std * np.sqrt(2 * np.pi))))\n",
    "    # posterior\n",
    "    # y = baseline + area * (1 / (std * np.sqrt(2 * np.pi)) * pt.exp(-0.5 * ((time_np - mean) / std)**2))\n",
    "    # normal_pdf = (1 / (std * np.sqrt(2 * np.pi)) * pt.exp(-0.5 * ((time_np - mean) / std)**2))\n",
    "    # cumulative_distribution_function = (0.5 * (1 + pt.erf(((alpha * (time_np - mean) / std)) / np.sqrt(2))))\n",
    "\n",
    "    # y = baseline + area * pdf(skew normal)\n",
    "    # pdf(skew normal) = 2 * normal_pdf *cumulative_distribution_function\n",
    "    # y = baseline + area * (2 * (1 / (std * np.sqrt(2 * np.pi)) * pt.exp(-0.5 * ((time_np - mean) / std)**2)) * (0.5 * (1 + pt.erf(((alpha * (time_np - mean) / std)) / np.sqrt(2)))))\n",
    "    y = baseline + area * (2 * (1 / (std * np.sqrt(2 * np.pi)) * pt.exp(-0.5 * ((time_np - mean) / std)**2)) * (0.5 * (1 + pt.erf(((alpha * (time_np - mean) / std)) / np.sqrt(2)))))\n",
    "\n",
    "    y = pm.Deterministic(\"y\", y)\n",
    "\n",
    "    # likelihood (auf der y-Achse liegende Normalverteilung um Datenpunkte, entspricht hier Normalverteilung um Wert mit Standardabweichung = noise)\n",
    "    L = pm.Normal(\"L\", mu=y, sigma=noise, observed=intensity_np)"
   ]
  },
  {
   "attachments": {},
   "cell_type": "markdown",
   "metadata": {},
   "source": [
    "neues Modell -> Versuch zur Korrektur der Höhe: Annahme: Höhe ist f(time - mean = 0)"
   ]
  },
  {
   "cell_type": "code",
   "execution_count": null,
   "metadata": {},
   "outputs": [],
   "source": [
    "with pm.Model() as pmodel:\n",
    "    # priors\n",
    "    baseline = pm.Normal(\"baseline\", 200, 100)\n",
    "    noise = pm.LogNormal(\"noise\", np.log(100), 1)\n",
    "    mean = pm.Normal(\"mean\", np.mean(time_np[[0, -1]]), np.ptp(time_np) / 2)\n",
    "    std = pm.HalfNormal(\"std\", np.ptp(time_np) / 3)\n",
    "    alpha = pm.HalfNormal(\"alpha\", 2.5)\n",
    "    # when x-axis (time) is in minutes\n",
    "    height = pm.HalfNormal(\"height\", 0.95 * np.max(intensity))\n",
    "    area = pm.Deterministic(\"area\", height/(1 / (std * np.sqrt(2 * np.pi))))\n",
    "    # when x-axis (time) is in seconds (i.e. for comparison with MultiQuant)\n",
    "    # area = pm.HalfNormal(\"area\", 50000)\n",
    "\n",
    "    # posterior with x = time = 0\n",
    "    pm.Deterministic(\"height\", area * (1 / (std * np.sqrt(2 * np.pi))))\n",
    "    # posterior\n",
    "    y = baseline + height * (2 * pt.exp(-0.5 * ((time_np - mean) / std)**2)) * (0.5 * (1 + pt.erf(((alpha * (time_np - mean) / std)) / np.sqrt(2))))\n",
    "    y = pm.Deterministic(\"y\", y)\n",
    "\n",
    "    # likelihood (auf der y-Achse liegende Normalverteilung um Datenpunkte, entspricht hier Normalverteilung um Wert mit Standardabweichung = noise)\n",
    "    L = pm.Normal(\"L\", mu=y, sigma=noise, observed=intensity_np)"
   ]
  },
  {
   "cell_type": "code",
   "execution_count": null,
   "metadata": {},
   "outputs": [],
   "source": [
    "with pm.Model() as pmodel:\n",
    "    # priors plus error handling in case of mathematically impermissible values\n",
    "    if intercept_guess == 0:\n",
    "        baseline_intercept = pm.Normal(\"baseline_intercept\", intercept_guess, 20)\n",
    "    else:\n",
    "        baseline_intercept = pm.Normal(\"baseline_intercept\", intercept_guess, intercept_guess / 2)\n",
    "    baseline_slope = pm.Normal(\"baseline_slope\", slope_guess, np.abs(slope_guess*2)+1)\n",
    "    baseline = pm.Deterministic(\"baseline\", baseline_intercept + baseline_slope * time_np)\n",
    "    # since log(0) leads to -inf, this case is handled by setting noise_width_guess to 10\n",
    "    if noise_width_guess > 0:\n",
    "        noise = pm.LogNormal(\"noise\", np.log(noise_width_guess), 1)\n",
    "    elif noise_width_guess == 0:\n",
    "        noise = pm.LogNormal(\"noise\", np.log(10), 1)\n",
    "    mean = pm.Normal(\"mean\", np.mean(time_np[[0, -1]]), np.ptp(time_np) / 2)\n",
    "    std = pm.HalfNormal(\"std\", np.ptp(time_np) / 3)\n",
    "    height = pm.HalfNormal(\"height\", 0.95 * np.max(intensity))\n",
    "    area = pm.Deterministic(\"area\", height/(1 / (std * np.sqrt(2 * np.pi))))\n",
    "    sn = pm.Deterministic(\"sn\", height/noise)\n",
    "    # posterior\n",
    "    y = baseline + height * pt.exp(-0.5 * ((time_np - mean) / std)**2)\n",
    "    y = pm.Deterministic(\"y\", y)\n",
    "\n",
    "    # likelihood (auf der y-Achse liegende Normalverteilung um Datenpunkte, entspricht hier Normalverteilung um Wert mit Standardabweichung = noise)\n",
    "    L = pm.Normal(\"L\", mu=y, sigma=noise, observed=intensity)"
   ]
  },
  {
   "cell_type": "code",
   "execution_count": null,
   "metadata": {},
   "outputs": [],
   "source": [
    "with pm.Model() as pmodel:\n",
    "    # priors\n",
    "    baseline = pm.Normal(\"baseline\", 200, 100)\n",
    "    noise = pm.LogNormal(\"noise\", np.log(100), 1)\n",
    "    mean = pm.Normal(\"mean\", np.mean(time_np[[0, -1]]), np.ptp(time_np) / 2)\n",
    "    std = pm.HalfNormal(\"std\", np.ptp(time_np) / 3)\n",
    "    alpha = pm.HalfNormal(\"alpha\", 2.5)\n",
    "    height = pm.HalfNormal(\"height\", 0.95 * np.max(intensity_np))\n",
    "    area = pm.Deterministic(\"area\", height/(1 / (std * np.sqrt(2 * np.pi))))\n",
    "    sn = pm.Deterministic(\"sn\", height/noise)\n",
    "    # posterior with x = time = 0\n",
    "    y = baseline + height * (2 * pt.exp(-0.5 * ((time_np - mean) / std)**2)) * (0.5 * (1 + pt.erf(((alpha * (time_np - mean) / std)) / np.sqrt(2))))\n",
    "    y = pm.Deterministic(\"y\", y)\n",
    "\n",
    "    # likelihood (auf der y-Achse liegende Normalverteilung um Datenpunkte, entspricht hier Normalverteilung um Wert mit Standardabweichung = noise)\n",
    "    L = pm.Normal(\"L\", mu=y, sigma=noise, observed=intensity_np)"
   ]
  },
  {
   "cell_type": "code",
   "execution_count": 95,
   "metadata": {},
   "outputs": [
    {
     "name": "stderr",
     "output_type": "stream",
     "text": [
      "Sampling: [L, area, baseline, mean, noise, std]\n",
      "Auto-assigning NUTS sampler...\n",
      "Initializing NUTS using jitter+adapt_diag...\n",
      "Multiprocess sampling (4 chains in 4 jobs)\n",
      "NUTS: [baseline, noise, mean, std, area]\n"
     ]
    },
    {
     "name": "stderr",
     "output_type": "stream",
     "text": [
      "Sampling 4 chains for 2_000 tune and 2_000 draw iterations (8_000 + 8_000 draws total) took 67 seconds.\n"
     ]
    }
   ],
   "source": [
    "with pmodel:\n",
    "    idata = pm.sample_prior_predictive()\n",
    "    idata.extend(pm.sample(2000, tune = 2000))"
   ]
  },
  {
   "cell_type": "code",
   "execution_count": 82,
   "metadata": {},
   "outputs": [
    {
     "data": {
      "image/png": "[encoded data removed]",
      "text/plain": [
       "<Figure size 640x480 with 1 Axes>"
      ]
     },
     "metadata": {},
     "output_type": "display_data"
    }
   ],
   "source": [
    "# area\n",
    "fig, ax = pyplot.subplots()\n",
    "\n",
    "pm.gp.util.plot_gp_dist(\n",
    "    ax=ax,\n",
    "    x=time_np,\n",
    "    samples=idata.posterior.y.stack(sample=(\"chain\", \"draw\")).T.values,\n",
    ")\n",
    "ax.scatter(time_np, intensity_np, marker=\"x\", color=\"black\", label=\"data\")\n",
    "ax.set_xlabel(\"time / min\", fontsize=12, fontweight=\"bold\")\n",
    "ax.set_ylabel(\"intensity / a.u.\", fontsize=12, fontweight=\"bold\")\n",
    "# plot baseline\n",
    "x = np.array(ax.get_xlim())\n",
    "y_baseline = az.summary(idata).loc[\"baseline\",\"mean\"]\n",
    "y = [y_baseline] * len(x)\n",
    "pyplot.plot(x, y)\n",
    "pyplot.legend()\n",
    "pyplot.tight_layout()\n",
    "pyplot.show()"
   ]
  },
  {
   "cell_type": "code",
   "execution_count": 87,
   "metadata": {},
   "outputs": [
    {
     "data": {
      "text/plain": [
       "1495.784"
      ]
     },
     "execution_count": 87,
     "metadata": {},
     "output_type": "execute_result"
    }
   ],
   "source": [
    "# skew normal\n",
    "az.summary(idata).loc[\"area\",\"mean\"]"
   ]
  },
  {
   "cell_type": "code",
   "execution_count": 96,
   "metadata": {},
   "outputs": [
    {
     "data": {
      "text/plain": [
       "area      1433.825\n",
       "height    1841.238\n",
       "Name: mean, dtype: float64"
      ]
     },
     "execution_count": 96,
     "metadata": {},
     "output_type": "execute_result"
    }
   ],
   "source": [
    "# skew normal with alpha = 0\n",
    "az.summary(idata).loc[[\"area\",\"height\"],\"mean\"]"
   ]
  },
  {
   "cell_type": "code",
   "execution_count": 93,
   "metadata": {},
   "outputs": [
    {
     "data": {
      "text/plain": [
       "area      1434.721\n",
       "height    1841.643\n",
       "Name: mean, dtype: float64"
      ]
     },
     "execution_count": 93,
     "metadata": {},
     "output_type": "execute_result"
    }
   ],
   "source": [
    "# normal\n",
    "az.summary(idata).loc[[\"area\",\"height\"],\"mean\"]"
   ]
  },
  {
   "cell_type": "code",
   "execution_count": null,
   "metadata": {},
   "outputs": [],
   "source": [
    "rv = pm.SkewNormal.dist(...)\n",
    "pdf = pt.exp(pm.logp(rv, x))"
   ]
  },
  {
   "cell_type": "code",
   "execution_count": 86,
   "metadata": {},
   "outputs": [
    {
     "name": "stdout",
     "output_type": "stream",
     "text": [
      "Help on method dist in module pymc.distributions.continuous:\n",
      "\n",
      "dist(alpha=1, mu=0.0, sigma=None, tau=None, *args, **kwargs) method of pymc.distributions.distribution.DistributionMeta instance\n",
      "    Creates a tensor variable corresponding to the `cls` distribution.\n",
      "    \n",
      "    Parameters\n",
      "    ----------\n",
      "    dist_params : array-like\n",
      "        The inputs to the `RandomVariable` `Op`.\n",
      "    shape : int, tuple, Variable, optional\n",
      "        A tuple of sizes for each dimension of the new RV.\n",
      "    **kwargs\n",
      "        Keyword arguments that will be forwarded to the PyTensor RV Op.\n",
      "        Most prominently: ``size`` or ``dtype``.\n",
      "    \n",
      "    Returns\n",
      "    -------\n",
      "    rv : TensorVariable\n",
      "        The created random variable tensor.\n",
      "\n"
     ]
    }
   ],
   "source": [
    "help(pm.SkewNormal.dist)"
   ]
  },
  {
   "cell_type": "code",
   "execution_count": null,
   "metadata": {},
   "outputs": [],
   "source": [
    "with pm.Model() as pmodel:\n",
    "    # priors\n",
    "    baseline = pm.Normal(\"baseline\", 200, 100)\n",
    "    noise = pm.LogNormal(\"noise\", np.log(100), 1)\n",
    "    mean = pm.Normal(\"mean\", np.mean(time_np[[0, -1]]), np.ptp(time_np) / 2)\n",
    "    std = pm.HalfNormal(\"std\", np.ptp(time_np) / 3)\n",
    "    alpha = pm.HalfNormal(\"alpha\", 2.5)\n",
    "    # when x-axis (time) is in minutes\n",
    "    height = pm.HalfNormal(\"height\", 0.95 * np.max(intensity))\n",
    "    area = pm.Deterministic(\"area\", height/(1 / (std * np.sqrt(2 * np.pi))))\n",
    "    # when x-axis (time) is in seconds (i.e. for comparison with MultiQuant)\n",
    "    # area = pm.HalfNormal(\"area\", 50000)\n",
    "\n",
    "    # posterior with x = time = 0\n",
    "    pm.Deterministic(\"height\", area * (1 / (std * np.sqrt(2 * np.pi))))\n",
    "    # posterior\n",
    "    y = baseline + height * (2 * pt.exp(-0.5 * ((time_np - mean) / std)**2)) * (0.5 * (1 + pt.erf(((alpha * (time_np - mean) / std)) / np.sqrt(2))))\n",
    "    y = pm.Deterministic(\"y\", y)\n",
    "\n",
    "    # likelihood (auf der y-Achse liegende Normalverteilung um Datenpunkte, entspricht hier Normalverteilung um Wert mit Standardabweichung = noise)\n",
    "    L = pm.Normal(\"L\", mu=y, sigma=noise, observed=intensity_np)"
   ]
  },
  {
   "cell_type": "code",
   "execution_count": null,
   "metadata": {},
   "outputs": [
    {
     "data": {
      "image/png": "[encoded data removed]",
      "text/plain": [
       "<Figure size 640x480 with 1 Axes>"
      ]
     },
     "metadata": {},
     "output_type": "display_data"
    }
   ],
   "source": [
    "# height\n",
    "fig, ax = pyplot.subplots()\n",
    "\n",
    "pm.gp.util.plot_gp_dist(\n",
    "    ax=ax,\n",
    "    x=time_np,\n",
    "    samples=idata.posterior.y.stack(sample=(\"chain\", \"draw\")).T.values,\n",
    ")\n",
    "ax.scatter(time_np, intensity_np, marker=\"x\", color=\"black\", label=\"data\")\n",
    "ax.set_xlabel(\"time / min\", fontsize=12, fontweight=\"bold\")\n",
    "ax.set_ylabel(\"intensity / a.u.\", fontsize=12, fontweight=\"bold\")\n",
    "# plot baseline\n",
    "x = np.array(ax.get_xlim())\n",
    "y_baseline = az.summary(idata).loc[\"baseline\",\"mean\"]\n",
    "y = [y_baseline] * len(x)\n",
    "pyplot.plot(x, y)\n",
    "pyplot.legend()\n",
    "pyplot.tight_layout()\n",
    "pyplot.show()"
   ]
  },
  {
   "cell_type": "code",
   "execution_count": null,
   "metadata": {},
   "outputs": [
    {
     "data": {
      "text/plain": [
       "1140.687"
      ]
     },
     "execution_count": 65,
     "metadata": {},
     "output_type": "execute_result"
    }
   ],
   "source": [
    "az.summary(idata).loc[\"height\",\"mean\"]"
   ]
  },
  {
   "attachments": {},
   "cell_type": "markdown",
   "metadata": {},
   "source": [
    "#### Zeit verschiedener Methoden zum Guesses von baseline priors messen"
   ]
  },
  {
   "cell_type": "code",
   "execution_count": 56,
   "metadata": {},
   "outputs": [],
   "source": [
    "def initial_guesses(time, intensity):\n",
    "    \"\"\"\n",
    "    Provide initial guesses for priors.\n",
    "\n",
    "    Parameters\n",
    "    ----------\n",
    "    time\n",
    "        numpy array with the time values of the relevant timeframe\n",
    "    intensity\n",
    "        numpy array with the intensity values of the relevant timeframe\n",
    "\n",
    "    Returns\n",
    "    -------\n",
    "    baseline_fit.slope : float or int\n",
    "        guess for the slope of the linear baseline prior\n",
    "    baseline_fit.intercept : float or int\n",
    "        guess for the intercept of the linear baseline prior\n",
    "    noise_width_guess : float or int\n",
    "        guess for the width of the noise\n",
    "    \"\"\"\n",
    "    # first create a simple baseline guess only to be able to \"correct\" the intensity data (y_corrected = y - y_baseline)\n",
    "    # then, use the corrected data to determine which data points are going to be defined as noise\n",
    "    # this is the only use of the corrected data\n",
    "    average_initial_intensity = np.mean([intensity[n] for n in range(3)])\n",
    "    average_final_intensity = np.mean(\n",
    "        [intensity[n] for n in range(len(intensity) - 3, len(intensity))]\n",
    "    )\n",
    "    slope_guess = (average_final_intensity - average_initial_intensity) / (time[-1] - time[0])\n",
    "    # calculate intercept_guess based on the slope_guess and the formula for a linear equation\n",
    "    first_intercept_guess = average_initial_intensity - slope_guess * time[0]\n",
    "    intensity_corrected = [\n",
    "        intensity[n] - (slope_guess * time[n] + first_intercept_guess) for n in range(len(time))\n",
    "    ]\n",
    "\n",
    "    # select lowest 35 % of all data points as noise -> noise_tuple\n",
    "    intensity_tuple = list(enumerate(intensity_corrected))\n",
    "    intensity_tuple.sort(key=lambda x: x[1])\n",
    "    noise_range = int(np.round(0.35 * len(intensity_corrected), decimals=0))\n",
    "    noise_tuple = intensity_tuple[:noise_range]\n",
    "    noise_index = sorted([x[0] for x in noise_tuple])\n",
    "    # use the indeces in noise_index to get the time and intensity of all noise data points\n",
    "    noise_time = [time[n] for n in noise_index]\n",
    "    noise_intensity = [intensity[n] for n in noise_index]\n",
    "    # calculate the width of the noise\n",
    "    noise_width_guess = max(noise_intensity) - min(noise_intensity)\n",
    "\n",
    "    # use scipy to fit a linear regression through the noise as a prior for the eventual baseline\n",
    "    baseline_fit = st.linregress(noise_time, noise_intensity)\n",
    "\n",
    "    return baseline_fit.slope, baseline_fit.intercept, noise_width_guess"
   ]
  },
  {
   "cell_type": "code",
   "execution_count": 57,
   "metadata": {},
   "outputs": [],
   "source": [
    "def initial_guesses_numpy(time, intensity):\n",
    "    \"\"\"\n",
    "    Provide initial guesses for priors.\n",
    "\n",
    "    Parameters\n",
    "    ----------\n",
    "    time\n",
    "        numpy array with the time values of the relevant timeframe\n",
    "    intensity\n",
    "        numpy array with the intensity values of the relevant timeframe\n",
    "\n",
    "    Returns\n",
    "    -------\n",
    "    baseline_fit.slope : float or int\n",
    "        guess for the slope of the linear baseline prior\n",
    "    baseline_fit.intercept : float or int\n",
    "        guess for the intercept of the linear baseline prior\n",
    "    noise_width_guess : float or int\n",
    "        guess for the width of the noise\n",
    "    \"\"\"\n",
    "    # first create a simple baseline guess only to be able to \"correct\" the intensity data (y_corrected = y - y_baseline)\n",
    "    # then, use the corrected data to determine which data points are going to be defined as noise\n",
    "    # this is the only use of the corrected data\n",
    "    time = np.asanyarray(time)\n",
    "    intensity = np.asanyarray(intensity)\n",
    "    average_initial_intensity = np.mean(intensity[:3])\n",
    "    average_final_intensity = np.mean(intensity[-3:])\n",
    "    slope_guess = (average_final_intensity - average_initial_intensity) / np.ptp(time)\n",
    "    # calculate intercept_guess based on the slope_guess and the formula for a linear equation\n",
    "    first_intercept_guess = average_initial_intensity - slope_guess * time[0]\n",
    "    intensity_corrected = [\n",
    "        intensity[n] - (slope_guess * time[n] + first_intercept_guess) for n in range(len(time))\n",
    "    ]\n",
    "\n",
    "    # select lowest 35 % of all data points as noise -> noise_tuple\n",
    "    intensity_tuple = list(enumerate(intensity_corrected))\n",
    "    intensity_tuple.sort(key=lambda x: x[1])\n",
    "    noise_range = int(np.round(0.35 * len(intensity_corrected), decimals=0))\n",
    "    noise_tuple = intensity_tuple[:noise_range]\n",
    "    noise_index = sorted([x[0] for x in noise_tuple])\n",
    "    # use the indeces in noise_index to get the time and intensity of all noise data points\n",
    "    noise_time = time[noise_index]\n",
    "    noise_intensity = intensity[noise_index]\n",
    "    # calculate the width of the noise\n",
    "    noise_width_guess = np.ptp(noise_intensity)\n",
    "\n",
    "    # use scipy to fit a linear regression through the noise as a prior for the eventual baseline\n",
    "    baseline_fit = st.linregress(noise_time, noise_intensity)\n",
    "\n",
    "    # return baseline_fit.slope, baseline_fit.intercept, noise_width_guess\n",
    "    return baseline_fit.slope, baseline_fit.intercept, noise_width_guess"
   ]
  },
  {
   "cell_type": "code",
   "execution_count": 2,
   "metadata": {},
   "outputs": [
    {
     "data": {
      "text/plain": [
       "17.142857142857142"
      ]
     },
     "execution_count": 2,
     "metadata": {},
     "output_type": "execute_result"
    }
   ],
   "source": [
    "6/0.35"
   ]
  },
  {
   "cell_type": "code",
   "execution_count": 5,
   "metadata": {},
   "outputs": [
    {
     "data": {
      "text/plain": [
       "17"
      ]
     },
     "execution_count": 5,
     "metadata": {},
     "output_type": "execute_result"
    }
   ],
   "source": [
    "intensity = [1,5,3] + 11 * [1000] + [7,9,11]\n",
    "len(intensity)"
   ]
  },
  {
   "cell_type": "code",
   "execution_count": 1,
   "metadata": {},
   "outputs": [
    {
     "data": {
      "text/plain": [
       "[2.0,\n",
       " 2.1,\n",
       " 2.2,\n",
       " 2.3,\n",
       " 2.4,\n",
       " 2.5,\n",
       " 2.6,\n",
       " 2.7,\n",
       " 2.8,\n",
       " 2.9,\n",
       " 3.0,\n",
       " 3.1,\n",
       " 3.2,\n",
       " 3.3,\n",
       " 3.4000000000000004,\n",
       " 3.5,\n",
       " 3.6]"
      ]
     },
     "execution_count": 1,
     "metadata": {},
     "output_type": "execute_result"
    }
   ],
   "source": [
    "time = [2+0.1*x for x in range(17)]\n",
    "time"
   ]
  },
  {
   "cell_type": "code",
   "execution_count": 13,
   "metadata": {},
   "outputs": [
    {
     "data": {
      "text/plain": [
       "10"
      ]
     },
     "execution_count": 13,
     "metadata": {},
     "output_type": "execute_result"
    }
   ],
   "source": [
    "expected_noise_width = np.ptp([1,5,3,7,9,11])\n",
    "expected_noise_width"
   ]
  },
  {
   "cell_type": "code",
   "execution_count": 14,
   "metadata": {},
   "outputs": [
    {
     "data": {
      "text/plain": [
       "LinregressResult(slope=3.2352941176469847, intercept=640.1176470588236, rvalue=0.003336614214125531, pvalue=0.9898597583919873, stderr=250.35699232556948, intercept_stderr=711.6482830295781)"
      ]
     },
     "execution_count": 14,
     "metadata": {},
     "output_type": "execute_result"
    }
   ],
   "source": [
    "st.linregress(time, intensity)"
   ]
  },
  {
   "cell_type": "code",
   "execution_count": 85,
   "metadata": {},
   "outputs": [],
   "source": [
    "# Read example data\n",
    "time = np.fromfile(fr\"./His110 test data/A1_t1_1_Part2_His110_M0_m0_time.npy\")\n",
    "intensity = np.fromfile(fr\"./His110 test data/A1_t1_1_Part2_His110_M0_m0_intensity.npy\")"
   ]
  },
  {
   "cell_type": "code",
   "execution_count": 87,
   "metadata": {},
   "outputs": [
    {
     "name": "stdout",
     "output_type": "stream",
     "text": [
      "0.04546666666666255 0.04545000000000243 0.0454666666666661\n"
     ]
    }
   ],
   "source": [
    "print(time[1]-time[0], time[2]-time[1], time[10]-time[9])\n"
   ]
  },
  {
   "cell_type": "code",
   "execution_count": 62,
   "metadata": {},
   "outputs": [
    {
     "name": "stdout",
     "output_type": "stream",
     "text": [
      "259 µs ± 9.03 µs per loop (mean ± std. dev. of 7 runs, 20,000 loops each)\n"
     ]
    }
   ],
   "source": [
    "%timeit -n 20000 slope2, intercept2, noise2 = initial_guesses(time, intensity)"
   ]
  },
  {
   "cell_type": "code",
   "execution_count": 63,
   "metadata": {},
   "outputs": [
    {
     "name": "stdout",
     "output_type": "stream",
     "text": [
      "267 µs ± 8.51 µs per loop (mean ± std. dev. of 7 runs, 20,000 loops each)\n"
     ]
    }
   ],
   "source": [
    "%timeit -n 20000 slope1, intercept1, noise1 = initial_guesses_numpy(time, intensity)"
   ]
  },
  {
   "cell_type": "code",
   "execution_count": 40,
   "metadata": {},
   "outputs": [],
   "source": [
    "slope1, intercept1, noise1 = initial_guesses_numpy(time, intensity)\n",
    "slope2, intercept2, noise2 = initial_guesses(time, intensity)\n",
    "assert slope1 == slope2\n",
    "assert intercept1 == intercept2\n",
    "assert noise1 == noise2"
   ]
  },
  {
   "cell_type": "code",
   "execution_count": 53,
   "metadata": {},
   "outputs": [],
   "source": [
    "testcode1 = \"\"\"\n",
    "slope2, intercept2, noise2 = initial_guesses(time, intensity)\n",
    "\"\"\""
   ]
  },
  {
   "cell_type": "code",
   "execution_count": 54,
   "metadata": {},
   "outputs": [],
   "source": [
    "testcode2 = \"\"\"\n",
    "slope1, intercept1, noise1 = initial_guesses_numpy(time, intensity)\n",
    "\"\"\""
   ]
  },
  {
   "cell_type": "code",
   "execution_count": 16,
   "metadata": {},
   "outputs": [
    {
     "name": "stdout",
     "output_type": "stream",
     "text": [
      "[0, 1, 3, 4, 6, 7, 8, 9, 11, 12, 13, 14, 15, 17, 19, 20, 21, 22, 23, 72, 75, 79, 83, 84, 85, 86, 87, 88, 89, 90, 91, 94, 95, 97, 98] [24.50585    24.55131667 24.64223333 24.68768333 24.7786     24.82406667\n",
      " 24.86953333 24.91498333 25.0059     25.05136667 25.09681667 25.14228333\n",
      " 25.18773333 25.27866667 25.36958333 25.41503333 25.4605     25.50595\n",
      " 25.55141667 27.77891667 27.9153     28.09713333 28.27896667 28.32443333\n",
      " 28.36988333 28.41535    28.4608     28.50626667 28.55171667 28.59718333\n",
      " 28.64263333 28.77901667 28.82448333 28.9154     28.96085   ]\n"
     ]
    }
   ],
   "source": [
    "indexes, times = initial_guesses_numpy(time, intensity)\n",
    "print(indexes, times)"
   ]
  },
  {
   "cell_type": "code",
   "execution_count": 22,
   "metadata": {},
   "outputs": [],
   "source": [
    "_,_,_,formertimes = initial_guesses(time, intensity)\n",
    "assert np.asarray(formertimes).all() == np.asarray(times).all()"
   ]
  },
  {
   "cell_type": "code",
   "execution_count": 2,
   "metadata": {},
   "outputs": [],
   "source": [
    "def std_skew_calculation(std, alpha):\n",
    "    \"\"\"Calculate the standard deviation of a skew normal distribution.\"\"\"\n",
    "    return np.sqrt(std**2 * (1 - (2 * alpha**2) / ((alpha**2 + 1) * np.pi)))\n",
    "\n",
    "\n",
    "def mean_skew_calculation(mean, std, alpha):\n",
    "    \"\"\"Calculate the arithmetic mean of a skew normal distribution.\"\"\"\n",
    "    return mean + std * np.sqrt(2 / np.pi) * alpha / (np.sqrt(1 + alpha**2))\n",
    "\n",
    "\n",
    "def mue_z_calculation(alpha):\n",
    "    \"\"\"Calculate the mue_z variable which is needed to compute a numerical approximation of the mode of a skew normal distribution.\"\"\"\n",
    "    return np.sqrt(2 / np.pi) * alpha / (np.sqrt(1 + alpha**2))\n",
    "\n",
    "\n",
    "def sigma_z_calculation(mue_z):\n",
    "    \"\"\"Calculate the sigma_z variable which is needed to compute a numerical approximation of the mode of a skew normal distribution.\"\"\"\n",
    "    return np.sqrt(1 - mue_z**2)\n",
    "\n",
    "\n",
    "def fit_skewness_calculation(intensity):\n",
    "    \"\"\"Calculate the skewness of a skew normal distribution via scipy.\"\"\"\n",
    "    return st.skew(intensity)\n",
    "\n",
    "\n",
    "def mode_offset_calculation(mue_z, fit_skewness, sigma_z, alpha):\n",
    "    \"\"\"Calculate the offset between arithmetic mean and mode of a skew normal distribution.\"\"\"\n",
    "    return (\n",
    "        mue_z\n",
    "        - (fit_skewness * sigma_z) / 2\n",
    "        - (alpha / abs(alpha)) / 2 * pt.exp(-(2 * np.pi) / abs(alpha))\n",
    "    )\n",
    "\n",
    "\n",
    "def mode_skew_calculation(mean_skew, mode_offset, alpha):\n",
    "    \"\"\"Calculate a numerical approximation of the mode of a skew normal distribution.\"\"\"\n",
    "    return mean_skew - (alpha / abs(alpha)) * mode_offset\n",
    "\n",
    "\n",
    "def height_calculation(area, mean, std, alpha, mode_skew):\n",
    "    \"\"\"Calculate the height of a skew normal distribution.\"\"\"\n",
    "    return area * (\n",
    "        2\n",
    "        * (1 / (std * np.sqrt(2 * np.pi)) * pt.exp(-0.5 * ((mode_skew - mean) / std) ** 2))\n",
    "        * (0.5 * (1 + pt.erf(((alpha * (mode_skew - mean) / std)) / np.sqrt(2))))\n",
    "    )"
   ]
  },
  {
   "cell_type": "code",
   "execution_count": 3,
   "metadata": {},
   "outputs": [
    {
     "name": "stdout",
     "output_type": "stream",
     "text": [
      "0.9999073558966937 1.7205220522052205 0.5980259490113979 2.032633732266653 0.3121116800614323\n",
      "0.9999073558966937 1.6892785076518524 0.5971612745935593 2.032633732266653 0.34335522461480045\n"
     ]
    },
    {
     "data": {
      "image/png": "[encoded data removed]",
      "text/plain": [
       "<Figure size 640x480 with 1 Axes>"
      ]
     },
     "metadata": {},
     "output_type": "display_data"
    }
   ],
   "source": [
    "x = np.linspace(-1, 5.5, 10000)\n",
    "mean = 1.2\n",
    "std = 1.1\n",
    "alpha = 3\n",
    "y = st.skewnorm.pdf(x, alpha, loc=mean, scale=std)\n",
    "pyplot.plot(x, y, label=r'$\\mu$ = {}, $\\sigma$ = {}, $\\alpha$ = {}'.format(0, 1, 3))\n",
    "area = scipy.integrate.quad(lambda x: st.skewnorm.pdf(x, alpha, loc=mean, scale=std), -1, 5.5)[0]\n",
    "# find the x value to the maximum y value, i.e. the mode\n",
    "diction = dict(zip(x,y))\n",
    "expected_mode_skew = max(diction, key=diction.get)\n",
    "expected_height = np.max(y)\n",
    "mean_skew = mean_skew_calculation(mean, std, alpha)\n",
    "expected_mode_offset = mean_skew - expected_mode_skew\n",
    "# calculate actual values\n",
    "mue_z = mue_z_calculation(alpha)\n",
    "sigma_z = sigma_z_calculation(mue_z)\n",
    "fit_skewness = fit_skewness_calculation(y)\n",
    "mode_offset_pt = mode_offset_calculation(mue_z, fit_skewness, sigma_z, alpha)\n",
    "mode_skew_pt = mode_skew_calculation(mean_skew, mode_offset_pt, alpha)\n",
    "height_pt = height_calculation(area, mean, std, alpha, mode_skew_pt) \n",
    "# cast arrays to float data type in order to avoid error of np.testing.assert_allclose() due to using np.isfinite under the hood\n",
    "mode_offset_actual = mode_offset_pt.eval().astype(float)\n",
    "mode_skew_actual = mode_skew_pt.eval().astype(float)\n",
    "height_actual = height_pt.eval().astype(float)\n",
    "print(area, expected_mode_skew, expected_height, mean_skew, expected_mode_offset)\n",
    "print(area, mode_skew_actual, height_actual, mean_skew, mode_offset_actual)\n",
    "# testing; allow minor difference due to differences in float precision etc.\n",
    "# np.testing.assert_allclose(expected_mode_offset, mode_offset_actual, atol=0.00000001)\n",
    "# np.testing.assert_allclose(expected_mode_skew, mode_skew_actual, atol=0.00000001)\n",
    "np.testing.assert_allclose(expected_height, height_actual, atol=0.001)"
   ]
  },
  {
   "cell_type": "code",
   "execution_count": 8,
   "metadata": {},
   "outputs": [
    {
     "name": "stdout",
     "output_type": "stream",
     "text": [
      "1.7464087464087465 1.7464087464087465\n",
      "0.9999073558966937 1.7464087464087465 0.597507625579079 2.032633732266653 0.28622498585790623\n",
      "0.9999073558966937 1.6892321027611321 0.5974522700208884 2.032633732266653 0.3434016295055207\n"
     ]
    },
    {
     "data": {
      "image/png": "[encoded data removed]",
      "text/plain": [
       "<Figure size 640x480 with 1 Axes>"
      ]
     },
     "metadata": {},
     "output_type": "display_data"
    }
   ],
   "source": [
    "# test with linear baseline\n",
    "x = np.linspace(-1, 5.5, 1000000)\n",
    "mean = 1.2\n",
    "std = 1.1\n",
    "alpha = 3\n",
    "baseline = 0.04 * x + 0.3\n",
    "y = st.skewnorm.pdf(x, alpha, loc=mean, scale=std) + baseline\n",
    "y2 = st.skewnorm.pdf(x, alpha, loc=mean, scale=std)\n",
    "pyplot.plot(x, y, label=\"y\")\n",
    "pyplot.plot(x, y2, label=\"y2\")\n",
    "area = scipy.integrate.quad(lambda x: st.skewnorm.pdf(x, alpha, loc=mean, scale=std), -1, 5.5)[0]\n",
    "# find the x value to the maximum y value, i.e. the mode\n",
    "diction = dict(zip(x,y))\n",
    "expected_mode_skew = max(diction, key=diction.get)\n",
    "expected_mode_skew2 = x[np.argmax(y)]\n",
    "print(expected_mode_skew, expected_mode_skew2)\n",
    "# expected_height = np.max(y)\n",
    "expected_height = (np.max(y)) - (0.04 * expected_mode_skew + 0.3)\n",
    "# TODO: mean hängt von baseline ab, aber wie kann man das darstellen?\n",
    "mean_skew = mean_skew_calculation(mean, std, alpha)\n",
    "expected_mode_offset = mean_skew - expected_mode_skew2\n",
    "# calculate actual values\n",
    "mue_z = mue_z_calculation(alpha)\n",
    "sigma_z = sigma_z_calculation(mue_z)\n",
    "fit_skewness = fit_skewness_calculation(y - baseline)\n",
    "mode_offset_pt = mode_offset_calculation(mue_z, fit_skewness, sigma_z, alpha)\n",
    "mode_skew_pt = mode_skew_calculation(mean_skew, mode_offset_pt, alpha)\n",
    "height_pt = height_calculation(area, mean, std, alpha, expected_mode_skew) \n",
    "# cast arrays to float data type in order to avoid error of np.testing.assert_allclose() due to using np.isfinite under the hood\n",
    "mode_offset_actual = mode_offset_pt.eval().astype(float)\n",
    "mode_skew_actual = mode_skew_pt.eval().astype(float)\n",
    "height_actual = height_pt.eval().astype(float)\n",
    "# pyplot.vlines(mode_skew_actual, ymin=0, ymax=1)\n",
    "# pyplot.vlines(expected_mode_skew, ymin=0, ymax=1)\n",
    "# pyplot.vlines(mean_skew, ymin=0, ymax=1)\n",
    "pyplot.vlines(expected_mode_skew, ymin=0, ymax=1)\n",
    "pyplot.vlines(mode_skew_actual, ymin=0, ymax=1)\n",
    "print(area, expected_mode_skew, expected_height, mean_skew, expected_mode_offset)\n",
    "print(area, mode_skew_actual, height_actual, mean_skew, mode_offset_actual)\n",
    "pyplot.legend()\n",
    "pyplot.tight_layout()\n",
    "pyplot.show()\n",
    "# testing; allow minor difference due to differences in float precision etc.\n",
    "# np.testing.assert_allclose(expected_mode_offset, mode_offset_actual, atol=0.00000001)\n",
    "# np.testing.assert_allclose(expected_mode_skew, mode_skew_actual, atol=0.00000001)\n",
    "np.testing.assert_allclose(expected_height, height_actual, atol=0.001)"
   ]
  },
  {
   "cell_type": "code",
   "execution_count": 6,
   "metadata": {},
   "outputs": [
    {
     "name": "stdout",
     "output_type": "stream",
     "text": [
      "0.9999073558966937 1.7207337207337208 0.5980259853997207 2.032633732266653 0.311900011532932\n",
      "0.9999073558966937 1.6892321027611321 0.5979705818185495 2.032633732266653 0.3434016295055207\n"
     ]
    },
    {
     "data": {
      "image/png": "[encoded data removed]",
      "text/plain": [
       "<Figure size 640x480 with 1 Axes>"
      ]
     },
     "metadata": {},
     "output_type": "display_data"
    }
   ],
   "source": [
    "# test with horizontal baseline\n",
    "x = np.linspace(-1, 5.5, 1000000)\n",
    "mean = 1.2\n",
    "std = 1.1\n",
    "alpha = 3\n",
    "baseline = 0.3\n",
    "y = st.skewnorm.pdf(x, alpha, loc=mean, scale=std) + baseline\n",
    "y2 = st.skewnorm.pdf(x, alpha, loc=mean, scale=std)\n",
    "pyplot.plot(x, y, label=\"y\")\n",
    "pyplot.plot(x, y2, label=\"y2\")\n",
    "area = scipy.integrate.quad(lambda x: st.skewnorm.pdf(x, alpha, loc=mean, scale=std), -1, 5.5)[0]\n",
    "# find the x value to the maximum y value, i.e. the mode\n",
    "diction = dict(zip(x,y))\n",
    "expected_mode_skew = max(diction, key=diction.get)\n",
    "# expected_height = np.max(y)\n",
    "expected_height = (np.max(y)) - (0.3)\n",
    "# TODO: mean hängt von baseline ab, aber wie kann man das darstellen?\n",
    "mean_skew = mean_skew_calculation(mean, std, alpha)\n",
    "expected_mode_offset = mean_skew - expected_mode_skew\n",
    "# calculate actual values\n",
    "mue_z = mue_z_calculation(alpha)\n",
    "sigma_z = sigma_z_calculation(mue_z)\n",
    "fit_skewness = fit_skewness_calculation(y)\n",
    "mode_offset_pt = mode_offset_calculation(mue_z, fit_skewness, sigma_z, alpha)\n",
    "mode_skew_pt = mode_skew_calculation(mean_skew, mode_offset_pt, alpha)\n",
    "height_pt = height_calculation(area, mean, std, alpha, expected_mode_skew) \n",
    "# cast arrays to float data type in order to avoid error of np.testing.assert_allclose() due to using np.isfinite under the hood\n",
    "mode_offset_actual = mode_offset_pt.eval().astype(float)\n",
    "mode_skew_actual = mode_skew_pt.eval().astype(float)\n",
    "height_actual = height_pt.eval().astype(float)\n",
    "# pyplot.vlines(mode_skew_actual, ymin=0, ymax=1)\n",
    "# pyplot.vlines(expected_mode_skew, ymin=0, ymax=1)\n",
    "# pyplot.vlines(mean_skew, ymin=0, ymax=1)\n",
    "pyplot.vlines(expected_mode_skew, ymin=0, ymax=1)\n",
    "pyplot.vlines(mode_skew_actual, ymin=0, ymax=1)\n",
    "print(area, expected_mode_skew, expected_height, mean_skew, expected_mode_offset)\n",
    "print(area, mode_skew_actual, height_actual, mean_skew, mode_offset_actual)\n",
    "pyplot.legend()\n",
    "pyplot.tight_layout()\n",
    "pyplot.show()\n",
    "# testing; allow minor difference due to differences in float precision etc.\n",
    "# np.testing.assert_allclose(expected_mode_offset, mode_offset_actual, atol=0.00000001)\n",
    "# np.testing.assert_allclose(expected_mode_skew, mode_skew_actual, atol=0.00000001)\n",
    "np.testing.assert_allclose(expected_height, height_actual, atol=0.001)"
   ]
  },
  {
   "cell_type": "code",
   "execution_count": 9,
   "metadata": {},
   "outputs": [
    {
     "name": "stdout",
     "output_type": "stream",
     "text": [
      "0.5571888343255386 1.0771967314775528\n"
     ]
    }
   ],
   "source": [
    "print(st.skew(y), st.skew(y2))\n",
    "# Das ist die Ursache!"
   ]
  },
  {
   "cell_type": "code",
   "execution_count": 172,
   "metadata": {},
   "outputs": [
    {
     "data": {
      "text/plain": [
       "2.031239031239031"
      ]
     },
     "execution_count": 172,
     "metadata": {},
     "output_type": "execute_result"
    }
   ],
   "source": [
    "x_list = []\n",
    "for n in range(len(y)):\n",
    "    if y[n] > 0.15:\n",
    "        x_list.append(x[n])\n",
    "np.mean(x_list)"
   ]
  },
  {
   "cell_type": "code",
   "execution_count": 160,
   "metadata": {},
   "outputs": [
    {
     "data": {
      "text/plain": [
       "5.0039984012787215"
      ]
     },
     "execution_count": 160,
     "metadata": {},
     "output_type": "execute_result"
    }
   ],
   "source": [
    "np.sqrt((5-0)**2+(0.5-0.3)**2)"
   ]
  },
  {
   "cell_type": "code",
   "execution_count": null,
   "metadata": {},
   "outputs": [],
   "source": [
    "math.atan2()"
   ]
  },
  {
   "cell_type": "code",
   "execution_count": 45,
   "metadata": {},
   "outputs": [],
   "source": [
    "x = np.linspace(-1, 5.5, 10000)\n",
    "y_skew = st.skewnorm.pdf(x, 0, loc=2, scale=1)\n",
    "y = st.norm.pdf(x, loc=2, scale=1)\n",
    "assert y.all() == y_skew.all()"
   ]
  },
  {
   "cell_type": "code",
   "execution_count": 34,
   "metadata": {},
   "outputs": [
    {
     "data": {
      "text/plain": [
       "0.3121116800614323"
      ]
     },
     "execution_count": 34,
     "metadata": {},
     "output_type": "execute_result"
    }
   ],
   "source": [
    "mean_skew = mean_skew_calculation(1.2, 1.1, 3)\n",
    "mean_skew - max(diction, key=diction.get)"
   ]
  },
  {
   "cell_type": "code",
   "execution_count": 36,
   "metadata": {},
   "outputs": [
    {
     "data": {
      "text/plain": [
       "(0.9999073558966937, 2.2797971735259714e-11)"
      ]
     },
     "execution_count": 36,
     "metadata": {},
     "output_type": "execute_result"
    },
    {
     "data": {
      "image/png": "[encoded data removed]",
      "text/plain": [
       "<Figure size 640x480 with 1 Axes>"
      ]
     },
     "metadata": {},
     "output_type": "display_data"
    }
   ],
   "source": [
    "x = np.linspace(-1, 5.5, 10000)\n",
    "pdf = st.skewnorm.pdf(x, 3, loc=1.2, scale=1.1)\n",
    "area = scipy.integrate.quad(lambda x: st.skewnorm.pdf(x, 3, loc=1.2, scale=1.1), -1, 5.5)\n",
    "pyplot.plot(x, pdf, label=r'$\\mu$ = {}, $\\sigma$ = {}, $\\alpha$ = {}'.format(0, 1, 3))\n",
    "area"
   ]
  },
  {
   "cell_type": "code",
   "execution_count": 58,
   "metadata": {},
   "outputs": [],
   "source": [
    "def skew_normal_posterior(baseline, area, time, mean, std, alpha):\n",
    "    # posterior\n",
    "    y = baseline + area * (\n",
    "        2\n",
    "        * (1 / (std * np.sqrt(2 * np.pi)) * pt.exp(-0.5 * ((time - mean) / std) ** 2))\n",
    "        * (0.5 * (1 + pt.erf(((alpha * (time - mean) / std)) / np.sqrt(2))))\n",
    "    )\n",
    "    return y"
   ]
  },
  {
   "cell_type": "code",
   "execution_count": 16,
   "metadata": {},
   "outputs": [
    {
     "data": {
      "text/plain": [
       "array([9.68487645e-11, 9.80276185e-11, 9.92204843e-11, ...,\n",
       "       3.50209923e-04, 3.49402003e-04, 3.48595825e-04])"
      ]
     },
     "execution_count": 16,
     "metadata": {},
     "output_type": "execute_result"
    }
   ],
   "source": [
    "x = np.linspace(-1, 5.5, 10000)\n",
    "a = skew_normal_posterior(0, 1, x, 1.2, 1.1, 3)\n",
    "a.eval()"
   ]
  },
  {
   "cell_type": "code",
   "execution_count": 17,
   "metadata": {},
   "outputs": [
    {
     "data": {
      "text/plain": [
       "array([9.68487646e-11, 9.80276188e-11, 9.92204831e-11, ...,\n",
       "       3.50209923e-04, 3.49402003e-04, 3.48595825e-04])"
      ]
     },
     "execution_count": 17,
     "metadata": {},
     "output_type": "execute_result"
    }
   ],
   "source": [
    "pdf"
   ]
  },
  {
   "cell_type": "code",
   "execution_count": 18,
   "metadata": {},
   "outputs": [],
   "source": [
    "b = a.eval().astype(float)\n",
    "pdf = pdf.astype(float)"
   ]
  },
  {
   "cell_type": "code",
   "execution_count": 21,
   "metadata": {},
   "outputs": [],
   "source": [
    "np.testing.assert_allclose(pdf, b, atol=0.00000001)"
   ]
  },
  {
   "cell_type": "code",
   "execution_count": 97,
   "metadata": {},
   "outputs": [
    {
     "data": {
      "text/plain": [
       "0.19947113795621715"
      ]
     },
     "execution_count": 97,
     "metadata": {},
     "output_type": "execute_result"
    },
    {
     "data": {
      "image/png": "[encoded data removed]",
      "text/plain": [
       "<Figure size 640x480 with 1 Axes>"
      ]
     },
     "metadata": {},
     "output_type": "display_data"
    }
   ],
   "source": [
    "x = np.linspace(-5, 10, 10000)\n",
    "pdf = st.norm.pdf(x, 3, 2)\n",
    "pyplot.plot(x, pdf, label=r'$\\mu$ = {}, $\\sigma$ = {}'.format(3, 2))\n",
    "np.max(pdf)"
   ]
  },
  {
   "cell_type": "code",
   "execution_count": 57,
   "metadata": {},
   "outputs": [],
   "source": [
    "def normal_posterior(baseline, height, time, mean, std):\n",
    "    \"\"\"\n",
    "    Define a normally distributed posterior.\n",
    "\n",
    "    Parameters\n",
    "    ----------\n",
    "    baseline\n",
    "        baseline of the data\n",
    "    height\n",
    "        height of the normal distribution\n",
    "    time\n",
    "        numpy array with the time values of the relevant timeframe\n",
    "    mean\n",
    "        arithmetic mean of the normal distribution\n",
    "    std\n",
    "        standard deviation of the normal distribution\n",
    "\n",
    "    Returns\n",
    "    -------\n",
    "    Probability density function (PDF) of the normally distributed posterior\n",
    "    \"\"\"\n",
    "    return baseline + height * pt.exp(-0.5 * ((time - mean) / std) ** 2)"
   ]
  },
  {
   "cell_type": "code",
   "execution_count": 9,
   "metadata": {},
   "outputs": [],
   "source": [
    "def double_normal_posterior(baseline, height, height2, time, mean, std, std2):\n",
    "    \"\"\"\n",
    "    Define a univariate ordered normal distribution as the posterior.\n",
    "\n",
    "    Parameters\n",
    "    ----------\n",
    "    baseline\n",
    "        baseline of the data\n",
    "    height\n",
    "        height of the first peak\n",
    "    height2\n",
    "        height of the second peak\n",
    "    time\n",
    "        numpy array with the time values of the relevant timeframe\n",
    "    mean\n",
    "        arithmetic mean of the normal distribution\n",
    "    std\n",
    "        standard deviation of the first peak\n",
    "    std2\n",
    "        standard deviation of the second peak\n",
    "\n",
    "    Returns\n",
    "    -------\n",
    "    y\n",
    "        Probability density function (PDF) of a univariate ordered normal distribution as the posterior\n",
    "    \"\"\"\n",
    "    y = (\n",
    "        baseline\n",
    "        + height * pt.exp(-0.5 * ((time - mean[0]) / std) ** 2)\n",
    "        + height2 * pt.exp(-0.5 * ((time - mean[1]) / std2) ** 2)\n",
    "    )\n",
    "    return y"
   ]
  },
  {
   "cell_type": "code",
   "execution_count": 10,
   "metadata": {},
   "outputs": [
    {
     "data": {
      "image/png": "[encoded data removed]",
      "text/plain": [
       "<Figure size 640x480 with 1 Axes>"
      ]
     },
     "metadata": {},
     "output_type": "display_data"
    }
   ],
   "source": [
    "x = np.linspace(5, 12, 10000)\n",
    "y1 = st.norm.pdf(x, loc=7.5, scale=0.6)\n",
    "y2 = st.norm.pdf(x, loc=9, scale=0.4) * 2\n",
    "y_double_pt = double_normal_posterior(0, np.max(y1), np.max(y2), x, (7.5, 9), 0.6, 0.4)\n",
    "y_double = y_double_pt.eval().astype(float)\n",
    "pyplot.plot(x, y1, label=\"peak 1\")\n",
    "# pyplot.scatter(x, y1, label=\"peak 1\")\n",
    "pyplot.plot(x, y2, label=\"peak 2\")\n",
    "# pyplot.scatter(x, y2, label=\"peak 2\")\n",
    "pyplot.plot(x, y_double, label=\"model\")\n",
    "# pyplot.scatter(x, y_double, label=\"model\")\n",
    "pyplot.legend()\n",
    "pyplot.tight_layout()\n",
    "pyplot.show()\n",
    "np.testing.assert_allclose(y1+y2, y_double, rtol=1, atol=1e-20)"
   ]
  },
  {
   "cell_type": "code",
   "execution_count": 126,
   "metadata": {},
   "outputs": [],
   "source": [
    "def height_calculation(baseline, area, mean, std, alpha, mode_skew):\n",
    "    \"\"\"\n",
    "    Calculate the height of a skew normal distribution.\n",
    "    The formula is the result of inserting time = mode_skew into the posterior. Since the mode of a skew normal distribution is calculated as a numerical approximation,\n",
    "    its accuracy is not perfect and thus the height's either. In tests, the height was still accurate up to and including the first two decimals.\n",
    "    \"\"\"\n",
    "    # TODO: add baseline to formula. Test whether this is truly necessary.\n",
    "    return baseline + area * (\n",
    "        2\n",
    "        * (1 / (std * np.sqrt(2 * np.pi)) * pt.exp(-0.5 * ((mode_skew - mean) / std) ** 2))\n",
    "        * (0.5 * (1 + pt.erf(((alpha * (mode_skew - mean) / std)) / np.sqrt(2))))\n",
    "    )"
   ]
  },
  {
   "cell_type": "code",
   "execution_count": null,
   "metadata": {},
   "outputs": [],
   "source": [
    "for idx in range(len(y1)):\n",
    "    if x[idx] < 8:\n",
    "        print(y1[idx]-y_double[idx])"
   ]
  },
  {
   "cell_type": "code",
   "execution_count": 127,
   "metadata": {},
   "outputs": [
    {
     "data": {
      "text/plain": [
       "1.3989421187975228"
      ]
     },
     "execution_count": 127,
     "metadata": {},
     "output_type": "execute_result"
    },
    {
     "data": {
      "image/png": "[encoded data removed]",
      "text/plain": [
       "<Figure size 640x480 with 1 Axes>"
      ]
     },
     "metadata": {},
     "output_type": "display_data"
    }
   ],
   "source": [
    "x = np.linspace(-10, 10, 10000)\n",
    "y_skew = st.skewnorm.pdf(x, 0, loc=1, scale=1) + 1\n",
    "y = st.norm.pdf(x, loc=1, scale=0.5)\n",
    "pyplot.plot(x, y_skew)\n",
    "height = np.max(y_skew)\n",
    "area = scipy.integrate.quad(lambda x: st.norm.pdf(x, loc=1, scale=1), -10, 10)[0]\n",
    "height"
   ]
  },
  {
   "cell_type": "code",
   "execution_count": 128,
   "metadata": {},
   "outputs": [
    {
     "data": {
      "text/plain": [
       "array(1.39894228)"
      ]
     },
     "execution_count": 128,
     "metadata": {},
     "output_type": "execute_result"
    }
   ],
   "source": [
    "height_calculation(1, area, 1, 1, 0, 1).eval()"
   ]
  },
  {
   "cell_type": "code",
   "execution_count": 84,
   "metadata": {},
   "outputs": [
    {
     "name": "stdout",
     "output_type": "stream",
     "text": [
      "[2.11881239e-27 2.16594323e-27 2.21411358e-27 ... 1.06565059e-18\n",
      " 1.04664488e-18 1.02797403e-18]\n"
     ]
    }
   ],
   "source": [
    "x = np.linspace(-10, 10, 10000)\n",
    "y_actual_pt = normal_posterior(0, height, x, 1, 1)\n",
    "y_skew_actual_pt = skew_normal_posterior(0, area, x, 1, 1, 0)\n",
    "y_actual = y_actual_pt.eval().astype(float)\n",
    "y_skew_actual = y_skew_actual_pt.eval().astype(float)\n",
    "np.testing.assert_allclose(y_skew_actual, y_actual, atol=0.00000000000000000001, rtol=0.9)\n",
    "print(y_actual - y_skew_actual)"
   ]
  },
  {
   "cell_type": "code",
   "execution_count": 98,
   "metadata": {},
   "outputs": [
    {
     "data": {
      "text/plain": [
       "array([6.69151121e-05, 6.71161601e-05, 6.73177743e-05, ...,\n",
       "       4.38637895e-04, 4.37488235e-04, 4.36341343e-04])"
      ]
     },
     "execution_count": 98,
     "metadata": {},
     "output_type": "execute_result"
    }
   ],
   "source": [
    "x = np.linspace(-5, 10, 10000)\n",
    "a=normal_posterior(0, np.max(pdf), x, 3, 2)\n",
    "a.eval()"
   ]
  },
  {
   "cell_type": "code",
   "execution_count": 99,
   "metadata": {},
   "outputs": [
    {
     "data": {
      "text/plain": [
       "array([6.69151129e-05, 6.71161609e-05, 6.73177751e-05, ...,\n",
       "       4.38637900e-04, 4.37488240e-04, 4.36341348e-04])"
      ]
     },
     "execution_count": 99,
     "metadata": {},
     "output_type": "execute_result"
    }
   ],
   "source": [
    "pdf"
   ]
  },
  {
   "cell_type": "code",
   "execution_count": 107,
   "metadata": {},
   "outputs": [],
   "source": [
    "np.testing.assert_almost_equal(a.eval(), pdf, decimal=8)"
   ]
  },
  {
   "cell_type": "code",
   "execution_count": 115,
   "metadata": {},
   "outputs": [
    {
     "data": {
      "text/plain": [
       "array([0., 0., 0., ..., 0., 0., 0.])"
      ]
     },
     "execution_count": 115,
     "metadata": {},
     "output_type": "execute_result"
    }
   ],
   "source": [
    "np.round(a.eval(), decimals=7) - np.round(pdf, decimals=7)"
   ]
  },
  {
   "cell_type": "code",
   "execution_count": 125,
   "metadata": {},
   "outputs": [],
   "source": [
    "b = a.eval().astype(float)\n",
    "pdf = pdf.astype(float)"
   ]
  },
  {
   "cell_type": "code",
   "execution_count": 126,
   "metadata": {},
   "outputs": [],
   "source": [
    "np.testing.assert_allclose(pdf, b, atol=0.0000001)"
   ]
  },
  {
   "cell_type": "code",
   "execution_count": null,
   "metadata": {},
   "outputs": [],
   "source": []
  }
 ],
 "metadata": {
  "kernelspec": {
   "display_name": "pm530",
   "language": "python",
   "name": "python3"
  },
  "language_info": {
   "codemirror_mode": {
    "name": "ipython",
    "version": 3
   },
   "file_extension": ".py",
   "mimetype": "text/x-python",
   "name": "python",
   "nbconvert_exporter": "python",
   "pygments_lexer": "ipython3",
   "version": "3.10.0"
  },
  "orig_nbformat": 4
 },
 "nbformat": 4,
 "nbformat_minor": 2
}
