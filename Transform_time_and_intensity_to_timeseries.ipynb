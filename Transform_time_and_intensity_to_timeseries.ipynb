{
 "cells": [
  {
   "cell_type": "code",
   "execution_count": 2,
   "metadata": {},
   "outputs": [],
   "source": [
    "import numpy as np\n",
    "import os"
   ]
  },
  {
   "cell_type": "code",
   "execution_count": 3,
   "metadata": {},
   "outputs": [],
   "source": [
    "def detect_npy(path):\n",
    "    \"\"\"\n",
    "    Detect all .npy files with time and intensity data for peaks in a given directory.\n",
    "\n",
    "    Parameters\n",
    "    ----------\n",
    "    path\n",
    "        Path to the folder containing raw data.\n",
    "\n",
    "    Returns\n",
    "    -------\n",
    "    npy_files\n",
    "        List with names of all .npy files in path.\n",
    "    \"\"\"\n",
    "    all_files = os.listdir(path)\n",
    "    npy_files = [file for file in all_files if \".npy\" in file]\n",
    "    return npy_files"
   ]
  },
  {
   "cell_type": "code",
   "execution_count": 13,
   "metadata": {},
   "outputs": [
    {
     "data": {
      "text/plain": [
       "['A1_t1_1_Part2_His110_M1_m0',\n",
       " 'A1_t1_1_Part2_His110_M2_m2',\n",
       " 'A1_t1_1_Part2_His110_M1_m1',\n",
       " 'A1_t1_1_Part2_His110_M2_m1',\n",
       " 'A1_t1_1_Part2_His110_M0_m0']"
      ]
     },
     "execution_count": 13,
     "metadata": {},
     "output_type": "execute_result"
    }
   ],
   "source": [
    "data = detect_npy(r\"C:\\Users\\niesser\\Desktop\\Local GitLab Repositories\\peak-performance\\His110 test data\")\n",
    "data = [x.split(\".\")[0][:26] for x in data[0:10]]\n",
    "data = list(set(data))\n",
    "data"
   ]
  },
  {
   "cell_type": "code",
   "execution_count": 23,
   "metadata": {},
   "outputs": [
    {
     "name": "stdout",
     "output_type": "stream",
     "text": [
      "<class 'numpy.ndarray'>\n",
      "<class 'numpy.ndarray'>\n",
      "<class 'numpy.ndarray'>\n",
      "<class 'numpy.ndarray'>\n",
      "<class 'numpy.ndarray'>\n"
     ]
    }
   ],
   "source": [
    "for datum in data:\n",
    "    path = r\"C:\\Users\\niesser\\Desktop\\Local GitLab Repositories\\peak-performance\\His110 test data\"\n",
    "    time = np.fromfile(fr\"{path}\\{datum}_time.npy\")\n",
    "    intensity = np.fromfile(fr\"{path}\\{datum}_intensity.npy\")\n",
    "    np.save(fr\"C:\\Users\\niesser\\Desktop\\Local GitLab Repositories\\peak-performance\\peak_performance\\example\\{datum}.npy\", np.array([time, intensity]))"
   ]
  },
  {
   "cell_type": "code",
   "execution_count": 28,
   "metadata": {},
   "outputs": [
    {
     "data": {
      "text/plain": [
       "array([  72.,  108.,  144.,   58.,  108.,  132.,  120.,   58.,  108.,\n",
       "         94.,  288.,   72.,   72.,   58.,  106.,   72.,  202.,  132.,\n",
       "        144.,  132.,  118.,  106.,  130.,   94.,  156.,  267.,  403.,\n",
       "        323.,  590.,  546.,  758.,  978., 1405., 1856., 2009., 1557.,\n",
       "       1807., 2087., 1987., 1616., 2143., 1713., 1947., 1784., 1372.,\n",
       "       1209., 1192., 1009., 1090.,  724.,  730.,  744.,  546.,  354.,\n",
       "        560.,  492.,  470.,  276.,  312.,  314.,  355.,  342.,  252.,\n",
       "        238.,  288.,  190.,  202.,  228.,  204.,  262.,  228.,  180.,\n",
       "        154.,  180.,  180.,  142.,  204.,  166.,  168.,  120.,  204.,\n",
       "        180.,  166.,   84.,   60.,  108.,   94.,  106.,   96.,  108.,\n",
       "        142.,  120.,  190.,  192.,  144.,   70.,  168.,  108.,  166.])"
      ]
     },
     "execution_count": 28,
     "metadata": {},
     "output_type": "execute_result"
    }
   ],
   "source": [
    "np.array([time, intensity])[1]"
   ]
  },
  {
   "cell_type": "code",
   "execution_count": 29,
   "metadata": {},
   "outputs": [
    {
     "data": {
      "text/plain": [
       "array([24.50585   , 24.55131667, 24.59676667, 24.64223333, 24.68768333,\n",
       "       24.73315   , 24.7786    , 24.82406667, 24.86953333, 24.91498333,\n",
       "       24.96045   , 25.0059    , 25.05136667, 25.09681667, 25.14228333,\n",
       "       25.18773333, 25.2332    , 25.27866667, 25.32411667, 25.36958333,\n",
       "       25.41503333, 25.4605    , 25.50595   , 25.55141667, 25.59686667,\n",
       "       25.64233333, 25.6878    , 25.73325   , 25.77871667, 25.82416667,\n",
       "       25.86963333, 25.91508333, 25.96055   , 26.006     , 26.05146667,\n",
       "       26.09691667, 26.14238333, 26.18785   , 26.2333    , 26.27876667,\n",
       "       26.32421667, 26.36968333, 26.41513333, 26.4606    , 26.50605   ,\n",
       "       26.55151667, 26.59698333, 26.64243333, 26.6879    , 26.73335   ,\n",
       "       26.77881667, 26.82426667, 26.86973333, 26.91518333, 26.96065   ,\n",
       "       27.00611667, 27.05156667, 27.09703333, 27.14248333, 27.18795   ,\n",
       "       27.2334    , 27.27886667, 27.32431667, 27.36978333, 27.41523333,\n",
       "       27.4607    , 27.50616667, 27.55161667, 27.59708333, 27.64253333,\n",
       "       27.688     , 27.73345   , 27.77891667, 27.82436667, 27.86983333,\n",
       "       27.9153    , 27.96075   , 28.00621667, 28.05166667, 28.09713333,\n",
       "       28.14258333, 28.18805   , 28.2335    , 28.27896667, 28.32443333,\n",
       "       28.36988333, 28.41535   , 28.4608    , 28.50626667, 28.55171667,\n",
       "       28.59718333, 28.64263333, 28.6881    , 28.73355   , 28.77901667,\n",
       "       28.82448333, 28.86993333, 28.9154    , 28.96085   ])"
      ]
     },
     "execution_count": 29,
     "metadata": {},
     "output_type": "execute_result"
    }
   ],
   "source": [
    "nptest = np.load(fr\"C:\\Users\\niesser\\Desktop\\Local GitLab Repositories\\peak-performance\\peak_performance\\example\\{datum}.npy\")\n",
    "nptest[0]"
   ]
  },
  {
   "cell_type": "code",
   "execution_count": null,
   "metadata": {},
   "outputs": [],
   "source": []
  }
 ],
 "metadata": {
  "kernelspec": {
   "display_name": "pm502",
   "language": "python",
   "name": "python3"
  },
  "language_info": {
   "codemirror_mode": {
    "name": "ipython",
    "version": 3
   },
   "file_extension": ".py",
   "mimetype": "text/x-python",
   "name": "python",
   "nbconvert_exporter": "python",
   "pygments_lexer": "ipython3",
   "version": "3.10.0"
  },
  "orig_nbformat": 4
 },
 "nbformat": 4,
 "nbformat_minor": 2
}
