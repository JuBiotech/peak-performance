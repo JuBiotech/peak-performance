{
 "cells": [
  {
   "cell_type": "code",
   "execution_count": 1,
   "metadata": {},
   "outputs": [],
   "source": [
    "from peak_performance import pipeline as pl\n",
    "from peak_performance import models\n",
    "from peak_performance import plots\n",
    "import pandas\n",
    "import numpy as np\n",
    "import arviz as az"
   ]
  },
  {
   "attachments": {},
   "cell_type": "markdown",
   "metadata": {},
   "source": [
    "User information"
   ]
  },
  {
   "cell_type": "code",
   "execution_count": 2,
   "metadata": {},
   "outputs": [
    {
     "name": "stdout",
     "output_type": "stream",
     "text": [
      "['A1t1R1Part2_1_110_109.9_110.1.npy', 'A1t1R1Part2_2_111_109.9_110.1.npy', 'A1t1R1Part2_3_111_110.9_111.1.npy', 'A1t1R1Part2_4_112_110.9_111.1.npy', 'A1t1R1Part2_5_112_111.9_112.1.npy']\n"
     ]
    }
   ],
   "source": [
    "# 1: Specify the absolute path to the raw data files.\n",
    "path_raw_data = r\"C:\\Users\\niesser\\Desktop\\Local GitLab Repositories\\peak-performance\\example\"\n",
    "\n",
    "# obtain a list of raw data file names.\n",
    "raw_data_files = pl.detect_npy(path_raw_data)\n",
    "# raw_data_files = [\"A1t1R1Part2_1_110_109.9_110.1.npy\", \"A1t1R1Part2_2_111_109.9_110.1.npy\"]\n",
    "# here, the names still contain the data type suffix which is removed by the following line.\n",
    "# raw_data_files = [file[:-4] for file in raw_data_files]\n",
    "print(raw_data_files)\n",
    "\n",
    "# necessary information from the user\n",
    "double_peak = 5*[False]           # 2: List with Booleans in the same order as raw_data_files. Set to True for a given signal, if the signal contains a double peak, and set to False, if it contains a single peak. Visually check this beforehand.\n",
    "pre_filtering = True                # 3: Set this variable to True if you want to check for peaks before fitting/sampling to potentially save a lot of computation time. If you choose True, then you have to provide an expected retention time for each signal.\n",
    "retention_time_estimate = 5*[26.2]    # 4: in case you set pre_filtering to True, give a retention time estimate (float) for each signal in raw_data_files. In case of a double peak, give two retention times (in chronological order) as a tuple containing two floats.\n",
    "peak_width_estimate = 1             # 5: in case you set pre_filtering to True, give a rough estimate of the average peak width in minutes you would expect for your LC-MS method.\n",
    "minimum_sn = 5                      # 6: in case you set pre_filtering to True, give a minimum signal to noise ratio for a signal to be defined as a peak during pre-filtering"
   ]
  },
  {
   "attachments": {},
   "cell_type": "markdown",
   "metadata": {},
   "source": [
    "Pipeline"
   ]
  },
  {
   "cell_type": "code",
   "execution_count": 3,
   "metadata": {},
   "outputs": [
    {
     "name": "stdout",
     "output_type": "stream",
     "text": [
      "A1t1R1Part2_1_110_109.9_110.1.npy\n",
      "1 survived prefiltering.\n",
      "pre_sampling\n"
     ]
    },
    {
     "name": "stderr",
     "output_type": "stream",
     "text": [
      "Sampling: [L, alpha, area, baseline_intercept, baseline_slope, mean, noise, std]\n",
      "Auto-assigning NUTS sampler...\n",
      "Initializing NUTS using jitter+adapt_diag...\n",
      "Multiprocess sampling (4 chains in 4 jobs)\n",
      "NUTS: [baseline_intercept, baseline_slope, noise, mean, std, alpha, area]\n"
     ]
    },
    {
     "data": {
      "text/html": [
       "\n",
       "<style>\n",
       "    /* Turns off some styling */\n",
       "    progress {\n",
       "        /* gets rid of default border in Firefox and Opera. */\n",
       "        border: none;\n",
       "        /* Needs to be in here for Safari polyfill so background images work as expected. */\n",
       "        background-size: auto;\n",
       "    }\n",
       "    progress:not([value]), progress:not([value])::-webkit-progress-bar {\n",
       "        background: repeating-linear-gradient(45deg, #7e7e7e, #7e7e7e 10px, #5c5c5c 10px, #5c5c5c 20px);\n",
       "    }\n",
       "    .progress-bar-interrupted, .progress-bar-interrupted::-webkit-progress-bar {\n",
       "        background: #F44336;\n",
       "    }\n",
       "</style>\n"
      ],
      "text/plain": [
       "<IPython.core.display.HTML object>"
      ]
     },
     "metadata": {},
     "output_type": "display_data"
    },
    {
     "data": {
      "text/html": [
       "\n",
       "    <div>\n",
       "      <progress value='16000' class='' max='16000' style='width:300px; height:20px; vertical-align: middle;'></progress>\n",
       "      100.00% [16000/16000 00:38&lt;00:00 Sampling 4 chains, 0 divergences]\n",
       "    </div>\n",
       "    "
      ],
      "text/plain": [
       "<IPython.core.display.HTML object>"
      ]
     },
     "metadata": {},
     "output_type": "display_data"
    },
    {
     "name": "stderr",
     "output_type": "stream",
     "text": [
      "Sampling 4 chains for 2_000 tune and 2_000 draw iterations (8_000 + 8_000 draws total) took 76 seconds.\n"
     ]
    },
    {
     "name": "stdout",
     "output_type": "stream",
     "text": [
      "post-sampling\n",
      "False, False\n",
      "after resampling\n"
     ]
    },
    {
     "name": "stderr",
     "output_type": "stream",
     "text": [
      "Sampling: [L]\n"
     ]
    },
    {
     "data": {
      "text/html": [
       "\n",
       "<style>\n",
       "    /* Turns off some styling */\n",
       "    progress {\n",
       "        /* gets rid of default border in Firefox and Opera. */\n",
       "        border: none;\n",
       "        /* Needs to be in here for Safari polyfill so background images work as expected. */\n",
       "        background-size: auto;\n",
       "    }\n",
       "    progress:not([value]), progress:not([value])::-webkit-progress-bar {\n",
       "        background: repeating-linear-gradient(45deg, #7e7e7e, #7e7e7e 10px, #5c5c5c 10px, #5c5c5c 20px);\n",
       "    }\n",
       "    .progress-bar-interrupted, .progress-bar-interrupted::-webkit-progress-bar {\n",
       "        background: #F44336;\n",
       "    }\n",
       "</style>\n"
      ],
      "text/plain": [
       "<IPython.core.display.HTML object>"
      ]
     },
     "metadata": {},
     "output_type": "display_data"
    },
    {
     "data": {
      "text/html": [
       "\n",
       "    <div>\n",
       "      <progress value='8000' class='' max='8000' style='width:300px; height:20px; vertical-align: middle;'></progress>\n",
       "      100.00% [8000/8000 00:00&lt;00:00]\n",
       "    </div>\n",
       "    "
      ],
      "text/plain": [
       "<IPython.core.display.HTML object>"
      ]
     },
     "metadata": {},
     "output_type": "display_data"
    },
    {
     "name": "stdout",
     "output_type": "stream",
     "text": [
      "A1t1R1Part2_2_111_109.9_110.1.npy\n",
      "2 survived prefiltering.\n",
      "pre_sampling\n"
     ]
    },
    {
     "name": "stderr",
     "output_type": "stream",
     "text": [
      "C:\\Users\\niesser\\Desktop\\Local GitLab Repositories\\peak-performance\\peak_performance\\pipeline.py:398: RuntimeWarning: divide by zero encountered in scalar divide\n",
      "  signal_to_noise_condition = ui.timeseries[1][peak] / noise_width_guess > ui.minimum_sn\n",
      "C:\\Users\\niesser\\Desktop\\Local GitLab Repositories\\peak-performance\\peak_performance\\pipeline.py:400: RuntimeWarning: invalid value encountered in scalar divide\n",
      "  check_preceding_point = ui.timeseries[1][peak - 1] / noise_width_guess > 2\n",
      "C:\\Users\\niesser\\Desktop\\Local GitLab Repositories\\peak-performance\\peak_performance\\pipeline.py:401: RuntimeWarning: invalid value encountered in scalar divide\n",
      "  check_succeeding_point = ui.timeseries[1][peak + 1] / noise_width_guess > 2\n",
      "C:\\Users\\niesser\\Desktop\\Local GitLab Repositories\\peak-performance\\peak_performance\\pipeline.py:401: RuntimeWarning: divide by zero encountered in scalar divide\n",
      "  check_succeeding_point = ui.timeseries[1][peak + 1] / noise_width_guess > 2\n",
      "C:\\Users\\niesser\\Desktop\\Local GitLab Repositories\\peak-performance\\peak_performance\\pipeline.py:400: RuntimeWarning: divide by zero encountered in scalar divide\n",
      "  check_preceding_point = ui.timeseries[1][peak - 1] / noise_width_guess > 2\n",
      "Sampling: [L, alpha, area, baseline_intercept, baseline_slope, mean, noise, std]\n",
      "Auto-assigning NUTS sampler...\n",
      "Initializing NUTS using jitter+adapt_diag...\n",
      "Multiprocess sampling (4 chains in 4 jobs)\n",
      "NUTS: [baseline_intercept, baseline_slope, noise, mean, std, alpha, area]\n"
     ]
    },
    {
     "data": {
      "text/html": [
       "\n",
       "<style>\n",
       "    /* Turns off some styling */\n",
       "    progress {\n",
       "        /* gets rid of default border in Firefox and Opera. */\n",
       "        border: none;\n",
       "        /* Needs to be in here for Safari polyfill so background images work as expected. */\n",
       "        background-size: auto;\n",
       "    }\n",
       "    progress:not([value]), progress:not([value])::-webkit-progress-bar {\n",
       "        background: repeating-linear-gradient(45deg, #7e7e7e, #7e7e7e 10px, #5c5c5c 10px, #5c5c5c 20px);\n",
       "    }\n",
       "    .progress-bar-interrupted, .progress-bar-interrupted::-webkit-progress-bar {\n",
       "        background: #F44336;\n",
       "    }\n",
       "</style>\n"
      ],
      "text/plain": [
       "<IPython.core.display.HTML object>"
      ]
     },
     "metadata": {},
     "output_type": "display_data"
    },
    {
     "data": {
      "text/html": [
       "\n",
       "    <div>\n",
       "      <progress value='16000' class='' max='16000' style='width:300px; height:20px; vertical-align: middle;'></progress>\n",
       "      100.00% [16000/16000 01:20&lt;00:00 Sampling 4 chains, 0 divergences]\n",
       "    </div>\n",
       "    "
      ],
      "text/plain": [
       "<IPython.core.display.HTML object>"
      ]
     },
     "metadata": {},
     "output_type": "display_data"
    },
    {
     "name": "stderr",
     "output_type": "stream",
     "text": [
      "Sampling 4 chains for 2_000 tune and 2_000 draw iterations (8_000 + 8_000 draws total) took 115 seconds.\n"
     ]
    },
    {
     "name": "stdout",
     "output_type": "stream",
     "text": [
      "post-sampling\n",
      "False, True\n",
      "discarded\n",
      "A1t1R1Part2_3_111_110.9_111.1.npy\n",
      "A1t1R1Part2_4_112_110.9_111.1.npy\n",
      "4 survived prefiltering.\n",
      "pre_sampling\n"
     ]
    },
    {
     "name": "stderr",
     "output_type": "stream",
     "text": [
      "C:\\Users\\niesser\\Desktop\\Local GitLab Repositories\\peak-performance\\peak_performance\\pipeline.py:398: RuntimeWarning: divide by zero encountered in scalar divide\n",
      "  signal_to_noise_condition = ui.timeseries[1][peak] / noise_width_guess > ui.minimum_sn\n",
      "C:\\Users\\niesser\\Desktop\\Local GitLab Repositories\\peak-performance\\peak_performance\\pipeline.py:400: RuntimeWarning: invalid value encountered in scalar divide\n",
      "  check_preceding_point = ui.timeseries[1][peak - 1] / noise_width_guess > 2\n",
      "C:\\Users\\niesser\\Desktop\\Local GitLab Repositories\\peak-performance\\peak_performance\\pipeline.py:401: RuntimeWarning: invalid value encountered in scalar divide\n",
      "  check_succeeding_point = ui.timeseries[1][peak + 1] / noise_width_guess > 2\n",
      "C:\\Users\\niesser\\Desktop\\Local GitLab Repositories\\peak-performance\\peak_performance\\pipeline.py:401: RuntimeWarning: divide by zero encountered in scalar divide\n",
      "  check_succeeding_point = ui.timeseries[1][peak + 1] / noise_width_guess > 2\n",
      "C:\\Users\\niesser\\Desktop\\Local GitLab Repositories\\peak-performance\\peak_performance\\pipeline.py:400: RuntimeWarning: divide by zero encountered in scalar divide\n",
      "  check_preceding_point = ui.timeseries[1][peak - 1] / noise_width_guess > 2\n",
      "Sampling: [L, alpha, area, baseline_intercept, baseline_slope, mean, noise, std]\n",
      "Auto-assigning NUTS sampler...\n",
      "Initializing NUTS using jitter+adapt_diag...\n",
      "Multiprocess sampling (4 chains in 4 jobs)\n",
      "NUTS: [baseline_intercept, baseline_slope, noise, mean, std, alpha, area]\n"
     ]
    },
    {
     "data": {
      "text/html": [
       "\n",
       "<style>\n",
       "    /* Turns off some styling */\n",
       "    progress {\n",
       "        /* gets rid of default border in Firefox and Opera. */\n",
       "        border: none;\n",
       "        /* Needs to be in here for Safari polyfill so background images work as expected. */\n",
       "        background-size: auto;\n",
       "    }\n",
       "    progress:not([value]), progress:not([value])::-webkit-progress-bar {\n",
       "        background: repeating-linear-gradient(45deg, #7e7e7e, #7e7e7e 10px, #5c5c5c 10px, #5c5c5c 20px);\n",
       "    }\n",
       "    .progress-bar-interrupted, .progress-bar-interrupted::-webkit-progress-bar {\n",
       "        background: #F44336;\n",
       "    }\n",
       "</style>\n"
      ],
      "text/plain": [
       "<IPython.core.display.HTML object>"
      ]
     },
     "metadata": {},
     "output_type": "display_data"
    },
    {
     "data": {
      "text/html": [
       "\n",
       "    <div>\n",
       "      <progress value='16000' class='' max='16000' style='width:300px; height:20px; vertical-align: middle;'></progress>\n",
       "      100.00% [16000/16000 01:46&lt;00:00 Sampling 4 chains, 651 divergences]\n",
       "    </div>\n",
       "    "
      ],
      "text/plain": [
       "<IPython.core.display.HTML object>"
      ]
     },
     "metadata": {},
     "output_type": "display_data"
    },
    {
     "name": "stderr",
     "output_type": "stream",
     "text": [
      "Sampling 4 chains for 2_000 tune and 2_000 draw iterations (8_000 + 8_000 draws total) took 142 seconds.\n"
     ]
    },
    {
     "name": "stdout",
     "output_type": "stream",
     "text": [
      "post-sampling\n",
      "False, True\n",
      "discarded\n",
      "A1t1R1Part2_5_112_111.9_112.1.npy\n"
     ]
    }
   ],
   "source": [
    "# create data structure and DataFrame(s) for results \n",
    "df_summary, path_results = pl.initiate(path_raw_data)\n",
    "for file in raw_data_files:\n",
    "    print(f\"{file}\")\n",
    "    # parse the data and extract information from the (standardized) file name\n",
    "    timeseries, acquisition, experiment, precursor_mz, product_mz_start, product_mz_end = pl.parse_data(path_raw_data, file)\n",
    "    # instantiate the UserInput class all given information\n",
    "    ui = pl.UserInput(path_results, raw_data_files, double_peak, retention_time_estimate, peak_width_estimate, pre_filtering, minimum_sn, timeseries, acquisition, experiment, precursor_mz, product_mz_start, product_mz_end)\n",
    "    # calculate initial guesses for pre-filtering and defining prior probability distributions\n",
    "    slope_guess, intercept_guess, noise_guess = models.initial_guesses(ui.timeseries[0], ui.timeseries[1])\n",
    "    # apply pre-sampling filter (if selected)\n",
    "    if pre_filtering:\n",
    "        prefilter, df_summary = pl.prefiltering(file, ui, noise_guess, df_summary)\n",
    "        if not prefilter:\n",
    "            # if no peak candidates were found, continue with the next signal\n",
    "            plots.plot_raw_data(file, ui)\n",
    "            continue\n",
    "        print(f\"{ui.experiment} survived prefiltering.\")\n",
    "    # model selection\n",
    "    if ui.user_info[file][0]:\n",
    "        # double peak model\n",
    "        pmodel = models.define_model_doublepeak(ui)\n",
    "    else:\n",
    "        # single peaks are first modeled with a skew normal distribution\n",
    "        pmodel = models.define_model_skew(ui)\n",
    "    # sample the chosen model\n",
    "    print(\"pre_sampling\")\n",
    "    idata = pl.sampling(pmodel)\n",
    "    print(\"post-sampling\")\n",
    "    # apply post-sampling filter\n",
    "    resample, discard, df_summary = pl.postfiltering(file, idata, ui, df_summary)\n",
    "    print(f\"{resample}, {discard}\")\n",
    "    # if peak was discarded, continue with the next signal\n",
    "    if discard:\n",
    "        plots.plot_posterior(file, ui, idata, True)\n",
    "        print(\"discarded\")\n",
    "        continue\n",
    "    # if convergence was not yet reached, sample again with more tuning samples\n",
    "    if resample:\n",
    "        print(\"start resampling\")\n",
    "        idata = pl.sampling(pmodel, tune = 4000)\n",
    "        resample, discard, df_summary = pl.postfiltering(file, idata, ui, df_summary)\n",
    "        if discard:\n",
    "            plots.plot_posterior(f\"{file}\", ui, idata, True)\n",
    "            continue\n",
    "        if resample:\n",
    "            # if signal was flagged for re-sampling a second time, discard it\n",
    "            # TODO: should this really be discarded or should the contents of idata be added with an additional comment? (would need to add a comment column)\n",
    "            df_summary = pl.report_add_nan_to_summary(file, ui, df_summary)\n",
    "            plots.plot_posterior(f\"{file}\", ui, idata, True)\n",
    "            continue\n",
    "    print(\"after resampling\")\n",
    "    # add inference data to df_summary and save it as an Excel file\n",
    "    df_summary = pl.report_add_data_to_summary(file, idata, df_summary, ui)\n",
    "    # perform posterior predictive sampling\n",
    "    idata = pl.posterior_predictive_sampling(pmodel, idata)\n",
    "    # save the inference data object in a zip file\n",
    "    pl.report_save_idata(idata, ui, file)\n",
    "    # plot data\n",
    "    plots.plot_posterior_predictive(file, ui, idata, False)\n",
    "    plots.plot_posterior(file, ui, idata, False)\n",
    "# save condesed Excel file with area data\n",
    "pl.report_area_sheet(path_results, df_summary)"
   ]
  }
 ],
 "metadata": {
  "kernelspec": {
   "display_name": "pm530",
   "language": "python",
   "name": "python3"
  },
  "language_info": {
   "codemirror_mode": {
    "name": "ipython",
    "version": 3
   },
   "file_extension": ".py",
   "mimetype": "text/x-python",
   "name": "python",
   "nbconvert_exporter": "python",
   "pygments_lexer": "ipython3",
   "version": "3.10.0"
  },
  "orig_nbformat": 4
 },
 "nbformat": 4,
 "nbformat_minor": 2
}
