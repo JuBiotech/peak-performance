{
 "cells": [
  {
   "cell_type": "code",
   "execution_count": 1,
   "metadata": {},
   "outputs": [],
   "source": [
    "import arviz as az\n",
    "import numpy as np\n",
    "import pymc as pm\n",
    "import pytensor.tensor as pt\n",
    "from matplotlib import pyplot\n",
    "import scipy.stats as st\n",
    "import scipy.signal\n",
    "import scipy.integrate\n",
    "import pandas\n",
    "import openpyxl\n",
    "import time\n",
    "import json\n",
    "import math"
   ]
  },
  {
   "cell_type": "code",
   "execution_count": 2,
   "metadata": {},
   "outputs": [],
   "source": [
    "# Read example data\n",
    "time_np = np.fromfile(fr\"./His110 test data/A1_t1_1_Part2_His110_M0_m0_time.npy\")\n",
    "intensity_np = np.fromfile(fr\"./His110 test data/A1_t1_1_Part2_His110_M0_m0_intensity.npy\")"
   ]
  },
  {
   "cell_type": "code",
   "execution_count": 27,
   "metadata": {},
   "outputs": [],
   "source": [
    "# Read example data\n",
    "time_np = np.fromfile(fr\"./His110 test data/A2_t2_1_Part2_His110_M0_m0_time.npy\")\n",
    "intensity_np = np.fromfile(fr\"./His110 test data/A2_t2_1_Part2_His110_M0_m0_intensity.npy\")"
   ]
  },
  {
   "cell_type": "code",
   "execution_count": 28,
   "metadata": {},
   "outputs": [],
   "source": [
    "# formulation with height\n",
    "with pm.Model() as pmodel:\n",
    "    # priors\n",
    "    baseline = pm.Normal(\"baseline\", 200, 100)\n",
    "    noise = pm.LogNormal(\"noise\", np.log(100), 1)\n",
    "    mean = pm.Normal(\"mean\", np.mean(time_np[[0, -1]]), np.ptp(time_np) / 2)\n",
    "    std = pm.HalfNormal(\"std\", np.ptp(time_np) / 3)\n",
    "    alpha = pm.HalfNormal(\"alpha\", 2.5)\n",
    "    # when x-axis (time) is in minutes\n",
    "    height = pm.HalfNormal(\"height\", 0.95 * np.max(intensity_np))\n",
    "    area = pm.Deterministic(\"area\", height/(1 / (std * np.sqrt(2 * np.pi))))\n",
    "    # posterior\n",
    "    y = baseline + height * (2 * pt.exp(-0.5 * ((time_np - mean) / std)**2)) * (0.5 * (1 + pt.erf(((alpha * (time_np - mean) / std)) / np.sqrt(2))))\n",
    "    y = pm.Deterministic(\"y\", y)\n",
    "\n",
    "    # likelihood (auf der y-Achse liegende Normalverteilung um Datenpunkte, entspricht hier Normalverteilung um Wert mit Standardabweichung = noise)\n",
    "    L = pm.Normal(\"L\", mu=y, sigma=noise, observed=intensity_np)"
   ]
  },
  {
   "cell_type": "code",
   "execution_count": 29,
   "metadata": {},
   "outputs": [
    {
     "name": "stderr",
     "output_type": "stream",
     "text": [
      "Sampling: [L, alpha, baseline, height, mean, noise, std]\n",
      "Auto-assigning NUTS sampler...\n",
      "Initializing NUTS using jitter+adapt_diag...\n",
      "Multiprocess sampling (4 chains in 4 jobs)\n",
      "NUTS: [baseline, noise, mean, std, alpha, height]\n"
     ]
    },
    {
     "name": "stderr",
     "output_type": "stream",
     "text": [
      "Sampling 4 chains for 2_000 tune and 2_000 draw iterations (8_000 + 8_000 draws total) took 75 seconds.\n"
     ]
    }
   ],
   "source": [
    "with pmodel:\n",
    "    idata = pm.sample_prior_predictive()\n",
    "    idata.extend(pm.sample(2000, tune = 2000))"
   ]
  },
  {
   "cell_type": "code",
   "execution_count": 60,
   "metadata": {},
   "outputs": [],
   "source": [
    "with pm.Model() as pmodel:\n",
    "    # priors\n",
    "    baseline = pm.Normal(\"baseline\", 200, 100)\n",
    "    noise = pm.LogNormal(\"noise\", np.log(100), 1)\n",
    "    mean = pm.Normal(\"mean\", np.mean(time_np[[0, -1]]), np.ptp(time_np) / 2)\n",
    "    std = pm.HalfNormal(\"std\", np.ptp(time_np) / 3)\n",
    "    alpha = pm.HalfNormal(\"alpha\", 2.5)\n",
    "    # when x-axis (time) is in minutes\n",
    "    area = pm.HalfNormal(\"area\", np.max(intensity_np) * 0.9)\n",
    "\n",
    "    # posterior with x = time = 0\n",
    "    pm.Deterministic(\"height\", area * (1 / (std * np.sqrt(2 * np.pi))))\n",
    "    # posterior\n",
    "    y = baseline + area * (2 * (1 / (std * np.sqrt(2 * np.pi)) * pt.exp(-0.5 * ((time_np - mean) / std)**2)) * (0.5 * (1 + pt.erf(((alpha * (time_np - mean) / std)) / np.sqrt(2)))))\n",
    "\n",
    "    y = pm.Deterministic(\"y\", y)\n",
    "\n",
    "    # likelihood (auf der y-Achse liegende Normalverteilung um Datenpunkte, entspricht hier Normalverteilung um Wert mit Standardabweichung = noise)\n",
    "    L = pm.Normal(\"L\", mu=y, sigma=noise, observed=intensity_np)"
   ]
  },
  {
   "cell_type": "code",
   "execution_count": 61,
   "metadata": {},
   "outputs": [
    {
     "name": "stderr",
     "output_type": "stream",
     "text": [
      "Sampling: [L, alpha, area, baseline, mean, noise, std]\n",
      "Auto-assigning NUTS sampler...\n",
      "Initializing NUTS using jitter+adapt_diag...\n",
      "Multiprocess sampling (4 chains in 4 jobs)\n",
      "NUTS: [baseline, noise, mean, std, alpha, area]\n"
     ]
    },
    {
     "name": "stderr",
     "output_type": "stream",
     "text": [
      "Sampling 4 chains for 2_000 tune and 2_000 draw iterations (8_000 + 8_000 draws total) took 69 seconds.\n"
     ]
    }
   ],
   "source": [
    "with pmodel:\n",
    "    idata2 = pm.sample_prior_predictive()\n",
    "    idata2.extend(pm.sample(2000, tune = 2000))"
   ]
  },
  {
   "cell_type": "code",
   "execution_count": null,
   "metadata": {},
   "outputs": [],
   "source": [
    "with pm.Model() as pmodel:\n",
    "    # priors\n",
    "    baseline = pm.Normal(\"baseline\", 200, 100)\n",
    "    noise = pm.LogNormal(\"noise\", np.log(100), 1)\n",
    "    mean = pm.Normal(\"mean\", np.mean(time_np[[0, -1]]), np.ptp(time_np) / 2)\n",
    "    std = pm.HalfNormal(\"std\", np.ptp(time_np) / 3)\n",
    "    alpha = pm.HalfNormal(\"alpha\", 2.5)\n",
    "    # when x-axis (time) is in minutes\n",
    "    area = pm.HalfNormal(\"area\", np.max(intensity_np) * 0.9)\n",
    "\n",
    "    # posterior with x = time = 0\n",
    "    pm.Deterministic(\"height\", )\n",
    "    # posterior\n",
    "    y = baseline + area * (2 * (1 / (std * np.sqrt(2 * np.pi)) * pt.exp(-0.5 * ((time_np - mean) / std)**2)) * (0.5 * (1 + pt.erf(((alpha * (time_np - mean) / std)) / np.sqrt(2)))))\n",
    "\n",
    "    y = pm.Deterministic(\"y\", y)\n",
    "\n",
    "    # likelihood (auf der y-Achse liegende Normalverteilung um Datenpunkte, entspricht hier Normalverteilung um Wert mit Standardabweichung = noise)\n",
    "    L = pm.Normal(\"L\", mu=y, sigma=noise, observed=intensity_np)"
   ]
  },
  {
   "cell_type": "code",
   "execution_count": null,
   "metadata": {},
   "outputs": [],
   "source": [
    "with pmodel:\n",
    "    idata3 = pm.sample_prior_predictive()\n",
    "    idata3.extend(pm.sample(2000, tune = 2000))"
   ]
  },
  {
   "cell_type": "code",
   "execution_count": 30,
   "metadata": {},
   "outputs": [
    {
     "data": {
      "image/png": "[encoded data removed]",
      "text/plain": [
       "<Figure size 640x480 with 1 Axes>"
      ]
     },
     "metadata": {},
     "output_type": "display_data"
    }
   ],
   "source": [
    "fig, ax = pyplot.subplots()\n",
    "\n",
    "pm.gp.util.plot_gp_dist(\n",
    "    ax=ax,\n",
    "    x=time_np,\n",
    "    samples=idata.posterior.y.stack(sample=(\"chain\", \"draw\")).T.values,\n",
    ")\n",
    "ax.scatter(time_np, intensity_np, marker=\"x\", color=\"black\", label=\"data\")\n",
    "ax.set_xlabel(\"time / min\", fontsize=12, fontweight=\"bold\")\n",
    "ax.set_ylabel(\"intensity / a.u.\", fontsize=12, fontweight=\"bold\")\n",
    "# plot baseline\n",
    "x = np.array(ax.get_xlim())\n",
    "y_baseline = az.summary(idata).loc[\"baseline\",\"mean\"]\n",
    "y = [y_baseline] * len(x)\n",
    "pyplot.plot(x, y)\n",
    "pyplot.legend()\n",
    "pyplot.tight_layout()\n",
    "pyplot.show()\n",
    "# pyplot.savefig(\"Skew_A1_t1_1_Part2_His110_M0_m0.png\")"
   ]
  },
  {
   "cell_type": "code",
   "execution_count": 65,
   "metadata": {},
   "outputs": [
    {
     "data": {
      "text/html": [
       "<div>\n",
       "<style scoped>\n",
       "    .dataframe tbody tr th:only-of-type {\n",
       "        vertical-align: middle;\n",
       "    }\n",
       "\n",
       "    .dataframe tbody tr th {\n",
       "        vertical-align: top;\n",
       "    }\n",
       "\n",
       "    .dataframe thead th {\n",
       "        text-align: right;\n",
       "    }\n",
       "</style>\n",
       "<table border=\"1\" class=\"dataframe\">\n",
       "  <thead>\n",
       "    <tr style=\"text-align: right;\">\n",
       "      <th></th>\n",
       "      <th>mean</th>\n",
       "      <th>sd</th>\n",
       "      <th>hdi_3%</th>\n",
       "      <th>hdi_97%</th>\n",
       "      <th>mcse_mean</th>\n",
       "      <th>mcse_sd</th>\n",
       "      <th>ess_bulk</th>\n",
       "      <th>ess_tail</th>\n",
       "      <th>r_hat</th>\n",
       "    </tr>\n",
       "  </thead>\n",
       "  <tbody>\n",
       "    <tr>\n",
       "      <th>mean</th>\n",
       "      <td>25.988</td>\n",
       "      <td>0.010</td>\n",
       "      <td>25.970</td>\n",
       "      <td>26.008</td>\n",
       "      <td>0.000</td>\n",
       "      <td>0.000</td>\n",
       "      <td>2797.0</td>\n",
       "      <td>3426.0</td>\n",
       "      <td>1.0</td>\n",
       "    </tr>\n",
       "    <tr>\n",
       "      <th>std</th>\n",
       "      <td>0.518</td>\n",
       "      <td>0.018</td>\n",
       "      <td>0.485</td>\n",
       "      <td>0.552</td>\n",
       "      <td>0.000</td>\n",
       "      <td>0.000</td>\n",
       "      <td>2686.0</td>\n",
       "      <td>3172.0</td>\n",
       "      <td>1.0</td>\n",
       "    </tr>\n",
       "    <tr>\n",
       "      <th>height</th>\n",
       "      <td>1679.939</td>\n",
       "      <td>48.790</td>\n",
       "      <td>1585.849</td>\n",
       "      <td>1768.746</td>\n",
       "      <td>0.924</td>\n",
       "      <td>0.655</td>\n",
       "      <td>2807.0</td>\n",
       "      <td>3396.0</td>\n",
       "      <td>1.0</td>\n",
       "    </tr>\n",
       "    <tr>\n",
       "      <th>area</th>\n",
       "      <td>2180.800</td>\n",
       "      <td>50.128</td>\n",
       "      <td>2086.083</td>\n",
       "      <td>2275.041</td>\n",
       "      <td>0.628</td>\n",
       "      <td>0.444</td>\n",
       "      <td>6379.0</td>\n",
       "      <td>6695.0</td>\n",
       "      <td>1.0</td>\n",
       "    </tr>\n",
       "    <tr>\n",
       "      <th>alpha</th>\n",
       "      <td>2.997</td>\n",
       "      <td>0.311</td>\n",
       "      <td>2.420</td>\n",
       "      <td>3.578</td>\n",
       "      <td>0.006</td>\n",
       "      <td>0.004</td>\n",
       "      <td>2814.0</td>\n",
       "      <td>3476.0</td>\n",
       "      <td>1.0</td>\n",
       "    </tr>\n",
       "    <tr>\n",
       "      <th>y[2]</th>\n",
       "      <td>229.875</td>\n",
       "      <td>17.215</td>\n",
       "      <td>196.756</td>\n",
       "      <td>260.837</td>\n",
       "      <td>0.216</td>\n",
       "      <td>0.153</td>\n",
       "      <td>6341.0</td>\n",
       "      <td>5856.0</td>\n",
       "      <td>1.0</td>\n",
       "    </tr>\n",
       "  </tbody>\n",
       "</table>\n",
       "</div>"
      ],
      "text/plain": [
       "            mean      sd    hdi_3%   hdi_97%  mcse_mean  mcse_sd  ess_bulk  \\\n",
       "mean      25.988   0.010    25.970    26.008      0.000    0.000    2797.0   \n",
       "std        0.518   0.018     0.485     0.552      0.000    0.000    2686.0   \n",
       "height  1679.939  48.790  1585.849  1768.746      0.924    0.655    2807.0   \n",
       "area    2180.800  50.128  2086.083  2275.041      0.628    0.444    6379.0   \n",
       "alpha      2.997   0.311     2.420     3.578      0.006    0.004    2814.0   \n",
       "y[2]     229.875  17.215   196.756   260.837      0.216    0.153    6341.0   \n",
       "\n",
       "        ess_tail  r_hat  \n",
       "mean      3426.0    1.0  \n",
       "std       3172.0    1.0  \n",
       "height    3396.0    1.0  \n",
       "area      6695.0    1.0  \n",
       "alpha     3476.0    1.0  \n",
       "y[2]      5856.0    1.0  "
      ]
     },
     "execution_count": 65,
     "metadata": {},
     "output_type": "execute_result"
    }
   ],
   "source": [
    "az.summary(idata).loc[[\"mean\", \"std\", \"height\", \"area\", \"alpha\", \"y[2]\"],:]"
   ]
  },
  {
   "cell_type": "code",
   "execution_count": 64,
   "metadata": {},
   "outputs": [
    {
     "data": {
      "text/html": [
       "<div>\n",
       "<style scoped>\n",
       "    .dataframe tbody tr th:only-of-type {\n",
       "        vertical-align: middle;\n",
       "    }\n",
       "\n",
       "    .dataframe tbody tr th {\n",
       "        vertical-align: top;\n",
       "    }\n",
       "\n",
       "    .dataframe thead th {\n",
       "        text-align: right;\n",
       "    }\n",
       "</style>\n",
       "<table border=\"1\" class=\"dataframe\">\n",
       "  <thead>\n",
       "    <tr style=\"text-align: right;\">\n",
       "      <th></th>\n",
       "      <th>mean</th>\n",
       "      <th>sd</th>\n",
       "      <th>hdi_3%</th>\n",
       "      <th>hdi_97%</th>\n",
       "      <th>mcse_mean</th>\n",
       "      <th>mcse_sd</th>\n",
       "      <th>ess_bulk</th>\n",
       "      <th>ess_tail</th>\n",
       "      <th>r_hat</th>\n",
       "    </tr>\n",
       "  </thead>\n",
       "  <tbody>\n",
       "    <tr>\n",
       "      <th>mean</th>\n",
       "      <td>25.988</td>\n",
       "      <td>0.010</td>\n",
       "      <td>25.970</td>\n",
       "      <td>26.009</td>\n",
       "      <td>0.000</td>\n",
       "      <td>0.000</td>\n",
       "      <td>3293.0</td>\n",
       "      <td>3782.0</td>\n",
       "      <td>1.0</td>\n",
       "    </tr>\n",
       "    <tr>\n",
       "      <th>std</th>\n",
       "      <td>0.518</td>\n",
       "      <td>0.018</td>\n",
       "      <td>0.484</td>\n",
       "      <td>0.553</td>\n",
       "      <td>0.000</td>\n",
       "      <td>0.000</td>\n",
       "      <td>3039.0</td>\n",
       "      <td>3593.0</td>\n",
       "      <td>1.0</td>\n",
       "    </tr>\n",
       "    <tr>\n",
       "      <th>height</th>\n",
       "      <td>1679.759</td>\n",
       "      <td>49.528</td>\n",
       "      <td>1592.301</td>\n",
       "      <td>1775.390</td>\n",
       "      <td>0.755</td>\n",
       "      <td>0.535</td>\n",
       "      <td>4368.0</td>\n",
       "      <td>4664.0</td>\n",
       "      <td>1.0</td>\n",
       "    </tr>\n",
       "    <tr>\n",
       "      <th>area</th>\n",
       "      <td>2181.006</td>\n",
       "      <td>50.680</td>\n",
       "      <td>2082.168</td>\n",
       "      <td>2271.023</td>\n",
       "      <td>0.773</td>\n",
       "      <td>0.547</td>\n",
       "      <td>4294.0</td>\n",
       "      <td>5352.0</td>\n",
       "      <td>1.0</td>\n",
       "    </tr>\n",
       "    <tr>\n",
       "      <th>alpha</th>\n",
       "      <td>2.998</td>\n",
       "      <td>0.315</td>\n",
       "      <td>2.430</td>\n",
       "      <td>3.608</td>\n",
       "      <td>0.005</td>\n",
       "      <td>0.004</td>\n",
       "      <td>3794.0</td>\n",
       "      <td>4505.0</td>\n",
       "      <td>1.0</td>\n",
       "    </tr>\n",
       "  </tbody>\n",
       "</table>\n",
       "</div>"
      ],
      "text/plain": [
       "            mean      sd    hdi_3%   hdi_97%  mcse_mean  mcse_sd  ess_bulk  \\\n",
       "mean      25.988   0.010    25.970    26.009      0.000    0.000    3293.0   \n",
       "std        0.518   0.018     0.484     0.553      0.000    0.000    3039.0   \n",
       "height  1679.759  49.528  1592.301  1775.390      0.755    0.535    4368.0   \n",
       "area    2181.006  50.680  2082.168  2271.023      0.773    0.547    4294.0   \n",
       "alpha      2.998   0.315     2.430     3.608      0.005    0.004    3794.0   \n",
       "\n",
       "        ess_tail  r_hat  \n",
       "mean      3782.0    1.0  \n",
       "std       3593.0    1.0  \n",
       "height    4664.0    1.0  \n",
       "area      5352.0    1.0  \n",
       "alpha     4505.0    1.0  "
      ]
     },
     "execution_count": 64,
     "metadata": {},
     "output_type": "execute_result"
    }
   ],
   "source": [
    "az.summary(idata2).loc[[\"mean\", \"std\", \"height\", \"area\", \"alpha\"],:]"
   ]
  },
  {
   "cell_type": "code",
   "execution_count": 51,
   "metadata": {},
   "outputs": [
    {
     "name": "stdout",
     "output_type": "stream",
     "text": [
      "{24.505850000000002: 229.875, 24.5513: 229.875, 24.596766666666667: 229.875, 24.642216666666666: 229.875, 24.687683333333332: 229.875, 24.733133333333335: 229.875, 24.778599999999997: 229.875, 24.824066666666667: 229.875, 24.869516666666666: 229.875, 24.914983333333332: 229.875, 24.960433333333334: 229.875, 25.0059: 229.875, 25.05135: 229.875, 25.096816666666665: 229.875, 25.142266666666668: 229.876, 25.18773333333333: 229.88, 25.233183333333333: 229.893, 25.278650000000003: 229.931, 25.324116666666665: 230.038, 25.369566666666667: 230.325, 25.415033333333334: 231.056, 25.460483333333332: 232.817, 25.50595: 236.82, 25.5514: 245.373, 25.596866666666664: 262.534, 25.642316666666666: 294.747, 25.687783333333336: 351.259, 25.733249999999998: 443.608, 25.7787: 583.851, 25.824166666666667: 781.574, 25.869616666666666: 1039.431, 25.91508333333333: 1350.212, 25.960533333333334: 1694.876, 26.005999999999997: 2045.678, 26.05145: 2370.666, 26.09691666666667: 2641.533, 26.14238333333333: 2838.561, 26.187833333333334: 2953.847, 26.2333: 2990.561, 26.27875: 2959.464, 26.324216666666665: 2874.966, 26.369666666666667: 2751.758, 26.415133333333333: 2602.509, 26.460583333333332: 2437.43, 26.506050000000002: 2263.972, 26.551499999999997: 2087.808, 26.596966666666667: 1912.893, 26.642433333333333: 1742.354, 26.687883333333332: 1578.588, 26.733349999999998: 1423.253, 26.7788: 1277.785, 26.824266666666666: 1142.993, 26.869716666666665: 1019.534, 26.915183333333335: 907.552, 26.96063333333333: 807.082, 27.0061: 717.765, 27.051566666666666: 639.16, 27.097016666666665: 570.66, 27.142483333333335: 511.477, 27.187933333333334: 460.847, 27.2334: 417.892, 27.27885: 381.797, 27.324316666666668: 351.711, 27.369766666666667: 326.868, 27.415233333333333: 306.513, 27.4607: 289.984, 27.506149999999998: 276.679, 27.551616666666668: 266.048, 27.597066666666667: 257.631, 27.642533333333333: 251.016, 27.68798333333333: 245.862, 27.73345: 241.876, 27.7789: 238.82, 27.824366666666666: 236.494, 27.86981666666667: 234.738, 27.91528333333333: 233.422, 27.96075: 232.444, 28.0062: 231.723, 28.051666666666666: 231.195, 28.09711666666667: 230.811, 28.142583333333334: 230.534, 28.188033333333333: 230.336, 28.2335: 230.195, 28.278950000000002: 230.095, 28.324416666666664: 230.026, 28.369883333333334: 229.978, 28.415333333333333: 229.944, 28.4608: 229.921, 28.50625: 229.906, 28.551716666666668: 229.895, 28.597166666666666: 229.888, 28.642633333333333: 229.883, 28.688083333333335: 229.88, 28.733549999999997: 229.878, 28.779016666666667: 229.877, 28.82446666666667: 229.876, 28.869933333333332: 229.876, 28.915383333333335: 229.875, 28.96085: 229.875}\n"
     ]
    },
    {
     "data": {
      "image/png": "[encoded data removed]",
      "text/plain": [
       "<Figure size 640x480 with 1 Axes>"
      ]
     },
     "metadata": {},
     "output_type": "display_data"
    }
   ],
   "source": [
    "data_list = list(az.summary(idata).iloc[:,0])\n",
    "y = data_list[7:]\n",
    "y\n",
    "pyplot.plot(time_np, y)\n",
    "pyplot.axvline(x = 26.22195893367449)\n",
    "print(dict(zip(time_np, y)))"
   ]
  },
  {
   "cell_type": "code",
   "execution_count": 33,
   "metadata": {},
   "outputs": [
    {
     "name": "stdout",
     "output_type": "stream",
     "text": [
      "1.694191796628053 1.644267468365121\n"
     ]
    }
   ],
   "source": [
    "raw_skewness = st.skew(intensity_np)\n",
    "fit_skewness = st.skew(y)\n",
    "print(raw_skewness, fit_skewness)"
   ]
  },
  {
   "cell_type": "code",
   "execution_count": 58,
   "metadata": {},
   "outputs": [],
   "source": [
    "def calculate_mue_z(alpha):\n",
    "    return np.sqrt(2/np.pi) * alpha / (np.sqrt(1 + alpha ** 2))\n",
    "\n",
    "def calculate_sigma_z(mue_z):\n",
    "    return np.sqrt(1 - mue_z ** 2)\n",
    "\n",
    "def skew_mode(alpha, intensity):\n",
    "    mue_z = calculate_mue_z(alpha)\n",
    "    sigma_z = calculate_sigma_z(mue_z)\n",
    "    fit_skewness = st.skew(intensity)\n",
    "\n",
    "    return mue_z - (fit_skewness * sigma_z) / 2 - np.sign(alpha) / 2 * np.exp(- (2 * np.pi)/abs(alpha))\n",
    "\n",
    "def mue_skew(mean, sigma, alpha):\n",
    "    return mean + sigma * np.sqrt(2/np.pi) * alpha / (np.sqrt(1 + alpha ** 2))\n",
    "\n",
    "def mode_pos(mue, skew_mode, alpha):\n",
    "    if alpha < 0:\n",
    "        return mue + skew_mode\n",
    "    elif alpha > 0:\n",
    "        return mue - skew_mode"
   ]
  },
  {
   "cell_type": "code",
   "execution_count": 59,
   "metadata": {},
   "outputs": [
    {
     "data": {
      "text/plain": [
       "26.22195893367449"
      ]
     },
     "execution_count": 59,
     "metadata": {},
     "output_type": "execute_result"
    }
   ],
   "source": [
    "alpha = az.summary(idata).loc[\"alpha\",\"mean\"]\n",
    "mean = az.summary(idata).loc[\"mean\",\"mean\"]\n",
    "sigma = az.summary(idata).loc[\"std\",\"mean\"]\n",
    "mode_test = skew_mode(alpha, y)\n",
    "mue = mue_skew(mean, sigma, alpha)\n",
    "mode_pos(mue, mode_test, alpha)"
   ]
  },
  {
   "cell_type": "code",
   "execution_count": 15,
   "metadata": {},
   "outputs": [
    {
     "data": {
      "text/plain": [
       "25.236685669045258"
      ]
     },
     "execution_count": 15,
     "metadata": {},
     "output_type": "execute_result"
    }
   ],
   "source": [
    "delta = time_np[-1]-time_np[0]\n",
    "time_np[0]+mode_test*delta"
   ]
  },
  {
   "cell_type": "code",
   "execution_count": 38,
   "metadata": {},
   "outputs": [
    {
     "data": {
      "text/plain": [
       "26.655320343080646"
      ]
     },
     "execution_count": 38,
     "metadata": {},
     "output_type": "execute_result"
    }
   ],
   "source": [
    "delta = time_np[-1]-time_np[0]\n",
    "25.951+mode_test*delta"
   ]
  },
  {
   "cell_type": "code",
   "execution_count": null,
   "metadata": {},
   "outputs": [],
   "source": []
  }
 ],
 "metadata": {
  "kernelspec": {
   "display_name": "pm502",
   "language": "python",
   "name": "python3"
  },
  "language_info": {
   "codemirror_mode": {
    "name": "ipython",
    "version": 3
   },
   "file_extension": ".py",
   "mimetype": "text/x-python",
   "name": "python",
   "nbconvert_exporter": "python",
   "pygments_lexer": "ipython3",
   "version": "3.10.0"
  },
  "orig_nbformat": 4
 },
 "nbformat": 4,
 "nbformat_minor": 2
}
