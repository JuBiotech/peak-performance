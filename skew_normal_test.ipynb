{
 "cells": [
  {
   "cell_type": "code",
   "execution_count": 1,
   "metadata": {},
   "outputs": [],
   "source": [
    "import arviz as az\n",
    "import numpy as np\n",
    "import pymc as pm\n",
    "import pytensor.tensor as pt\n",
    "from matplotlib import pyplot\n",
    "import scipy.stats as st\n",
    "import scipy.signal\n",
    "import scipy.integrate\n",
    "import pandas\n",
    "import openpyxl\n",
    "import json\n",
    "import math"
   ]
  },
  {
   "cell_type": "code",
   "execution_count": 2,
   "metadata": {},
   "outputs": [],
   "source": [
    "# Read example data\n",
    "time = np.fromfile(fr\"./His110 test data/A1_t1_1_Part2_His110_M0_m0_time.npy\")\n",
    "intensity = np.fromfile(fr\"./His110 test data/A1_t1_1_Part2_His110_M0_m0_intensity.npy\")"
   ]
  },
  {
   "cell_type": "code",
   "execution_count": 27,
   "metadata": {},
   "outputs": [],
   "source": [
    "# Read example data\n",
    "time_np = np.fromfile(fr\"./His110 test data/A2_t2_1_Part2_His110_M0_m0_time.npy\")\n",
    "intensity_np = np.fromfile(fr\"./His110 test data/A2_t2_1_Part2_His110_M0_m0_intensity.npy\")"
   ]
  },
  {
   "cell_type": "code",
   "execution_count": 45,
   "metadata": {},
   "outputs": [],
   "source": [
    "# formulation with height\n",
    "with pm.Model() as pmodel:\n",
    "    # priors\n",
    "    baseline = pm.Normal(\"baseline\", 200, 100)\n",
    "    noise = pm.LogNormal(\"noise\", np.log(100), 1)\n",
    "    mean = pm.Normal(\"mean\", np.mean(time_np[[0, -1]]), np.ptp(time_np) / 2)\n",
    "    std = pm.HalfNormal(\"std\", np.ptp(time_np) / 3)\n",
    "    alpha = pm.HalfNormal(\"alpha\", 2.5)\n",
    "    # when x-axis (time) is in minutes\n",
    "    height = pm.HalfNormal(\"height\", 0.95 * np.max(intensity_np))\n",
    "    area = pm.Deterministic(\"area\", height/(1 / (std * np.sqrt(2 * np.pi))))\n",
    "    # posterior\n",
    "    y = baseline + height * (2 * pt.exp(-0.5 * ((time_np - mean) / std)**2)) * (0.5 * (1 + pt.erf(((alpha * (time_np - mean) / std)) / np.sqrt(2))))\n",
    "    y = pm.Deterministic(\"y\", y)\n",
    "\n",
    "    # likelihood (auf der y-Achse liegende Normalverteilung um Datenpunkte, entspricht hier Normalverteilung um Wert mit Standardabweichung = noise)\n",
    "    L = pm.Normal(\"L\", mu=y, sigma=noise, observed=intensity_np)"
   ]
  },
  {
   "cell_type": "code",
   "execution_count": 29,
   "metadata": {},
   "outputs": [
    {
     "name": "stderr",
     "output_type": "stream",
     "text": [
      "Sampling: [L, alpha, baseline, height, mean, noise, std]\n",
      "Auto-assigning NUTS sampler...\n",
      "Initializing NUTS using jitter+adapt_diag...\n",
      "Multiprocess sampling (4 chains in 4 jobs)\n",
      "NUTS: [baseline, noise, mean, std, alpha, height]\n"
     ]
    },
    {
     "name": "stderr",
     "output_type": "stream",
     "text": [
      "Sampling 4 chains for 2_000 tune and 2_000 draw iterations (8_000 + 8_000 draws total) took 75 seconds.\n"
     ]
    }
   ],
   "source": [
    "with pmodel:\n",
    "    idata = pm.sample_prior_predictive()\n",
    "    idata.extend(pm.sample(2000, tune = 2000))"
   ]
  },
  {
   "cell_type": "code",
   "execution_count": 29,
   "metadata": {},
   "outputs": [],
   "source": [
    "with pm.Model() as pmodel:\n",
    "    # priors\n",
    "    baseline = pm.Normal(\"baseline\", 200, 100)\n",
    "    noise = pm.LogNormal(\"noise\", np.log(100), 1)\n",
    "    mean = pm.Normal(\"mean\", np.mean(time_np[[0, -1]]), np.ptp(time_np) / 2)\n",
    "    std = pm.HalfNormal(\"std\", np.ptp(time_np) / 3)\n",
    "    alpha = pm.HalfNormal(\"alpha\", 2.5)\n",
    "    # when x-axis (time) is in minutes\n",
    "    area = pm.HalfNormal(\"area\", np.max(intensity_np) * 0.9)\n",
    "\n",
    "    # posterior with x = time = 0\n",
    "    pm.Deterministic(\"height\", area * (1 / (std * np.sqrt(2 * np.pi))))\n",
    "    # posterior\n",
    "    # y = baseline + area * (2 * (1 / (std * np.sqrt(2 * np.pi)) * pt.exp(-0.5 * ((time_np - mean) / std)**2)) * (0.5 * (1 + pt.erf(((alpha * (time_np - mean) / std)) / np.sqrt(2)))))\n",
    "    y = baseline + area * (1 / (std * np.sqrt(2 * np.pi)) * pt.exp(-0.5 * ((time_np - mean) / std)**2))\n",
    "    y = pm.Deterministic(\"y\", y)\n",
    "\n",
    "    # likelihood (auf der y-Achse liegende Normalverteilung um Datenpunkte, entspricht hier Normalverteilung um Wert mit Standardabweichung = noise)\n",
    "    L = pm.Normal(\"L\", mu=y, sigma=noise, observed=intensity_np)"
   ]
  },
  {
   "cell_type": "code",
   "execution_count": 30,
   "metadata": {},
   "outputs": [
    {
     "name": "stderr",
     "output_type": "stream",
     "text": [
      "Sampling: [L, alpha, area, baseline, mean, noise, std]\n",
      "Auto-assigning NUTS sampler...\n",
      "Initializing NUTS using jitter+adapt_diag...\n",
      "Multiprocess sampling (4 chains in 4 jobs)\n",
      "NUTS: [baseline, noise, mean, std, alpha, area]\n"
     ]
    },
    {
     "name": "stderr",
     "output_type": "stream",
     "text": [
      "Sampling 4 chains for 2_000 tune and 2_000 draw iterations (8_000 + 8_000 draws total) took 77 seconds.\n"
     ]
    }
   ],
   "source": [
    "with pmodel:\n",
    "    idata2 = pm.sample_prior_predictive()\n",
    "    idata2.extend(pm.sample(2000, tune = 2000))"
   ]
  },
  {
   "cell_type": "code",
   "execution_count": 115,
   "metadata": {},
   "outputs": [],
   "source": [
    "with pm.Model() as pmodel:\n",
    "    # priors\n",
    "    baseline = pm.Normal(\"baseline\", 200, 100)\n",
    "    noise = pm.LogNormal(\"noise\", np.log(100), 1)\n",
    "    mean = pm.Normal(\"mean\", np.mean(time_np[[0, -1]]), np.ptp(time_np) / 2)\n",
    "    std = pm.HalfNormal(\"std\", np.ptp(time_np) / 3)\n",
    "    alpha = pm.HalfNormal(\"alpha\", 2.5)\n",
    "    # noch abs() um Term in Wurzel oder sign(alpha) * Term in Wurzel\n",
    "    std_skew = pm.Deterministic(\"std_skew\", np.sqrt(std ** 2 * (1 - (2 *  alpha ** 2) / ((alpha ** 2 + 1) * np.pi))))\n",
    "    # when x-axis (time) is in minutes\n",
    "    area = pm.HalfNormal(\"area\", np.max(intensity_np) * 0.9)\n",
    "\n",
    "    # posterior with x = time = 0\n",
    "    pm.Deterministic(\"height\", area * (1 / (std * np.sqrt(2 * np.pi))))\n",
    "    mean_skew = pm.Deterministic(\"mean_skew\", mean + std * np.sqrt(2 / np.pi) * alpha / (np.sqrt(1 + alpha ** 2)))\n",
    "    pm.Deterministic(\"height2\", area * (2 * (1 / (std * np.sqrt(2 * np.pi)) * pt.exp(-0.5 * ((mean_skew - mean) / std)**2)) * (0.5 * (1 + pt.erf(((alpha * (mean_skew - mean) / std_skew)) / np.sqrt(2))))))\n",
    "    mue_z = pm.Deterministic(\"mue_z\", np.sqrt(2/np.pi) * alpha / (np.sqrt(1 + alpha ** 2)))\n",
    "    sigma_z = pm.Deterministic(\"sigma_z\",  np.sqrt(1 - mue_z ** 2))\n",
    "    fit_skewness = st.skew(intensity_np)\n",
    "    mode_offset = pm.Deterministic(\"mode_offset\", mue_z - (fit_skewness * sigma_z) / 2 - (alpha/abs(alpha)) / 2 * pt.exp(- (2 * np.pi)/abs(alpha)))\n",
    "    mode_skew = pm.Deterministic(\"mode_skew\", mean_skew - (alpha / abs(alpha)) * mode_offset)\n",
    "\n",
    "    pm.Deterministic(\"height3\", area * (2 * (1 / (std * np.sqrt(2 * np.pi)) * pt.exp(-0.5 * ((mode_skew - mean) / std)**2)) * (0.5 * (1 + pt.erf(((alpha * (mode_skew - mean) / std)) / np.sqrt(2))))))\n",
    "    # posterior\n",
    "    y = baseline + area * (2 * (1 / (std * np.sqrt(2 * np.pi)) * pt.exp(-0.5 * ((time_np - mean) / std)**2)) * (0.5 * (1 + pt.erf(((alpha * (time_np - mean) / std)) / np.sqrt(2)))))\n",
    "\n",
    "    y = pm.Deterministic(\"y\", y)\n",
    "\n",
    "    # likelihood (auf der y-Achse liegende Normalverteilung um Datenpunkte, entspricht hier Normalverteilung um Wert mit Standardabweichung = noise)\n",
    "    L = pm.Normal(\"L\", mu=y, sigma=noise, observed=intensity_np)"
   ]
  },
  {
   "cell_type": "code",
   "execution_count": 116,
   "metadata": {},
   "outputs": [
    {
     "name": "stderr",
     "output_type": "stream",
     "text": [
      "Sampling: [L, alpha, area, baseline, mean, noise, std]\n",
      "Auto-assigning NUTS sampler...\n",
      "Initializing NUTS using jitter+adapt_diag...\n",
      "Multiprocess sampling (4 chains in 4 jobs)\n",
      "NUTS: [baseline, noise, mean, std, alpha, area]\n"
     ]
    },
    {
     "name": "stderr",
     "output_type": "stream",
     "text": [
      "Sampling 4 chains for 2_000 tune and 2_000 draw iterations (8_000 + 8_000 draws total) took 82 seconds.\n"
     ]
    }
   ],
   "source": [
    "with pmodel:\n",
    "    idata3 = pm.sample_prior_predictive()\n",
    "    idata3.extend(pm.sample(2000, tune = 2000))"
   ]
  },
  {
   "cell_type": "code",
   "execution_count": 117,
   "metadata": {},
   "outputs": [
    {
     "name": "stdout",
     "output_type": "stream",
     "text": [
      "[141.18, 141.18]\n"
     ]
    },
    {
     "data": {
      "image/png": "[encoded data removed]",
      "text/plain": [
       "<Figure size 640x480 with 1 Axes>"
      ]
     },
     "metadata": {},
     "output_type": "display_data"
    }
   ],
   "source": [
    "fig, ax = pyplot.subplots()\n",
    "\n",
    "pm.gp.util.plot_gp_dist(\n",
    "    ax=ax,\n",
    "    x=time_np,\n",
    "    samples=idata3.posterior.y.stack(sample=(\"chain\", \"draw\")).T.values,\n",
    ")\n",
    "ax.scatter(time_np, intensity_np, marker=\"x\", color=\"black\", label=\"data\")\n",
    "ax.set_xlabel(\"time / min\", fontsize=12, fontweight=\"bold\")\n",
    "ax.set_ylabel(\"intensity / a.u.\", fontsize=12, fontweight=\"bold\")\n",
    "# plot baseline\n",
    "x = np.array(ax.get_xlim())\n",
    "y_baseline = az.summary(idata3).loc[\"baseline\",\"mean\"]\n",
    "y = [y_baseline] * len(x)\n",
    "print(y)\n",
    "pyplot.plot(x, y, label = \"baseline\")\n",
    "# pyplot.axvline(x = 25.95)\n",
    "# pyplot.axvline(x = 26.345)\n",
    "# pyplot.axvline(x = 26.488)\n",
    "# pyplot.hlines([1856.0, 1807.0, 1947.0], xmin = 25, xmax = 29)\n",
    "pyplot.legend()\n",
    "pyplot.tight_layout()\n",
    "pyplot.show()\n",
    "# pyplot.savefig(\"Skew_A1_t1_1_Part2_His110_M0_m0.png\")"
   ]
  },
  {
   "cell_type": "code",
   "execution_count": 32,
   "metadata": {},
   "outputs": [
    {
     "data": {
      "image/png": "[encoded data removed]",
      "text/plain": [
       "<Figure size 640x480 with 1 Axes>"
      ]
     },
     "metadata": {},
     "output_type": "display_data"
    }
   ],
   "source": [
    "fig, ax = pyplot.subplots()\n",
    "\n",
    "pm.gp.util.plot_gp_dist(\n",
    "    ax=ax,\n",
    "    x=time_np,\n",
    "    samples=idata2.posterior.y.stack(sample=(\"chain\", \"draw\")).T.values,\n",
    ")\n",
    "pm.gp.util.plot_gp_dist(\n",
    "    ax=ax,\n",
    "    x=time_np,\n",
    "    samples=idata3.posterior.y.stack(sample=(\"chain\", \"draw\")).T.values,\n",
    ")\n",
    "ax.scatter(time_np, intensity_np, marker=\"x\", color=\"black\", label=\"data\")\n",
    "ax.set_xlabel(\"time / min\", fontsize=12, fontweight=\"bold\")\n",
    "ax.set_ylabel(\"intensity / a.u.\", fontsize=12, fontweight=\"bold\")\n",
    "pyplot.legend()\n",
    "pyplot.tight_layout()\n",
    "pyplot.show()"
   ]
  },
  {
   "cell_type": "code",
   "execution_count": 51,
   "metadata": {},
   "outputs": [
    {
     "data": {
      "text/html": [
       "<div>\n",
       "<style scoped>\n",
       "    .dataframe tbody tr th:only-of-type {\n",
       "        vertical-align: middle;\n",
       "    }\n",
       "\n",
       "    .dataframe tbody tr th {\n",
       "        vertical-align: top;\n",
       "    }\n",
       "\n",
       "    .dataframe thead th {\n",
       "        text-align: right;\n",
       "    }\n",
       "</style>\n",
       "<table border=\"1\" class=\"dataframe\">\n",
       "  <thead>\n",
       "    <tr style=\"text-align: right;\">\n",
       "      <th></th>\n",
       "      <th>mean</th>\n",
       "      <th>sd</th>\n",
       "      <th>hdi_3%</th>\n",
       "      <th>hdi_97%</th>\n",
       "      <th>mcse_mean</th>\n",
       "      <th>mcse_sd</th>\n",
       "      <th>ess_bulk</th>\n",
       "      <th>ess_tail</th>\n",
       "      <th>r_hat</th>\n",
       "    </tr>\n",
       "  </thead>\n",
       "  <tbody>\n",
       "    <tr>\n",
       "      <th>mean</th>\n",
       "      <td>25.951</td>\n",
       "      <td>0.013</td>\n",
       "      <td>25.927</td>\n",
       "      <td>25.975</td>\n",
       "      <td>0.000</td>\n",
       "      <td>0.000</td>\n",
       "      <td>3209.0</td>\n",
       "      <td>4084.0</td>\n",
       "      <td>1.0</td>\n",
       "    </tr>\n",
       "    <tr>\n",
       "      <th>std</th>\n",
       "      <td>0.523</td>\n",
       "      <td>0.022</td>\n",
       "      <td>0.483</td>\n",
       "      <td>0.564</td>\n",
       "      <td>0.000</td>\n",
       "      <td>0.000</td>\n",
       "      <td>2960.0</td>\n",
       "      <td>3793.0</td>\n",
       "      <td>1.0</td>\n",
       "    </tr>\n",
       "    <tr>\n",
       "      <th>std_skew</th>\n",
       "      <td>0.343</td>\n",
       "      <td>0.010</td>\n",
       "      <td>0.324</td>\n",
       "      <td>0.362</td>\n",
       "      <td>0.000</td>\n",
       "      <td>0.000</td>\n",
       "      <td>3421.0</td>\n",
       "      <td>4667.0</td>\n",
       "      <td>1.0</td>\n",
       "    </tr>\n",
       "    <tr>\n",
       "      <th>height</th>\n",
       "      <td>1739.723</td>\n",
       "      <td>39.928</td>\n",
       "      <td>1663.919</td>\n",
       "      <td>1812.976</td>\n",
       "      <td>0.494</td>\n",
       "      <td>0.350</td>\n",
       "      <td>6519.0</td>\n",
       "      <td>6402.0</td>\n",
       "      <td>1.0</td>\n",
       "    </tr>\n",
       "    <tr>\n",
       "      <th>area</th>\n",
       "      <td>1495.707</td>\n",
       "      <td>39.062</td>\n",
       "      <td>1423.452</td>\n",
       "      <td>1568.796</td>\n",
       "      <td>0.628</td>\n",
       "      <td>0.444</td>\n",
       "      <td>3858.0</td>\n",
       "      <td>4854.0</td>\n",
       "      <td>1.0</td>\n",
       "    </tr>\n",
       "    <tr>\n",
       "      <th>alpha</th>\n",
       "      <td>2.966</td>\n",
       "      <td>0.391</td>\n",
       "      <td>2.245</td>\n",
       "      <td>3.691</td>\n",
       "      <td>0.006</td>\n",
       "      <td>0.004</td>\n",
       "      <td>3772.0</td>\n",
       "      <td>4208.0</td>\n",
       "      <td>1.0</td>\n",
       "    </tr>\n",
       "    <tr>\n",
       "      <th>baseline</th>\n",
       "      <td>141.438</td>\n",
       "      <td>13.576</td>\n",
       "      <td>116.684</td>\n",
       "      <td>166.736</td>\n",
       "      <td>0.207</td>\n",
       "      <td>0.147</td>\n",
       "      <td>4278.0</td>\n",
       "      <td>5185.0</td>\n",
       "      <td>1.0</td>\n",
       "    </tr>\n",
       "  </tbody>\n",
       "</table>\n",
       "</div>"
      ],
      "text/plain": [
       "              mean      sd    hdi_3%   hdi_97%  mcse_mean  mcse_sd  ess_bulk  \\\n",
       "mean        25.951   0.013    25.927    25.975      0.000    0.000    3209.0   \n",
       "std          0.523   0.022     0.483     0.564      0.000    0.000    2960.0   \n",
       "std_skew     0.343   0.010     0.324     0.362      0.000    0.000    3421.0   \n",
       "height    1739.723  39.928  1663.919  1812.976      0.494    0.350    6519.0   \n",
       "area      1495.707  39.062  1423.452  1568.796      0.628    0.444    3858.0   \n",
       "alpha        2.966   0.391     2.245     3.691      0.006    0.004    3772.0   \n",
       "baseline   141.438  13.576   116.684   166.736      0.207    0.147    4278.0   \n",
       "\n",
       "          ess_tail  r_hat  \n",
       "mean        4084.0    1.0  \n",
       "std         3793.0    1.0  \n",
       "std_skew    4667.0    1.0  \n",
       "height      6402.0    1.0  \n",
       "area        4854.0    1.0  \n",
       "alpha       4208.0    1.0  \n",
       "baseline    5185.0    1.0  "
      ]
     },
     "execution_count": 51,
     "metadata": {},
     "output_type": "execute_result"
    }
   ],
   "source": [
    "az.summary(idata3).loc[[\"mean\", \"std\", \"std_skew\", \"height\", \"area\", \"alpha\", \"baseline\"],:]"
   ]
  },
  {
   "cell_type": "code",
   "execution_count": 98,
   "metadata": {},
   "outputs": [
    {
     "data": {
      "text/html": [
       "<div>\n",
       "<style scoped>\n",
       "    .dataframe tbody tr th:only-of-type {\n",
       "        vertical-align: middle;\n",
       "    }\n",
       "\n",
       "    .dataframe tbody tr th {\n",
       "        vertical-align: top;\n",
       "    }\n",
       "\n",
       "    .dataframe thead th {\n",
       "        text-align: right;\n",
       "    }\n",
       "</style>\n",
       "<table border=\"1\" class=\"dataframe\">\n",
       "  <thead>\n",
       "    <tr style=\"text-align: right;\">\n",
       "      <th></th>\n",
       "      <th>mean</th>\n",
       "      <th>sd</th>\n",
       "      <th>hdi_3%</th>\n",
       "      <th>hdi_97%</th>\n",
       "      <th>mcse_mean</th>\n",
       "      <th>mcse_sd</th>\n",
       "      <th>ess_bulk</th>\n",
       "      <th>ess_tail</th>\n",
       "      <th>r_hat</th>\n",
       "    </tr>\n",
       "  </thead>\n",
       "  <tbody>\n",
       "    <tr>\n",
       "      <th>mean</th>\n",
       "      <td>25.950</td>\n",
       "      <td>0.013</td>\n",
       "      <td>25.926</td>\n",
       "      <td>25.974</td>\n",
       "      <td>0.000</td>\n",
       "      <td>0.000</td>\n",
       "      <td>3476.0</td>\n",
       "      <td>4136.0</td>\n",
       "      <td>1.0</td>\n",
       "    </tr>\n",
       "    <tr>\n",
       "      <th>mean_skew</th>\n",
       "      <td>26.346</td>\n",
       "      <td>0.012</td>\n",
       "      <td>26.322</td>\n",
       "      <td>26.368</td>\n",
       "      <td>0.000</td>\n",
       "      <td>0.000</td>\n",
       "      <td>4582.0</td>\n",
       "      <td>5680.0</td>\n",
       "      <td>1.0</td>\n",
       "    </tr>\n",
       "    <tr>\n",
       "      <th>std</th>\n",
       "      <td>0.524</td>\n",
       "      <td>0.022</td>\n",
       "      <td>0.483</td>\n",
       "      <td>0.565</td>\n",
       "      <td>0.000</td>\n",
       "      <td>0.000</td>\n",
       "      <td>3165.0</td>\n",
       "      <td>3977.0</td>\n",
       "      <td>1.0</td>\n",
       "    </tr>\n",
       "    <tr>\n",
       "      <th>std_skew</th>\n",
       "      <td>0.344</td>\n",
       "      <td>0.010</td>\n",
       "      <td>0.324</td>\n",
       "      <td>0.363</td>\n",
       "      <td>0.000</td>\n",
       "      <td>0.000</td>\n",
       "      <td>3748.0</td>\n",
       "      <td>4991.0</td>\n",
       "      <td>1.0</td>\n",
       "    </tr>\n",
       "    <tr>\n",
       "      <th>height</th>\n",
       "      <td>1140.975</td>\n",
       "      <td>41.064</td>\n",
       "      <td>1065.157</td>\n",
       "      <td>1217.789</td>\n",
       "      <td>0.653</td>\n",
       "      <td>0.463</td>\n",
       "      <td>4005.0</td>\n",
       "      <td>4941.0</td>\n",
       "      <td>1.0</td>\n",
       "    </tr>\n",
       "    <tr>\n",
       "      <th>height2</th>\n",
       "      <td>1714.813</td>\n",
       "      <td>70.773</td>\n",
       "      <td>1581.963</td>\n",
       "      <td>1844.316</td>\n",
       "      <td>1.149</td>\n",
       "      <td>0.815</td>\n",
       "      <td>3841.0</td>\n",
       "      <td>4852.0</td>\n",
       "      <td>1.0</td>\n",
       "    </tr>\n",
       "    <tr>\n",
       "      <th>height3</th>\n",
       "      <td>1867.151</td>\n",
       "      <td>38.615</td>\n",
       "      <td>1798.011</td>\n",
       "      <td>1942.961</td>\n",
       "      <td>0.435</td>\n",
       "      <td>0.307</td>\n",
       "      <td>7895.0</td>\n",
       "      <td>6650.0</td>\n",
       "      <td>1.0</td>\n",
       "    </tr>\n",
       "    <tr>\n",
       "      <th>mode_skew</th>\n",
       "      <td>26.203</td>\n",
       "      <td>0.011</td>\n",
       "      <td>26.182</td>\n",
       "      <td>26.223</td>\n",
       "      <td>0.000</td>\n",
       "      <td>0.000</td>\n",
       "      <td>6076.0</td>\n",
       "      <td>6229.0</td>\n",
       "      <td>1.0</td>\n",
       "    </tr>\n",
       "    <tr>\n",
       "      <th>area</th>\n",
       "      <td>1497.517</td>\n",
       "      <td>38.974</td>\n",
       "      <td>1424.722</td>\n",
       "      <td>1570.413</td>\n",
       "      <td>0.588</td>\n",
       "      <td>0.416</td>\n",
       "      <td>4396.0</td>\n",
       "      <td>5083.0</td>\n",
       "      <td>1.0</td>\n",
       "    </tr>\n",
       "    <tr>\n",
       "      <th>alpha</th>\n",
       "      <td>2.981</td>\n",
       "      <td>0.397</td>\n",
       "      <td>2.250</td>\n",
       "      <td>3.736</td>\n",
       "      <td>0.007</td>\n",
       "      <td>0.005</td>\n",
       "      <td>3550.0</td>\n",
       "      <td>4002.0</td>\n",
       "      <td>1.0</td>\n",
       "    </tr>\n",
       "    <tr>\n",
       "      <th>baseline</th>\n",
       "      <td>140.968</td>\n",
       "      <td>13.587</td>\n",
       "      <td>115.922</td>\n",
       "      <td>166.789</td>\n",
       "      <td>0.191</td>\n",
       "      <td>0.135</td>\n",
       "      <td>5041.0</td>\n",
       "      <td>5495.0</td>\n",
       "      <td>1.0</td>\n",
       "    </tr>\n",
       "  </tbody>\n",
       "</table>\n",
       "</div>"
      ],
      "text/plain": [
       "               mean      sd    hdi_3%   hdi_97%  mcse_mean  mcse_sd  ess_bulk  \\\n",
       "mean         25.950   0.013    25.926    25.974      0.000    0.000    3476.0   \n",
       "mean_skew    26.346   0.012    26.322    26.368      0.000    0.000    4582.0   \n",
       "std           0.524   0.022     0.483     0.565      0.000    0.000    3165.0   \n",
       "std_skew      0.344   0.010     0.324     0.363      0.000    0.000    3748.0   \n",
       "height     1140.975  41.064  1065.157  1217.789      0.653    0.463    4005.0   \n",
       "height2    1714.813  70.773  1581.963  1844.316      1.149    0.815    3841.0   \n",
       "height3    1867.151  38.615  1798.011  1942.961      0.435    0.307    7895.0   \n",
       "mode_skew    26.203   0.011    26.182    26.223      0.000    0.000    6076.0   \n",
       "area       1497.517  38.974  1424.722  1570.413      0.588    0.416    4396.0   \n",
       "alpha         2.981   0.397     2.250     3.736      0.007    0.005    3550.0   \n",
       "baseline    140.968  13.587   115.922   166.789      0.191    0.135    5041.0   \n",
       "\n",
       "           ess_tail  r_hat  \n",
       "mean         4136.0    1.0  \n",
       "mean_skew    5680.0    1.0  \n",
       "std          3977.0    1.0  \n",
       "std_skew     4991.0    1.0  \n",
       "height       4941.0    1.0  \n",
       "height2      4852.0    1.0  \n",
       "height3      6650.0    1.0  \n",
       "mode_skew    6229.0    1.0  \n",
       "area         5083.0    1.0  \n",
       "alpha        4002.0    1.0  \n",
       "baseline     5495.0    1.0  "
      ]
     },
     "execution_count": 98,
     "metadata": {},
     "output_type": "execute_result"
    }
   ],
   "source": [
    "az.summary(idata3).loc[[\"mean\", \"mean_skew\", \"std\", \"std_skew\", \"height\", \"height2\", \"height3\", \"mode_skew\", \"area\", \"alpha\", \"baseline\"],:]"
   ]
  },
  {
   "cell_type": "code",
   "execution_count": 118,
   "metadata": {},
   "outputs": [
    {
     "data": {
      "text/html": [
       "<div>\n",
       "<style scoped>\n",
       "    .dataframe tbody tr th:only-of-type {\n",
       "        vertical-align: middle;\n",
       "    }\n",
       "\n",
       "    .dataframe tbody tr th {\n",
       "        vertical-align: top;\n",
       "    }\n",
       "\n",
       "    .dataframe thead th {\n",
       "        text-align: right;\n",
       "    }\n",
       "</style>\n",
       "<table border=\"1\" class=\"dataframe\">\n",
       "  <thead>\n",
       "    <tr style=\"text-align: right;\">\n",
       "      <th></th>\n",
       "      <th>mean</th>\n",
       "      <th>sd</th>\n",
       "      <th>hdi_3%</th>\n",
       "      <th>hdi_97%</th>\n",
       "      <th>mcse_mean</th>\n",
       "      <th>mcse_sd</th>\n",
       "      <th>ess_bulk</th>\n",
       "      <th>ess_tail</th>\n",
       "      <th>r_hat</th>\n",
       "    </tr>\n",
       "  </thead>\n",
       "  <tbody>\n",
       "    <tr>\n",
       "      <th>mean</th>\n",
       "      <td>25.951</td>\n",
       "      <td>0.013</td>\n",
       "      <td>25.925</td>\n",
       "      <td>25.975</td>\n",
       "      <td>0.000</td>\n",
       "      <td>0.000</td>\n",
       "      <td>3214.0</td>\n",
       "      <td>3543.0</td>\n",
       "      <td>1.0</td>\n",
       "    </tr>\n",
       "    <tr>\n",
       "      <th>mean_skew</th>\n",
       "      <td>26.345</td>\n",
       "      <td>0.012</td>\n",
       "      <td>26.323</td>\n",
       "      <td>26.368</td>\n",
       "      <td>0.000</td>\n",
       "      <td>0.000</td>\n",
       "      <td>4387.0</td>\n",
       "      <td>5522.0</td>\n",
       "      <td>1.0</td>\n",
       "    </tr>\n",
       "    <tr>\n",
       "      <th>std</th>\n",
       "      <td>0.523</td>\n",
       "      <td>0.022</td>\n",
       "      <td>0.482</td>\n",
       "      <td>0.564</td>\n",
       "      <td>0.000</td>\n",
       "      <td>0.000</td>\n",
       "      <td>2931.0</td>\n",
       "      <td>3252.0</td>\n",
       "      <td>1.0</td>\n",
       "    </tr>\n",
       "    <tr>\n",
       "      <th>std_skew</th>\n",
       "      <td>0.343</td>\n",
       "      <td>0.010</td>\n",
       "      <td>0.325</td>\n",
       "      <td>0.363</td>\n",
       "      <td>0.000</td>\n",
       "      <td>0.000</td>\n",
       "      <td>3415.0</td>\n",
       "      <td>4320.0</td>\n",
       "      <td>1.0</td>\n",
       "    </tr>\n",
       "    <tr>\n",
       "      <th>height</th>\n",
       "      <td>1142.184</td>\n",
       "      <td>41.515</td>\n",
       "      <td>1063.157</td>\n",
       "      <td>1218.596</td>\n",
       "      <td>0.685</td>\n",
       "      <td>0.488</td>\n",
       "      <td>3759.0</td>\n",
       "      <td>4288.0</td>\n",
       "      <td>1.0</td>\n",
       "    </tr>\n",
       "    <tr>\n",
       "      <th>height2</th>\n",
       "      <td>1716.948</td>\n",
       "      <td>71.323</td>\n",
       "      <td>1586.381</td>\n",
       "      <td>1852.271</td>\n",
       "      <td>1.190</td>\n",
       "      <td>0.847</td>\n",
       "      <td>3600.0</td>\n",
       "      <td>4277.0</td>\n",
       "      <td>1.0</td>\n",
       "    </tr>\n",
       "    <tr>\n",
       "      <th>height3</th>\n",
       "      <td>1867.291</td>\n",
       "      <td>39.863</td>\n",
       "      <td>1798.586</td>\n",
       "      <td>1947.868</td>\n",
       "      <td>0.447</td>\n",
       "      <td>0.316</td>\n",
       "      <td>7957.0</td>\n",
       "      <td>6798.0</td>\n",
       "      <td>1.0</td>\n",
       "    </tr>\n",
       "    <tr>\n",
       "      <th>mode_skew</th>\n",
       "      <td>26.202</td>\n",
       "      <td>0.011</td>\n",
       "      <td>26.182</td>\n",
       "      <td>26.222</td>\n",
       "      <td>0.000</td>\n",
       "      <td>0.000</td>\n",
       "      <td>5743.0</td>\n",
       "      <td>5741.0</td>\n",
       "      <td>1.0</td>\n",
       "    </tr>\n",
       "    <tr>\n",
       "      <th>area</th>\n",
       "      <td>1496.202</td>\n",
       "      <td>39.155</td>\n",
       "      <td>1422.618</td>\n",
       "      <td>1571.222</td>\n",
       "      <td>0.597</td>\n",
       "      <td>0.422</td>\n",
       "      <td>4302.0</td>\n",
       "      <td>4636.0</td>\n",
       "      <td>1.0</td>\n",
       "    </tr>\n",
       "    <tr>\n",
       "      <th>alpha</th>\n",
       "      <td>2.968</td>\n",
       "      <td>0.399</td>\n",
       "      <td>2.223</td>\n",
       "      <td>3.702</td>\n",
       "      <td>0.007</td>\n",
       "      <td>0.005</td>\n",
       "      <td>3582.0</td>\n",
       "      <td>3722.0</td>\n",
       "      <td>1.0</td>\n",
       "    </tr>\n",
       "    <tr>\n",
       "      <th>baseline</th>\n",
       "      <td>141.180</td>\n",
       "      <td>13.619</td>\n",
       "      <td>115.263</td>\n",
       "      <td>166.572</td>\n",
       "      <td>0.199</td>\n",
       "      <td>0.142</td>\n",
       "      <td>4674.0</td>\n",
       "      <td>4472.0</td>\n",
       "      <td>1.0</td>\n",
       "    </tr>\n",
       "  </tbody>\n",
       "</table>\n",
       "</div>"
      ],
      "text/plain": [
       "               mean      sd    hdi_3%   hdi_97%  mcse_mean  mcse_sd  ess_bulk  \\\n",
       "mean         25.951   0.013    25.925    25.975      0.000    0.000    3214.0   \n",
       "mean_skew    26.345   0.012    26.323    26.368      0.000    0.000    4387.0   \n",
       "std           0.523   0.022     0.482     0.564      0.000    0.000    2931.0   \n",
       "std_skew      0.343   0.010     0.325     0.363      0.000    0.000    3415.0   \n",
       "height     1142.184  41.515  1063.157  1218.596      0.685    0.488    3759.0   \n",
       "height2    1716.948  71.323  1586.381  1852.271      1.190    0.847    3600.0   \n",
       "height3    1867.291  39.863  1798.586  1947.868      0.447    0.316    7957.0   \n",
       "mode_skew    26.202   0.011    26.182    26.222      0.000    0.000    5743.0   \n",
       "area       1496.202  39.155  1422.618  1571.222      0.597    0.422    4302.0   \n",
       "alpha         2.968   0.399     2.223     3.702      0.007    0.005    3582.0   \n",
       "baseline    141.180  13.619   115.263   166.572      0.199    0.142    4674.0   \n",
       "\n",
       "           ess_tail  r_hat  \n",
       "mean         3543.0    1.0  \n",
       "mean_skew    5522.0    1.0  \n",
       "std          3252.0    1.0  \n",
       "std_skew     4320.0    1.0  \n",
       "height       4288.0    1.0  \n",
       "height2      4277.0    1.0  \n",
       "height3      6798.0    1.0  \n",
       "mode_skew    5741.0    1.0  \n",
       "area         4636.0    1.0  \n",
       "alpha        3722.0    1.0  \n",
       "baseline     4472.0    1.0  "
      ]
     },
     "execution_count": 118,
     "metadata": {},
     "output_type": "execute_result"
    }
   ],
   "source": [
    "az.summary(idata3).loc[[\"mean\", \"mean_skew\", \"std\", \"std_skew\", \"height\", \"height2\", \"height3\", \"mode_skew\", \"area\", \"alpha\", \"baseline\"],:]"
   ]
  },
  {
   "cell_type": "code",
   "execution_count": 99,
   "metadata": {},
   "outputs": [
    {
     "data": {
      "text/plain": [
       "2008.1190000000001"
      ]
     },
     "execution_count": 99,
     "metadata": {},
     "output_type": "execute_result"
    }
   ],
   "source": [
    "az.summary(idata3).loc[\"height3\",\"mean\"] + az.summary(idata3).loc[\"baseline\",\"mean\"]"
   ]
  },
  {
   "cell_type": "code",
   "execution_count": 109,
   "metadata": {},
   "outputs": [
    {
     "data": {
      "text/plain": [
       "[140.968,\n",
       " 140.968,\n",
       " 140.968,\n",
       " 140.968,\n",
       " 140.968,\n",
       " 140.968,\n",
       " 140.968,\n",
       " 140.968,\n",
       " 140.968,\n",
       " 140.968,\n",
       " 140.968,\n",
       " 140.968,\n",
       " 140.969,\n",
       " 140.97,\n",
       " 140.975,\n",
       " 140.988,\n",
       " 141.024,\n",
       " 141.119,\n",
       " 141.358,\n",
       " 141.936,\n",
       " 143.262,\n",
       " 146.16,\n",
       " 152.153,\n",
       " 163.874,\n",
       " 185.447,\n",
       " 222.772,\n",
       " 283.224,\n",
       " 374.608,\n",
       " 503.334,\n",
       " 671.599,\n",
       " 875.441,\n",
       " 1103.276,\n",
       " 1337.658,\n",
       " 1557.932,\n",
       " 1745.244,\n",
       " 1885.77,\n",
       " 1973.261,\n",
       " 2008.459,\n",
       " 1997.476,\n",
       " 1949.188,\n",
       " 1873.061,\n",
       " 1777.568,\n",
       " 1669.753,\n",
       " 1554.907,\n",
       " 1437.13,\n",
       " 1319.323,\n",
       " 1203.776,\n",
       " 1092.242,\n",
       " 985.944,\n",
       " 885.937,\n",
       " 792.845,\n",
       " 707.183,\n",
       " 629.117,\n",
       " 558.734,\n",
       " 495.852,\n",
       " 440.224,\n",
       " 391.489,\n",
       " 349.15,\n",
       " 312.722,\n",
       " 281.634,\n",
       " 255.352,\n",
       " 233.305,\n",
       " 214.981,\n",
       " 199.865,\n",
       " 187.509,\n",
       " 177.481,\n",
       " 169.413,\n",
       " 162.974,\n",
       " 157.873,\n",
       " 153.865,\n",
       " 150.739,\n",
       " 148.32,\n",
       " 146.462,\n",
       " 145.046,\n",
       " 143.974,\n",
       " 143.169,\n",
       " 142.569,\n",
       " 142.125,\n",
       " 141.798,\n",
       " 141.56,\n",
       " 141.387,\n",
       " 141.263,\n",
       " 141.174,\n",
       " 141.111,\n",
       " 141.067,\n",
       " 141.036,\n",
       " 141.014,\n",
       " 140.999,\n",
       " 140.989,\n",
       " 140.982,\n",
       " 140.977,\n",
       " 140.974,\n",
       " 140.972,\n",
       " 140.971,\n",
       " 140.97,\n",
       " 140.969,\n",
       " 140.969,\n",
       " 140.968,\n",
       " 140.968]"
      ]
     },
     "execution_count": 109,
     "metadata": {},
     "output_type": "execute_result"
    }
   ],
   "source": [
    "data_list = list(az.summary(idata3).iloc[:,0])\n",
    "y = data_list[15:]\n",
    "y"
   ]
  },
  {
   "cell_type": "code",
   "execution_count": 110,
   "metadata": {},
   "outputs": [
    {
     "data": {
      "text/plain": [
       "2008.459"
      ]
     },
     "execution_count": 110,
     "metadata": {},
     "output_type": "execute_result"
    }
   ],
   "source": [
    "np.max(y)"
   ]
  },
  {
   "cell_type": "code",
   "execution_count": 102,
   "metadata": {},
   "outputs": [
    {
     "data": {
      "text/plain": [
       "2143.0"
      ]
     },
     "execution_count": 102,
     "metadata": {},
     "output_type": "execute_result"
    }
   ],
   "source": [
    "np.max(intensity_np)"
   ]
  },
  {
   "cell_type": "code",
   "execution_count": 62,
   "metadata": {},
   "outputs": [
    {
     "name": "stdout",
     "output_type": "stream",
     "text": [
      "1856.0\n",
      "1807.0\n",
      "1947.0\n"
     ]
    }
   ],
   "source": [
    "for a in intensity_np:\n",
    "    if 0.95 * 1881 <= a <= 1.05 * 1881:\n",
    "        print(a)"
   ]
  },
  {
   "cell_type": "code",
   "execution_count": 59,
   "metadata": {},
   "outputs": [
    {
     "data": {
      "text/plain": [
       "42.93535276435958"
      ]
     },
     "execution_count": 59,
     "metadata": {},
     "output_type": "execute_result"
    }
   ],
   "source": [
    "np.sqrt(az.summary(idata3).loc[\"height\",\"sd\"] ** 2 + az.summary(idata3).loc[\"baseline\",\"sd\"] ** 2)"
   ]
  },
  {
   "cell_type": "code",
   "execution_count": 31,
   "metadata": {},
   "outputs": [
    {
     "data": {
      "text/html": [
       "<div>\n",
       "<style scoped>\n",
       "    .dataframe tbody tr th:only-of-type {\n",
       "        vertical-align: middle;\n",
       "    }\n",
       "\n",
       "    .dataframe tbody tr th {\n",
       "        vertical-align: top;\n",
       "    }\n",
       "\n",
       "    .dataframe thead th {\n",
       "        text-align: right;\n",
       "    }\n",
       "</style>\n",
       "<table border=\"1\" class=\"dataframe\">\n",
       "  <thead>\n",
       "    <tr style=\"text-align: right;\">\n",
       "      <th></th>\n",
       "      <th>mean</th>\n",
       "      <th>sd</th>\n",
       "      <th>hdi_3%</th>\n",
       "      <th>hdi_97%</th>\n",
       "      <th>mcse_mean</th>\n",
       "      <th>mcse_sd</th>\n",
       "      <th>ess_bulk</th>\n",
       "      <th>ess_tail</th>\n",
       "      <th>r_hat</th>\n",
       "    </tr>\n",
       "  </thead>\n",
       "  <tbody>\n",
       "    <tr>\n",
       "      <th>mean</th>\n",
       "      <td>26.279</td>\n",
       "      <td>0.009</td>\n",
       "      <td>26.262</td>\n",
       "      <td>26.296</td>\n",
       "      <td>0.000</td>\n",
       "      <td>0.000</td>\n",
       "      <td>7181.0</td>\n",
       "      <td>5293.0</td>\n",
       "      <td>1.0</td>\n",
       "    </tr>\n",
       "    <tr>\n",
       "      <th>std</th>\n",
       "      <td>0.311</td>\n",
       "      <td>0.010</td>\n",
       "      <td>0.291</td>\n",
       "      <td>0.330</td>\n",
       "      <td>0.000</td>\n",
       "      <td>0.000</td>\n",
       "      <td>5010.0</td>\n",
       "      <td>4802.0</td>\n",
       "      <td>1.0</td>\n",
       "    </tr>\n",
       "    <tr>\n",
       "      <th>height</th>\n",
       "      <td>1840.697</td>\n",
       "      <td>47.630</td>\n",
       "      <td>1754.254</td>\n",
       "      <td>1933.868</td>\n",
       "      <td>0.509</td>\n",
       "      <td>0.360</td>\n",
       "      <td>8722.0</td>\n",
       "      <td>7103.0</td>\n",
       "      <td>1.0</td>\n",
       "    </tr>\n",
       "    <tr>\n",
       "      <th>area</th>\n",
       "      <td>1432.880</td>\n",
       "      <td>45.938</td>\n",
       "      <td>1342.742</td>\n",
       "      <td>1516.634</td>\n",
       "      <td>0.684</td>\n",
       "      <td>0.484</td>\n",
       "      <td>4522.0</td>\n",
       "      <td>4283.0</td>\n",
       "      <td>1.0</td>\n",
       "    </tr>\n",
       "    <tr>\n",
       "      <th>alpha</th>\n",
       "      <td>1.998</td>\n",
       "      <td>1.492</td>\n",
       "      <td>0.000</td>\n",
       "      <td>4.681</td>\n",
       "      <td>0.018</td>\n",
       "      <td>0.013</td>\n",
       "      <td>4550.0</td>\n",
       "      <td>2682.0</td>\n",
       "      <td>1.0</td>\n",
       "    </tr>\n",
       "  </tbody>\n",
       "</table>\n",
       "</div>"
      ],
      "text/plain": [
       "            mean      sd    hdi_3%   hdi_97%  mcse_mean  mcse_sd  ess_bulk  \\\n",
       "mean      26.279   0.009    26.262    26.296      0.000    0.000    7181.0   \n",
       "std        0.311   0.010     0.291     0.330      0.000    0.000    5010.0   \n",
       "height  1840.697  47.630  1754.254  1933.868      0.509    0.360    8722.0   \n",
       "area    1432.880  45.938  1342.742  1516.634      0.684    0.484    4522.0   \n",
       "alpha      1.998   1.492     0.000     4.681      0.018    0.013    4550.0   \n",
       "\n",
       "        ess_tail  r_hat  \n",
       "mean      5293.0    1.0  \n",
       "std       4802.0    1.0  \n",
       "height    7103.0    1.0  \n",
       "area      4283.0    1.0  \n",
       "alpha     2682.0    1.0  "
      ]
     },
     "execution_count": 31,
     "metadata": {},
     "output_type": "execute_result"
    }
   ],
   "source": [
    "az.summary(idata2).loc[[\"mean\", \"std\", \"height\", \"area\", \"alpha\"],:]"
   ]
  },
  {
   "cell_type": "code",
   "execution_count": 51,
   "metadata": {},
   "outputs": [
    {
     "name": "stdout",
     "output_type": "stream",
     "text": [
      "{24.505850000000002: 229.875, 24.5513: 229.875, 24.596766666666667: 229.875, 24.642216666666666: 229.875, 24.687683333333332: 229.875, 24.733133333333335: 229.875, 24.778599999999997: 229.875, 24.824066666666667: 229.875, 24.869516666666666: 229.875, 24.914983333333332: 229.875, 24.960433333333334: 229.875, 25.0059: 229.875, 25.05135: 229.875, 25.096816666666665: 229.875, 25.142266666666668: 229.876, 25.18773333333333: 229.88, 25.233183333333333: 229.893, 25.278650000000003: 229.931, 25.324116666666665: 230.038, 25.369566666666667: 230.325, 25.415033333333334: 231.056, 25.460483333333332: 232.817, 25.50595: 236.82, 25.5514: 245.373, 25.596866666666664: 262.534, 25.642316666666666: 294.747, 25.687783333333336: 351.259, 25.733249999999998: 443.608, 25.7787: 583.851, 25.824166666666667: 781.574, 25.869616666666666: 1039.431, 25.91508333333333: 1350.212, 25.960533333333334: 1694.876, 26.005999999999997: 2045.678, 26.05145: 2370.666, 26.09691666666667: 2641.533, 26.14238333333333: 2838.561, 26.187833333333334: 2953.847, 26.2333: 2990.561, 26.27875: 2959.464, 26.324216666666665: 2874.966, 26.369666666666667: 2751.758, 26.415133333333333: 2602.509, 26.460583333333332: 2437.43, 26.506050000000002: 2263.972, 26.551499999999997: 2087.808, 26.596966666666667: 1912.893, 26.642433333333333: 1742.354, 26.687883333333332: 1578.588, 26.733349999999998: 1423.253, 26.7788: 1277.785, 26.824266666666666: 1142.993, 26.869716666666665: 1019.534, 26.915183333333335: 907.552, 26.96063333333333: 807.082, 27.0061: 717.765, 27.051566666666666: 639.16, 27.097016666666665: 570.66, 27.142483333333335: 511.477, 27.187933333333334: 460.847, 27.2334: 417.892, 27.27885: 381.797, 27.324316666666668: 351.711, 27.369766666666667: 326.868, 27.415233333333333: 306.513, 27.4607: 289.984, 27.506149999999998: 276.679, 27.551616666666668: 266.048, 27.597066666666667: 257.631, 27.642533333333333: 251.016, 27.68798333333333: 245.862, 27.73345: 241.876, 27.7789: 238.82, 27.824366666666666: 236.494, 27.86981666666667: 234.738, 27.91528333333333: 233.422, 27.96075: 232.444, 28.0062: 231.723, 28.051666666666666: 231.195, 28.09711666666667: 230.811, 28.142583333333334: 230.534, 28.188033333333333: 230.336, 28.2335: 230.195, 28.278950000000002: 230.095, 28.324416666666664: 230.026, 28.369883333333334: 229.978, 28.415333333333333: 229.944, 28.4608: 229.921, 28.50625: 229.906, 28.551716666666668: 229.895, 28.597166666666666: 229.888, 28.642633333333333: 229.883, 28.688083333333335: 229.88, 28.733549999999997: 229.878, 28.779016666666667: 229.877, 28.82446666666667: 229.876, 28.869933333333332: 229.876, 28.915383333333335: 229.875, 28.96085: 229.875}\n"
     ]
    },
    {
     "data": {
      "image/png": "[encoded data removed]",
      "text/plain": [
       "<Figure size 640x480 with 1 Axes>"
      ]
     },
     "metadata": {},
     "output_type": "display_data"
    }
   ],
   "source": [
    "data_list = list(az.summary(idata).iloc[:,0])\n",
    "y = data_list[7:]\n",
    "y\n",
    "pyplot.plot(time_np, y)\n",
    "pyplot.axvline(x = 26.22195893367449)\n",
    "print(dict(zip(time_np, y)))"
   ]
  },
  {
   "cell_type": "code",
   "execution_count": 33,
   "metadata": {},
   "outputs": [
    {
     "name": "stdout",
     "output_type": "stream",
     "text": [
      "1.694191796628053 1.644267468365121\n"
     ]
    }
   ],
   "source": [
    "raw_skewness = st.skew(intensity_np)\n",
    "fit_skewness = st.skew(y)\n",
    "print(raw_skewness, fit_skewness)"
   ]
  },
  {
   "cell_type": "code",
   "execution_count": 87,
   "metadata": {},
   "outputs": [],
   "source": [
    "def calculate_mue_z(alpha):\n",
    "    return np.sqrt(2/np.pi) * alpha / (np.sqrt(1 + alpha ** 2))\n",
    "\n",
    "def calculate_sigma_z(mue_z):\n",
    "    return np.sqrt(1 - mue_z ** 2)\n",
    "\n",
    "def skew_mode(alpha, intensity):\n",
    "    mue_z = calculate_mue_z(alpha)\n",
    "    sigma_z = calculate_sigma_z(mue_z)\n",
    "    fit_skewness = st.skew(intensity)\n",
    "\n",
    "    return mue_z - (fit_skewness * sigma_z) / 2 - 1 / 2 * np.exp(- (2 * np.pi)/abs(alpha))\n",
    "\n",
    "def mue_skew(mean, sigma, alpha):\n",
    "    return mean + sigma * np.sqrt(2/np.pi) * alpha / (np.sqrt(1 + alpha ** 2))\n",
    "\n",
    "def mode_pos(mue, skew_mode, alpha):\n",
    "    if alpha < 0:\n",
    "        return mue + skew_mode\n",
    "    elif alpha > 0:\n",
    "        return mue - skew_mode"
   ]
  },
  {
   "cell_type": "code",
   "execution_count": 88,
   "metadata": {},
   "outputs": [
    {
     "name": "stdout",
     "output_type": "stream",
     "text": [
      "2.972\n",
      "[26.346, 1716.41, 141.367, 141.367, 141.367, 141.367, 141.367, 141.367, 141.367, 141.367, 141.367, 141.367, 141.367, 141.367, 141.367, 141.369, 141.374, 141.387, 141.423, 141.518, 141.757, 142.333, 143.655, 146.543, 152.514, 164.189, 185.68, 222.862, 283.094, 374.173, 502.528, 670.412, 873.946, 1101.639, 1336.109, 1556.709, 1744.531, 1885.65, 1973.706, 2009.354, 1998.657, 1950.486, 1874.328, 1778.692, 1670.66, 1555.558, 1437.512, 1319.441, 1203.651, 1091.901, 985.421, 885.268, 792.068, 706.334, 628.23, 557.841, 494.978, 439.394, 390.719, 348.455, 312.112, 281.114, 254.923, 232.968, 214.733, 199.702, 187.423, 177.468, 169.464, 163.082, 158.031, 154.066, 150.977, 148.589, 146.757, 145.362, 144.308, 143.517, 142.929, 142.493, 142.174, 141.941, 141.773, 141.652, 141.566, 141.505, 141.462, 141.432, 141.411, 141.397, 141.387, 141.38, 141.376, 141.373, 141.371, 141.369, 141.368, 141.368, 141.367, 141.367, 141.367]\n"
     ]
    },
    {
     "data": {
      "text/plain": [
       "26.16393909888036"
      ]
     },
     "execution_count": 88,
     "metadata": {},
     "output_type": "execute_result"
    }
   ],
   "source": [
    "alpha = az.summary(idata3).loc[\"alpha\",\"mean\"]\n",
    "mean = az.summary(idata3).loc[\"mean\",\"mean\"]\n",
    "sigma = az.summary(idata3).loc[\"std\",\"mean\"]\n",
    "print(alpha)\n",
    "data_list = list(az.summary(idata3).iloc[:,0])\n",
    "y = data_list[8:]\n",
    "print(y)\n",
    "\n",
    "mode_test = skew_mode(alpha, y)\n",
    "mue = mue_skew(mean, sigma, alpha)\n",
    "mode_pos(mue, mode_test, alpha)"
   ]
  },
  {
   "cell_type": "code",
   "execution_count": 15,
   "metadata": {},
   "outputs": [
    {
     "data": {
      "text/plain": [
       "25.236685669045258"
      ]
     },
     "execution_count": 15,
     "metadata": {},
     "output_type": "execute_result"
    }
   ],
   "source": [
    "delta = time_np[-1]-time_np[0]\n",
    "time_np[0]+mode_test*delta"
   ]
  },
  {
   "cell_type": "code",
   "execution_count": 38,
   "metadata": {},
   "outputs": [
    {
     "data": {
      "text/plain": [
       "26.655320343080646"
      ]
     },
     "execution_count": 38,
     "metadata": {},
     "output_type": "execute_result"
    }
   ],
   "source": [
    "delta = time_np[-1]-time_np[0]\n",
    "25.951+mode_test*delta"
   ]
  },
  {
   "cell_type": "code",
   "execution_count": 3,
   "metadata": {},
   "outputs": [],
   "source": [
    "def initial_guesses(time, intensity):\n",
    "    \"\"\"\n",
    "    Provide initial guesses for priors.\n",
    "\n",
    "    Parameters\n",
    "    ----------\n",
    "    time\n",
    "        numpy array with the time values of the relevant timeframe\n",
    "    intensity\n",
    "        numpy array with the intensity values of the relevant timeframe\n",
    "\n",
    "    Returns\n",
    "    -------\n",
    "    baseline_fit.slope : float or int\n",
    "        guess for the slope of the linear baseline prior\n",
    "    baseline_fit.intercept : float or int\n",
    "        guess for the intercept of the linear baseline prior\n",
    "    noise_width_guess : float or int\n",
    "        guess for the width of the noise\n",
    "    \"\"\"\n",
    "    # first create a simple baseline guess only to be able to \"correct\" the intensity data (y_corrected = y - y_baseline)\n",
    "    # then, use the corrected data to determine which data points are going to be defined as noise\n",
    "    # this is the only use of the corrected data\n",
    "    average_initial_intensity = np.mean([intensity[n] for n in range(3)])\n",
    "    average_final_intensity = np.mean(\n",
    "        [intensity[n] for n in range(len(intensity) - 3, len(intensity))]\n",
    "    )\n",
    "    slope_guess = (average_final_intensity - average_initial_intensity) / (time[-1] - time[0])\n",
    "    # calculate intercept_guess based on the slope_guess and the formula for a linear equation\n",
    "    first_intercept_guess = average_initial_intensity - slope_guess * time[0]\n",
    "    intensity_corrected = [\n",
    "        intensity[n] - (slope_guess * time[n] + first_intercept_guess) for n in range(len(time))\n",
    "    ]\n",
    "\n",
    "    # select lowest 35 % of all data points as noise -> noise_tuple\n",
    "    intensity_tuple = list(enumerate(intensity_corrected))\n",
    "    intensity_tuple.sort(key=lambda x: x[1])\n",
    "    noise_range = int(np.round(0.35 * len(intensity_corrected), decimals=0))\n",
    "    noise_tuple = intensity_tuple[:noise_range]\n",
    "    noise_index = sorted([x[0] for x in noise_tuple])\n",
    "    # use the indeces in noise_index to get the time and intensity of all noise data points\n",
    "    noise_time = [time[n] for n in noise_index]\n",
    "    noise_intensity = [intensity[n] for n in noise_index]\n",
    "    # calculate the width of the noise\n",
    "    noise_width_guess = max(noise_intensity) - min(noise_intensity)\n",
    "\n",
    "    # use scipy to fit a linear regression through the noise as a prior for the eventual baseline\n",
    "    baseline_fit = st.linregress(noise_time, noise_intensity)\n",
    "\n",
    "    return baseline_fit.slope, baseline_fit.intercept, noise_width_guess"
   ]
  },
  {
   "cell_type": "code",
   "execution_count": 34,
   "metadata": {},
   "outputs": [],
   "source": [
    "def std_skew_calculation(std, alpha):\n",
    "    \"\"\"Calculate the standard deviation of a skew normal distribution.\"\"\"\n",
    "    return np.sqrt(std**2 * (1 - (2 * alpha**2) / ((alpha**2 + 1) * np.pi)))\n",
    "\n",
    "\n",
    "def mean_skew_calculation(mean, std, alpha):\n",
    "    \"\"\"Calculate the arithmetic mean of a skew normal distribution.\"\"\"\n",
    "    return mean + std * np.sqrt(2 / np.pi) * alpha / (np.sqrt(1 + alpha**2))\n",
    "\n",
    "\n",
    "def mue_z_calculation(alpha):\n",
    "    \"\"\"Calculate the mue_z variable which is needed to compute a numerical approximation of the mode of a skew normal distribution.\"\"\"\n",
    "    return np.sqrt(2 / np.pi) * alpha / (np.sqrt(1 + alpha**2))\n",
    "\n",
    "\n",
    "def sigma_z_calculation(mue_z):\n",
    "    \"\"\"Calculate the sigma_z variable which is needed to compute a numerical approximation of the mode of a skew normal distribution.\"\"\"\n",
    "    return np.sqrt(1 - mue_z**2)\n",
    "\n",
    "\n",
    "def fit_skewness_calculation(intensity):\n",
    "    \"\"\"Calculate the skewness of a skew normal distribution via scipy.\"\"\"\n",
    "    return st.skew(intensity)\n",
    "\n",
    "\n",
    "def mode_offset_calculation(mue_z, fit_skewness, sigma_z, alpha):\n",
    "    \"\"\"Calculate the offset between arithmetic mean and mode of a skew normal distribution.\"\"\"\n",
    "    return (\n",
    "        mue_z\n",
    "        - (fit_skewness * sigma_z) / 2\n",
    "        - (alpha / abs(alpha)) / 2 * pt.exp(-(2 * np.pi) / abs(alpha))\n",
    "    )\n",
    "\n",
    "\n",
    "def mode_skew_calculation(mean_skew, mode_offset, alpha):\n",
    "    \"\"\"Calculate a numerical approximation of the mode of a skew normal distribution.\"\"\"\n",
    "    return mean_skew - (alpha / abs(alpha)) * mode_offset\n",
    "\n",
    "\n",
    "def height_calculation(area, mean, std, alpha, mode_skew):\n",
    "    \"\"\"\n",
    "    Calculate the height of a skew normal distribution.\n",
    "    The formula is the result of inserting time = mode_skew into the posterior. Since the mode of a skew normal distribution is calculated as a numerical approximation,\n",
    "    its accuracy is not perfect and thus the height's either. In tests, the height was still accurate up to and including the first two decimals.\n",
    "    \"\"\"\n",
    "    return area * (\n",
    "        2\n",
    "        * (1 / (std * np.sqrt(2 * np.pi)) * pt.exp(-0.5 * ((mode_skew - mean) / std) ** 2))\n",
    "        * (0.5 * (1 + pt.erf(((alpha * (mode_skew - mean) / std)) / np.sqrt(2))))\n",
    "    )\n",
    "\n",
    "\n",
    "def skew_normal_posterior(baseline, area, time, mean, std, alpha):\n",
    "    \"\"\"\n",
    "    Define a skew normally distributed posterior.\n",
    "\n",
    "    Parameters\n",
    "    ----------\n",
    "    baseline\n",
    "        baseline of the data\n",
    "    area\n",
    "        peak area\n",
    "    time\n",
    "        numpy array with the time values of the relevant timeframe\n",
    "    intensity\n",
    "        numpy array with the intensity values of the relevant timeframe\n",
    "    mean\n",
    "        location parameter, i.e. arithmetic mean\n",
    "    std\n",
    "        scale parameter, i.e. standard deviation\n",
    "    alpha\n",
    "        skewness parameter\n",
    "\n",
    "    Returns\n",
    "    -------\n",
    "    y\n",
    "        Probability density function (PDF) of a univariate ordered normal distribution as the posterior\n",
    "    \"\"\"\n",
    "    # posterior\n",
    "    y = baseline + area * (\n",
    "        2\n",
    "        * (1 / (std * np.sqrt(2 * np.pi)) * pt.exp(-0.5 * ((time - mean) / std) ** 2))\n",
    "        * (0.5 * (1 + pt.erf(((alpha * (time - mean) / std)) / np.sqrt(2))))\n",
    "    )\n",
    "    return y\n",
    "\n",
    "\n",
    "def define_model_skew(time, intensity):\n",
    "    \"\"\"\n",
    "    Define a model for fitting a skew normal distribution to the peak data.\n",
    "\n",
    "    Parameters\n",
    "    ----------\n",
    "    time\n",
    "        numpy array with the time values of the relevant timeframe\n",
    "    intensity\n",
    "        numpy array with the intensity values of the relevant timeframe\n",
    "\n",
    "    Returns\n",
    "    -------\n",
    "    pmodel\n",
    "        pymc model\n",
    "    \"\"\"\n",
    "    print(\"Start\")\n",
    "    intercept_guess, slope_guess, noise_width_guess = initial_guesses(time, intensity)\n",
    "    print(\"after guesses\")\n",
    "    with pm.Model() as pmodel:\n",
    "        # priors plus error handling in case of mathematically impermissible values\n",
    "        if intercept_guess == 0:\n",
    "            baseline_intercept = pm.Normal(\"baseline_intercept\", intercept_guess, 20)\n",
    "        else:\n",
    "            baseline_intercept = pm.Normal(\n",
    "                \"baseline_intercept\", intercept_guess, abs(intercept_guess) / 2\n",
    "            )\n",
    "        baseline_slope = pm.Normal(\"baseline_slope\", slope_guess, abs(slope_guess * 2) + 1)\n",
    "        baseline = pm.Deterministic(\"baseline\", baseline_intercept + baseline_slope * time)\n",
    "        print(\"after baseline\")\n",
    "        # since log(0) leads to -inf, this case is handled by setting noise_width_guess to 10\n",
    "        if noise_width_guess > 0:\n",
    "            noise = pm.LogNormal(\"noise\", np.log(noise_width_guess), 1)\n",
    "        elif noise_width_guess == 0:\n",
    "            noise = pm.LogNormal(\"noise\", np.log(10), 1)\n",
    "        mean = pm.Normal(\"mean\", np.mean(time[[0, -1]]), np.ptp(time) / 2)\n",
    "        std = pm.HalfNormal(\"std\", np.ptp(time) / 3)\n",
    "        alpha = pm.HalfNormal(\"alpha\", 2.5)\n",
    "        area = pm.HalfNormal(\"area\", np.max(intensity) * 0.9)\n",
    "        # calculate standard deviation and arithmetic mean of a skew normal distribution\n",
    "        std_skew_formula = std_skew_calculation(std, alpha)\n",
    "        pm.Deterministic(\"std_skew\", std_skew_formula)\n",
    "        # height is defined as the posterior with x = mode\n",
    "        # (difference to normal distribution: for normal distribution mean and mode are identical and inserting x = mean = mode leads to a simplification of the PDF)\n",
    "        # first calculate the mode (via calculating the mean of a skew normal and using a numerical approach to calculating the offset between mean and mode)\n",
    "        mean_skew_formula = mean_skew_calculation(mean, std, alpha)\n",
    "        mean_skew = pm.Deterministic(\"mean_skew\", mean_skew_formula)\n",
    "        mue_z_formula = mue_z_calculation(alpha)\n",
    "        mue_z = pm.Deterministic(\"mue_z\", mue_z_formula)\n",
    "        sigma_z_formula = sigma_z_calculation(mue_z)\n",
    "        sigma_z = pm.Deterministic(\"sigma_z\", sigma_z_formula)\n",
    "        fit_skewness = fit_skewness_calculation(intensity)\n",
    "        mode_offset_formula = mode_offset_calculation(mue_z, fit_skewness, sigma_z, alpha)\n",
    "        # this formula originally contained the sign() function which led to an error -> use alpha/abs(alpha) instead for the same effect\n",
    "        mode_offset = pm.Deterministic(\"mode_offset\", mode_offset_formula)\n",
    "        mode_skew_formula = mode_skew_calculation(mean_skew, mode_offset, alpha)\n",
    "        # if alpha < 0: mode = mean + offset; if alpha > 0: mode = mean - offset;\n",
    "        mode_skew = pm.Deterministic(\"mode_skew\", mode_skew_formula)\n",
    "        # then calculate the height based on the mode\n",
    "        height_formula = height_calculation(area, mean, std, alpha, mode_skew)\n",
    "        pm.Deterministic(\n",
    "            \"height\",\n",
    "            height_formula,\n",
    "        )\n",
    "        y = skew_normal_posterior(baseline, area, time, mean, std, alpha)\n",
    "        y = pm.Deterministic(\"y\", y)\n",
    "\n",
    "        # likelihood\n",
    "        L = pm.Normal(\"L\", mu=y, sigma=noise, observed=intensity)\n",
    "\n",
    "    return pmodel"
   ]
  },
  {
   "cell_type": "code",
   "execution_count": 33,
   "metadata": {},
   "outputs": [],
   "source": [
    "intercept_guess, slope_guess, noise_width_guess = initial_guesses(time, intensity)\n",
    "with pm.Model() as pmodel:\n",
    "    # priors plus error handling in case of mathematically impermissible values\n",
    "    if intercept_guess == 0:\n",
    "        baseline_intercept = pm.Normal(\"baseline_intercept\", intercept_guess, 20)\n",
    "    else:\n",
    "        baseline_intercept = pm.Normal(\n",
    "            \"baseline_intercept\", intercept_guess, abs(intercept_guess) / 2\n",
    "        )\n",
    "    baseline_slope = pm.Normal(\"baselineslope\", slope_guess, abs(slope_guess * 2) + 1)"
   ]
  },
  {
   "cell_type": "code",
   "execution_count": 20,
   "metadata": {},
   "outputs": [
    {
     "data": {
      "text/plain": [
       "-45.62944290095419"
      ]
     },
     "execution_count": 20,
     "metadata": {},
     "output_type": "execute_result"
    }
   ],
   "source": [
    "slope_guess"
   ]
  },
  {
   "cell_type": "code",
   "execution_count": 35,
   "metadata": {},
   "outputs": [
    {
     "name": "stdout",
     "output_type": "stream",
     "text": [
      "Start\n",
      "after guesses\n",
      "after baseline\n"
     ]
    },
    {
     "data": {
      "text/latex": [
       "$$\n",
       "            \\begin{array}{rcl}\n",
       "            \\text{baseline_intercept} &\\sim & \\operatorname{N}(5.62,~2.81)\\\\\\text{baseline_slope} &\\sim & \\operatorname{N}(-45.6,~92.3)\\\\\\text{noise} &\\sim & \\operatorname{LogN}(4.68,~1)\\\\\\text{mean} &\\sim & \\operatorname{N}(26.7,~2.23)\\\\\\text{std} &\\sim & \\operatorname{N^{+}}(0,~1.48)\\\\\\text{alpha} &\\sim & \\operatorname{N^{+}}(0,~2.5)\\\\\\text{area} &\\sim & \\operatorname{N^{+}}(0,~1.93e+03)\\\\\\text{baseline} &\\sim & \\operatorname{Deterministic}(f(\\text{baseline_intercept},~\\text{baseline_slope}))\\\\\\text{std_skew} &\\sim & \\operatorname{Deterministic}(f(\\text{std},~\\text{alpha}))\\\\\\text{mean_skew} &\\sim & \\operatorname{Deterministic}(f(\\text{mean},~\\text{alpha},~\\text{std}))\\\\\\text{mue_z} &\\sim & \\operatorname{Deterministic}(f(\\text{alpha}))\\\\\\text{sigma_z} &\\sim & \\operatorname{Deterministic}(f(\\text{alpha}))\\\\\\text{mode_offset} &\\sim & \\operatorname{Deterministic}(f(\\text{alpha}))\\\\\\text{mode_skew} &\\sim & \\operatorname{Deterministic}(f(\\text{alpha},~\\text{mean},~\\text{std}))\\\\\\text{height} &\\sim & \\operatorname{Deterministic}(f(\\text{area},~\\text{std},~\\text{alpha},~\\text{mean}))\\\\\\text{y} &\\sim & \\operatorname{Deterministic}(f(\\text{area},~\\text{baseline_intercept},~\\text{baseline_slope},~\\text{std},~\\text{alpha},~\\text{mean}))\\\\\\text{L} &\\sim & \\operatorname{N}(\\text{y},~\\text{noise})\n",
       "            \\end{array}\n",
       "            $$"
      ],
      "text/plain": [
       "baseline_intercept ~ N(5.62, 2.81)\n",
       "    baseline_slope ~ N(-45.6, 92.3)\n",
       "             noise ~ LogN(4.68, 1)\n",
       "              mean ~ N(26.7, 2.23)\n",
       "               std ~ N**+(0, 1.48)\n",
       "             alpha ~ N**+(0, 2.5)\n",
       "              area ~ N**+(0, 1.93e+03)\n",
       "          baseline ~ Deterministic(f(baseline_intercept, baseline_slope))\n",
       "          std_skew ~ Deterministic(f(std, alpha))\n",
       "         mean_skew ~ Deterministic(f(mean, alpha, std))\n",
       "             mue_z ~ Deterministic(f(alpha))\n",
       "           sigma_z ~ Deterministic(f(alpha))\n",
       "       mode_offset ~ Deterministic(f(alpha))\n",
       "         mode_skew ~ Deterministic(f(alpha, mean, std))\n",
       "            height ~ Deterministic(f(area, std, alpha, mean))\n",
       "                 y ~ Deterministic(f(area, baseline_intercept, baseline_slope, std, alpha, mean))\n",
       "                 L ~ N(y, noise)"
      ]
     },
     "execution_count": 35,
     "metadata": {},
     "output_type": "execute_result"
    }
   ],
   "source": [
    "pmodel = define_model_skew(time, intensity)\n",
    "pmodel"
   ]
  },
  {
   "cell_type": "code",
   "execution_count": 36,
   "metadata": {},
   "outputs": [
    {
     "name": "stderr",
     "output_type": "stream",
     "text": [
      "Sampling: [L, alpha, area, baseline_intercept, baseline_slope, mean, noise, std]\n",
      "Auto-assigning NUTS sampler...\n",
      "Initializing NUTS using jitter+adapt_diag...\n",
      "Multiprocess sampling (4 chains in 4 jobs)\n",
      "NUTS: [baseline_intercept, baseline_slope, noise, mean, std, alpha, area]\n"
     ]
    },
    {
     "name": "stderr",
     "output_type": "stream",
     "text": [
      "Sampling 4 chains for 2_000 tune and 2_000 draw iterations (8_000 + 8_000 draws total) took 89 seconds.\n"
     ]
    }
   ],
   "source": [
    "with pmodel:\n",
    "    idata = pm.sample_prior_predictive()\n",
    "    idata.extend(pm.sample(2000, tune = 2000))"
   ]
  },
  {
   "cell_type": "code",
   "execution_count": 37,
   "metadata": {},
   "outputs": [
    {
     "data": {
      "text/html": [
       "<div>\n",
       "<style scoped>\n",
       "    .dataframe tbody tr th:only-of-type {\n",
       "        vertical-align: middle;\n",
       "    }\n",
       "\n",
       "    .dataframe tbody tr th {\n",
       "        vertical-align: top;\n",
       "    }\n",
       "\n",
       "    .dataframe thead th {\n",
       "        text-align: right;\n",
       "    }\n",
       "</style>\n",
       "<table border=\"1\" class=\"dataframe\">\n",
       "  <thead>\n",
       "    <tr style=\"text-align: right;\">\n",
       "      <th></th>\n",
       "      <th>mean</th>\n",
       "      <th>sd</th>\n",
       "      <th>hdi_3%</th>\n",
       "      <th>hdi_97%</th>\n",
       "      <th>mcse_mean</th>\n",
       "      <th>mcse_sd</th>\n",
       "      <th>ess_bulk</th>\n",
       "      <th>ess_tail</th>\n",
       "      <th>r_hat</th>\n",
       "    </tr>\n",
       "  </thead>\n",
       "  <tbody>\n",
       "    <tr>\n",
       "      <th>mean</th>\n",
       "      <td>25.950</td>\n",
       "      <td>0.013</td>\n",
       "      <td>25.926</td>\n",
       "      <td>25.975</td>\n",
       "      <td>0.000</td>\n",
       "      <td>0.000</td>\n",
       "      <td>3294.0</td>\n",
       "      <td>3765.0</td>\n",
       "      <td>1.0</td>\n",
       "    </tr>\n",
       "    <tr>\n",
       "      <th>std</th>\n",
       "      <td>0.523</td>\n",
       "      <td>0.022</td>\n",
       "      <td>0.482</td>\n",
       "      <td>0.563</td>\n",
       "      <td>0.000</td>\n",
       "      <td>0.000</td>\n",
       "      <td>2897.0</td>\n",
       "      <td>3664.0</td>\n",
       "      <td>1.0</td>\n",
       "    </tr>\n",
       "    <tr>\n",
       "      <th>height</th>\n",
       "      <td>1871.342</td>\n",
       "      <td>38.672</td>\n",
       "      <td>1798.856</td>\n",
       "      <td>1944.799</td>\n",
       "      <td>0.414</td>\n",
       "      <td>0.293</td>\n",
       "      <td>8753.0</td>\n",
       "      <td>7130.0</td>\n",
       "      <td>1.0</td>\n",
       "    </tr>\n",
       "    <tr>\n",
       "      <th>area</th>\n",
       "      <td>1501.143</td>\n",
       "      <td>38.898</td>\n",
       "      <td>1426.361</td>\n",
       "      <td>1571.298</td>\n",
       "      <td>0.591</td>\n",
       "      <td>0.418</td>\n",
       "      <td>4321.0</td>\n",
       "      <td>5567.0</td>\n",
       "      <td>1.0</td>\n",
       "    </tr>\n",
       "    <tr>\n",
       "      <th>alpha</th>\n",
       "      <td>2.938</td>\n",
       "      <td>0.384</td>\n",
       "      <td>2.257</td>\n",
       "      <td>3.698</td>\n",
       "      <td>0.006</td>\n",
       "      <td>0.004</td>\n",
       "      <td>3546.0</td>\n",
       "      <td>3864.0</td>\n",
       "      <td>1.0</td>\n",
       "    </tr>\n",
       "    <tr>\n",
       "      <th>baseline_slope</th>\n",
       "      <td>5.016</td>\n",
       "      <td>0.517</td>\n",
       "      <td>4.035</td>\n",
       "      <td>5.969</td>\n",
       "      <td>0.007</td>\n",
       "      <td>0.005</td>\n",
       "      <td>4788.0</td>\n",
       "      <td>5574.0</td>\n",
       "      <td>1.0</td>\n",
       "    </tr>\n",
       "    <tr>\n",
       "      <th>baseline_intercept</th>\n",
       "      <td>5.608</td>\n",
       "      <td>2.772</td>\n",
       "      <td>0.481</td>\n",
       "      <td>10.888</td>\n",
       "      <td>0.032</td>\n",
       "      <td>0.023</td>\n",
       "      <td>7380.0</td>\n",
       "      <td>5406.0</td>\n",
       "      <td>1.0</td>\n",
       "    </tr>\n",
       "    <tr>\n",
       "      <th>mean_skew</th>\n",
       "      <td>26.344</td>\n",
       "      <td>0.012</td>\n",
       "      <td>26.320</td>\n",
       "      <td>26.366</td>\n",
       "      <td>0.000</td>\n",
       "      <td>0.000</td>\n",
       "      <td>4108.0</td>\n",
       "      <td>5774.0</td>\n",
       "      <td>1.0</td>\n",
       "    </tr>\n",
       "    <tr>\n",
       "      <th>mode_skew</th>\n",
       "      <td>26.202</td>\n",
       "      <td>0.010</td>\n",
       "      <td>26.182</td>\n",
       "      <td>26.222</td>\n",
       "      <td>0.000</td>\n",
       "      <td>0.000</td>\n",
       "      <td>6032.0</td>\n",
       "      <td>6171.0</td>\n",
       "      <td>1.0</td>\n",
       "    </tr>\n",
       "  </tbody>\n",
       "</table>\n",
       "</div>"
      ],
      "text/plain": [
       "                        mean      sd    hdi_3%   hdi_97%  mcse_mean  mcse_sd  \\\n",
       "mean                  25.950   0.013    25.926    25.975      0.000    0.000   \n",
       "std                    0.523   0.022     0.482     0.563      0.000    0.000   \n",
       "height              1871.342  38.672  1798.856  1944.799      0.414    0.293   \n",
       "area                1501.143  38.898  1426.361  1571.298      0.591    0.418   \n",
       "alpha                  2.938   0.384     2.257     3.698      0.006    0.004   \n",
       "baseline_slope         5.016   0.517     4.035     5.969      0.007    0.005   \n",
       "baseline_intercept     5.608   2.772     0.481    10.888      0.032    0.023   \n",
       "mean_skew             26.344   0.012    26.320    26.366      0.000    0.000   \n",
       "mode_skew             26.202   0.010    26.182    26.222      0.000    0.000   \n",
       "\n",
       "                    ess_bulk  ess_tail  r_hat  \n",
       "mean                  3294.0    3765.0    1.0  \n",
       "std                   2897.0    3664.0    1.0  \n",
       "height                8753.0    7130.0    1.0  \n",
       "area                  4321.0    5567.0    1.0  \n",
       "alpha                 3546.0    3864.0    1.0  \n",
       "baseline_slope        4788.0    5574.0    1.0  \n",
       "baseline_intercept    7380.0    5406.0    1.0  \n",
       "mean_skew             4108.0    5774.0    1.0  \n",
       "mode_skew             6032.0    6171.0    1.0  "
      ]
     },
     "execution_count": 37,
     "metadata": {},
     "output_type": "execute_result"
    }
   ],
   "source": [
    "az.summary(idata).loc[[\"mean\", \"std\", \"height\", \"area\", \"alpha\", \"baseline_slope\", \"baseline_intercept\", \"mean_skew\", \"mode_skew\"],:]"
   ]
  },
  {
   "cell_type": "code",
   "execution_count": 38,
   "metadata": {},
   "outputs": [
    {
     "data": {
      "text/plain": [
       "2008.3792320000002"
      ]
     },
     "execution_count": 38,
     "metadata": {},
     "output_type": "execute_result"
    }
   ],
   "source": [
    "total_height = az.summary(idata).loc[\"baseline_slope\",\"mean\"] * az.summary(idata).loc[\"mode_skew\",\"mean\"] + az.summary(idata).loc[\"baseline_intercept\",\"mean\"] + az.summary(idata).loc[\"height\",\"mean\"]\n",
    "total_height"
   ]
  },
  {
   "cell_type": "code",
   "execution_count": 39,
   "metadata": {},
   "outputs": [
    {
     "data": {
      "text/plain": [
       "2007.957"
      ]
     },
     "execution_count": 39,
     "metadata": {},
     "output_type": "execute_result"
    }
   ],
   "source": [
    "np.max(list(az.summary(idata).loc[:,\"mean\"]))"
   ]
  },
  {
   "cell_type": "code",
   "execution_count": 30,
   "metadata": {},
   "outputs": [
    {
     "data": {
      "text/plain": [
       "[<matplotlib.lines.Line2D at 0x1db4a908850>]"
      ]
     },
     "execution_count": 30,
     "metadata": {},
     "output_type": "execute_result"
    },
    {
     "data": {
      "image/png": "[encoded data removed]",
      "text/plain": [
       "<Figure size 640x480 with 1 Axes>"
      ]
     },
     "metadata": {},
     "output_type": "display_data"
    }
   ],
   "source": [
    "pyplot.plot(time, intensity)"
   ]
  },
  {
   "cell_type": "code",
   "execution_count": 34,
   "metadata": {},
   "outputs": [],
   "source": [
    "def normal_posterior(baseline, height, time, mean, std):\n",
    "    \"\"\"\n",
    "    Define a normally distributed posterior.\n",
    "\n",
    "    Parameters\n",
    "    ----------\n",
    "    baseline\n",
    "        baseline of the data\n",
    "    height\n",
    "        height of the normal distribution\n",
    "    time\n",
    "        numpy array with the time values of the relevant timeframe\n",
    "    mean\n",
    "        arithmetic mean of the normal distribution\n",
    "    std\n",
    "        standard deviation of the normal distribution\n",
    "\n",
    "    Returns\n",
    "    -------\n",
    "    Probability density function (PDF) of the normally distributed posterior\n",
    "    \"\"\"\n",
    "    return baseline + height * pt.exp(-0.5 * ((time - mean) / std) ** 2)\n",
    "\n",
    "\n",
    "def define_model_normal(time, intensity):\n",
    "    \"\"\"\n",
    "    Define a model for fitting a normal distribution to the peak data.\n",
    "\n",
    "    Parameters\n",
    "    ----------\n",
    "    time\n",
    "        numpy array with the time values of the relevant timeframe\n",
    "    intensity\n",
    "        numpy array with the intensity values of the relevant timeframe\n",
    "\n",
    "    Returns\n",
    "    -------\n",
    "    pmodel\n",
    "        pymc model\n",
    "    \"\"\"\n",
    "    intercept_guess, slope_guess, noise_width_guess = initial_guesses(time, intensity)\n",
    "    print(intercept_guess, slope_guess, noise_width_guess)\n",
    "    with pm.Model() as pmodel:\n",
    "        # priors plus error handling in case of mathematically impermissible values\n",
    "        if intercept_guess == 0:\n",
    "            baseline_intercept = pm.Normal(\"baseline_intercept\", intercept_guess, 20)\n",
    "        else:\n",
    "            baseline_intercept = pm.Normal(\n",
    "                \"baseline_intercept\", intercept_guess, abs(intercept_guess) / 2\n",
    "            )\n",
    "        baseline_slope = pm.Normal(\"baseline_slope\", slope_guess, abs(slope_guess * 2) + 1)\n",
    "        baseline = pm.Deterministic(\"baseline\", baseline_intercept + baseline_slope * time)\n",
    "        # since log(0) leads to -inf, this case is handled by setting noise_width_guess to 10\n",
    "        if noise_width_guess > 0:\n",
    "            noise = pm.LogNormal(\"noise\", np.log(noise_width_guess), 1)\n",
    "        elif noise_width_guess == 0:\n",
    "            noise = pm.LogNormal(\"noise\", np.log(10), 1)\n",
    "        # define priors for parameters of a normally distributed posterior\n",
    "        mean = pm.Normal(\"mean\", np.mean(time[[0, -1]]), np.ptp(time) / 2)\n",
    "        std = pm.HalfNormal(\"std\", np.ptp(time) / 3)\n",
    "        height = pm.HalfNormal(\"height\", 0.95 * np.max(intensity))\n",
    "        area = pm.Deterministic(\"area\", height / (1 / (std * np.sqrt(2 * np.pi))))\n",
    "        sn = pm.Deterministic(\"sn\", height / noise)\n",
    "        # posterior\n",
    "        y = normal_posterior(baseline, height, time, mean, std)\n",
    "        y = pm.Deterministic(\"y\", y)\n",
    "\n",
    "        # likelihood\n",
    "        L = pm.Normal(\"L\", mu=y, sigma=noise, observed=intensity)\n",
    "\n",
    "    return pmodel"
   ]
  },
  {
   "cell_type": "code",
   "execution_count": 35,
   "metadata": {},
   "outputs": [
    {
     "name": "stdout",
     "output_type": "stream",
     "text": [
      "5.623609510012073 -45.62944290095419 108.0\n"
     ]
    }
   ],
   "source": [
    "modell = define_model_normal(time, intensity)"
   ]
  },
  {
   "cell_type": "code",
   "execution_count": 33,
   "metadata": {},
   "outputs": [
    {
     "data": {
      "text/latex": [
       "$$\n",
       "            \\begin{array}{rcl}\n",
       "            \\text{baseline_intercept} &\\sim & \\operatorname{N}(5.62,~2.81)\\\\\\text{baseline_slope} &\\sim & \\operatorname{N}(-45.6,~92.3)\\\\\\text{baseline} &\\sim & \\operatorname{Deterministic}(f(\\text{baseline_intercept},~\\text{baseline_slope}))\\\\\\text{L} &\\sim & \\operatorname{N}(\\text{y},~\\text{noise})\n",
       "            \\end{array}\n",
       "            $$"
      ],
      "text/plain": [
       "baseline_intercept ~ N(5.62, 2.81)\n",
       "    baseline_slope ~ N(-45.6, 92.3)\n",
       "          baseline ~ Deterministic(f(baseline_intercept, baseline_slope))\n",
       "                 L ~ N(y, noise)"
      ]
     },
     "execution_count": 33,
     "metadata": {},
     "output_type": "execute_result"
    }
   ],
   "source": [
    "modell"
   ]
  },
  {
   "cell_type": "code",
   "execution_count": null,
   "metadata": {},
   "outputs": [],
   "source": []
  }
 ],
 "metadata": {
  "kernelspec": {
   "display_name": "pm502",
   "language": "python",
   "name": "python3"
  },
  "language_info": {
   "codemirror_mode": {
    "name": "ipython",
    "version": 3
   },
   "file_extension": ".py",
   "mimetype": "text/x-python",
   "name": "python",
   "nbconvert_exporter": "python",
   "pygments_lexer": "ipython3",
   "version": "3.10.0"
  },
  "orig_nbformat": 4
 },
 "nbformat": 4,
 "nbformat_minor": 2
}
