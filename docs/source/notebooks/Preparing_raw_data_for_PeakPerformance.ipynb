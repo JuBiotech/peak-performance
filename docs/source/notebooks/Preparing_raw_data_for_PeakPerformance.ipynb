{
 "cells": [
  {
   "cell_type": "markdown",
   "metadata": {},
   "source": [
    "# Preparing raw data"
   ]
  },
  {
   "cell_type": "markdown",
   "metadata": {},
   "source": [
    "This example briefly shows how to prepare raw for `PeakPerformance`.  \n",
    "Extracted ion chromatograms from LC-MS/MS analyses are essentially time series with time in the first and signal intensity in the second dimension.\n",
    "This is represented by a NumPy array of shape `(2, ?)` (see also the example data in the repository).\n",
    "Both time and intensity should also be NumPy arrays."
   ]
  },
  {
   "cell_type": "code",
   "execution_count": 1,
   "metadata": {},
   "outputs": [],
   "source": [
    "import numpy as np\n",
    "from pathlib import Path"
   ]
  },
  {
   "cell_type": "markdown",
   "metadata": {},
   "source": [
    "## Example for opening `*.npy` raw data files"
   ]
  },
  {
   "cell_type": "code",
   "execution_count": 8,
   "metadata": {},
   "outputs": [
    {
     "name": "stdout",
     "output_type": "stream",
     "text": [
      "time (1st dimension): [24.50585    24.55131667 24.59676667 24.64223333 24.68768333 24.73315\n",
      " 24.7786     24.82406667 24.86953333 24.91498333 24.96045    25.0059\n",
      " 25.05136667 25.09681667 25.14228333 25.18773333 25.2332     25.27866667\n",
      " 25.32411667 25.36958333 25.41503333 25.4605     25.50595    25.55141667\n",
      " 25.59686667 25.64233333 25.6878     25.73325    25.77871667 25.82416667\n",
      " 25.86963333 25.91508333 25.96055    26.006      26.05146667 26.09691667\n",
      " 26.14238333 26.18785    26.2333     26.27876667 26.32421667 26.36968333\n",
      " 26.41513333 26.4606     26.50605    26.55151667 26.59698333 26.64243333\n",
      " 26.6879     26.73335    26.77881667 26.82426667 26.86973333 26.91518333\n",
      " 26.96065    27.00611667 27.05156667 27.09703333 27.14248333 27.18795\n",
      " 27.2334     27.27886667 27.32431667 27.36978333 27.41523333 27.4607\n",
      " 27.50616667 27.55161667 27.59708333 27.64253333 27.688      27.73345\n",
      " 27.77891667 27.82436667 27.86983333 27.9153     27.96075    28.00621667\n",
      " 28.05166667 28.09713333 28.14258333 28.18805    28.2335     28.27896667\n",
      " 28.32443333 28.36988333 28.41535    28.4608     28.50626667 28.55171667\n",
      " 28.59718333 28.64263333 28.6881     28.73355    28.77901667 28.82448333\n",
      " 28.86993333 28.9154     28.96085   ], \n",
      "\n",
      "intensity (2nd dimension): [  72.  108.  144.   58.  108.  132.  120.   58.  108.   94.  288.   72.\n",
      "   72.   58.  106.   72.  202.  132.  144.  132.  118.  106.  130.   94.\n",
      "  156.  267.  403.  323.  590.  546.  758.  978. 1405. 1856. 2009. 1557.\n",
      " 1807. 2087. 1987. 1616. 2143. 1713. 1947. 1784. 1372. 1209. 1192. 1009.\n",
      " 1090.  724.  730.  744.  546.  354.  560.  492.  470.  276.  312.  314.\n",
      "  355.  342.  252.  238.  288.  190.  202.  228.  204.  262.  228.  180.\n",
      "  154.  180.  180.  142.  204.  166.  168.  120.  204.  180.  166.   84.\n",
      "   60.  108.   94.  106.   96.  108.  142.  120.  190.  192.  144.   70.\n",
      "  168.  108.  166.]\n"
     ]
    }
   ],
   "source": [
    "path = Path(\"./paper raw data/exemplary results raw data/A1t1R1Part2_110_109.9_110.1.npy\")\n",
    "timeseries = np.load(path)\n",
    "print(f\"time (1st dimension): {timeseries[0]}, \\n\\nintensity (2nd dimension): {timeseries[1]}\")"
   ]
  },
  {
   "cell_type": "markdown",
   "metadata": {},
   "source": [
    "## Example for saving time and intensity data in the correct manner"
   ]
  },
  {
   "cell_type": "code",
   "execution_count": 23,
   "metadata": {},
   "outputs": [
    {
     "name": "stdout",
     "output_type": "stream",
     "text": [
      "time: [0, 1, 2, 3, 4, 5, 6, 7, 8, 9, 10, 11, 12, 13, 14, 15, 16, 17, 18, 19], type: <class 'list'>\n",
      "time: [0.4220648705921751, 0.7368499814029064, 0.29413385189442887, 0.6015391666617104, 0.7561894333200414, 0.21586092727799466, 0.8380184043441182, 0.7151767470066769, 0.024501559891177527, 0.3493908917468723, 0.9183530952812738, 0.3931863463526398, 0.8217456348829356, 0.35978298949126863, 0.4274512094231292, 0.6855420648111887, 0.4028000417877422, 0.8127438126752059, 0.11549370457269648, 0.5849690139824473], type: <class 'list'>\n"
     ]
    }
   ],
   "source": [
    "# create sequential time and random intensity data and convert it to lists\n",
    "time_example = list(np.arange(20))\n",
    "intensity_example = list(np.random.rand(1,20)[0])\n",
    "\n",
    "print(f\"time: {time_example}, type: {type(time_example)}\")\n",
    "print(f\"time: {intensity_example}, type: {type(intensity_example)}\")"
   ]
  },
  {
   "cell_type": "code",
   "execution_count": 24,
   "metadata": {},
   "outputs": [
    {
     "name": "stdout",
     "output_type": "stream",
     "text": [
      "[[ 0.          1.          2.          3.          4.          5.\n",
      "   6.          7.          8.          9.         10.         11.\n",
      "  12.         13.         14.         15.         16.         17.\n",
      "  18.         19.        ]\n",
      " [ 0.42206487  0.73684998  0.29413385  0.60153917  0.75618943  0.21586093\n",
      "   0.8380184   0.71517675  0.02450156  0.34939089  0.9183531   0.39318635\n",
      "   0.82174563  0.35978299  0.42745121  0.68554206  0.40280004  0.81274381\n",
      "   0.1154937   0.58496901]]\n"
     ]
    }
   ],
   "source": [
    "# create the array with time in first and intensity in second dimension\n",
    "# also convert the lists to NumPy arrays\n",
    "\n",
    "timeseries_example = np.array([np.array(time_example), np.array(intensity_example)])\n",
    "print(timeseries_example)"
   ]
  },
  {
   "cell_type": "markdown",
   "metadata": {},
   "source": [
    "The naming convention of raw data files is `<acquisition name>_<precursor ion m/z or experiment number>_<product ion m/z start>_<product ion m/z end>.npy`.\n",
    "There should be no underscores within the named sections such as `acquisition name` because they are just in the program as delimiters so separate the sections.  \n",
    "Essentially, the raw data names include the acquisition and mass trace, thus yielding a recognizable and unique name for each isotopomer/fragment/metabolite/sample.  \n",
    "\n",
    "This is of course __only relevant when using the pre-manufactured data pipeline or the `UserInput` class__ and does not apply to user-generated custom data pipelines."
   ]
  },
  {
   "cell_type": "markdown",
   "metadata": {},
   "source": [
    "Suppose for the sake of this example that your acquistion is called `Sample A1` and you want to analyze the peak of alanine which was analyzed in positive ionization mode.\n",
    "The mass transition in question is then from 90 Da (pre-cursor ion m/z) to 44 Da (product ion m/z). As a TOF range for the product ion, you might choose 43.9 Da to 44.1 Da.\n",
    "Given this information and based on the naming convention detailed above, the file should be named as follows:  \n",
    "  \n",
    "`Sample A1_90_43.9_44.1.npy`"
   ]
  },
  {
   "cell_type": "code",
   "execution_count": 25,
   "metadata": {},
   "outputs": [],
   "source": [
    "# save the timeseries in the current directory using the correct name\n",
    "\n",
    "np.save(\"Sample A1_90_43.9_44.1.npy\", timeseries_example)"
   ]
  },
  {
   "cell_type": "code",
   "execution_count": 1,
   "metadata": {},
   "outputs": [
    {
     "name": "stdout",
     "output_type": "stream",
     "text": [
      "Last updated: 2024-10-25T18:54:22.467550+02:00\n",
      "\n"
     ]
    }
   ],
   "source": [
    "%load_ext watermark\n",
    "%watermark -idu"
   ]
  },
  {
   "cell_type": "code",
   "execution_count": null,
   "metadata": {},
   "outputs": [],
   "source": []
  }
 ],
 "metadata": {
  "kernelspec": {
   "display_name": "pp_env",
   "language": "python",
   "name": "python3"
  },
  "language_info": {
   "codemirror_mode": {
    "name": "ipython",
    "version": 3
   },
   "file_extension": ".py",
   "mimetype": "text/x-python",
   "name": "python",
   "nbconvert_exporter": "python",
   "pygments_lexer": "ipython3",
   "version": "3.10.15"
  }
 },
 "nbformat": 4,
 "nbformat_minor": 2
}
